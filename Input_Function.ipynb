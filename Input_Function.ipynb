{
  "nbformat": 4,
  "nbformat_minor": 0,
  "metadata": {
    "colab": {
      "provenance": [],
      "authorship_tag": "ABX9TyPm4eURZ19LphixbdNkoZDY",
      "include_colab_link": true
    },
    "kernelspec": {
      "name": "python3",
      "display_name": "Python 3"
    },
    "language_info": {
      "name": "python"
    }
  },
  "cells": [
    {
      "cell_type": "markdown",
      "metadata": {
        "id": "view-in-github",
        "colab_type": "text"
      },
      "source": [
        "<a href=\"https://colab.research.google.com/github/A11rastogi/Python-Programming/blob/main/Input_Function.ipynb\" target=\"_parent\"><img src=\"https://colab.research.google.com/assets/colab-badge.svg\" alt=\"Open In Colab\"/></a>"
      ]
    },
    {
      "cell_type": "code",
      "execution_count": null,
      "metadata": {
        "colab": {
          "base_uri": "https://localhost:8080/"
        },
        "id": "-rxJl9YIl_ev",
        "outputId": "47c24feb-8fd2-4975-bc96-1c1c451e1eed"
      },
      "outputs": [
        {
          "output_type": "stream",
          "name": "stdout",
          "text": [
            "Hello World\n"
          ]
        }
      ],
      "source": [
        "print ('Hello World')"
      ]
    },
    {
      "cell_type": "code",
      "source": [
        "print ('Abhinav' + 'Rastogi' + 'Age:30' + 'DoB: 11/11/1990')"
      ],
      "metadata": {
        "colab": {
          "base_uri": "https://localhost:8080/"
        },
        "id": "K22R9CK8C_Al",
        "outputId": "59cc69a9-7a2d-4802-e000-172b6973adbb"
      },
      "execution_count": null,
      "outputs": [
        {
          "output_type": "stream",
          "name": "stdout",
          "text": [
            "AbhinavRastogiAge:30DoB: 11/11/1990\n"
          ]
        }
      ]
    },
    {
      "cell_type": "code",
      "source": [
        "print (1500 + 1500)"
      ],
      "metadata": {
        "colab": {
          "base_uri": "https://localhost:8080/"
        },
        "id": "RWK17ZEUEqgi",
        "outputId": "d774fa54-77f4-460b-dad7-d8e6452addb4"
      },
      "execution_count": null,
      "outputs": [
        {
          "output_type": "stream",
          "name": "stdout",
          "text": [
            "3000\n"
          ]
        }
      ]
    },
    {
      "cell_type": "code",
      "source": [
        "print (2500.25 + 2500.25)"
      ],
      "metadata": {
        "colab": {
          "base_uri": "https://localhost:8080/"
        },
        "id": "REKnvMUDEugx",
        "outputId": "7b73a43d-32e5-429c-f764-7507b3e45407"
      },
      "execution_count": null,
      "outputs": [
        {
          "output_type": "stream",
          "name": "stdout",
          "text": [
            "5000.5\n"
          ]
        }
      ]
    },
    {
      "cell_type": "code",
      "source": [
        "# Expression and variables"
      ],
      "metadata": {
        "id": "bGmZM2BjN2_g"
      },
      "execution_count": null,
      "outputs": []
    },
    {
      "cell_type": "code",
      "source": [
        "x = 15\n",
        "print (x)"
      ],
      "metadata": {
        "colab": {
          "base_uri": "https://localhost:8080/"
        },
        "id": "ydQbgGeoOCo7",
        "outputId": "18942c08-9020-4e0b-986d-1b057c469f7e"
      },
      "execution_count": null,
      "outputs": [
        {
          "output_type": "stream",
          "name": "stdout",
          "text": [
            "15\n"
          ]
        }
      ]
    },
    {
      "cell_type": "code",
      "source": [
        "x=15\n",
        "y=20\n",
        "z=35\n",
        "print (x+y+z)"
      ],
      "metadata": {
        "colab": {
          "base_uri": "https://localhost:8080/"
        },
        "id": "3E92UirSOL6x",
        "outputId": "edf22fa2-b52f-4da5-b35c-e752fa79e9e1"
      },
      "execution_count": null,
      "outputs": [
        {
          "output_type": "stream",
          "name": "stdout",
          "text": [
            "70\n"
          ]
        }
      ]
    },
    {
      "cell_type": "code",
      "source": [
        "Name= 'Abhinav'\n",
        "Sex = 'Male'\n",
        "Education = 'MBA'\n",
        "City = 'Ambala'\n",
        "Income = 1200000\n",
        "print (Name,Sex,Education,City,Income)\n",
        "print (type(Name),type(Sex),type(Education),type(City),type(Income))"
      ],
      "metadata": {
        "colab": {
          "base_uri": "https://localhost:8080/"
        },
        "id": "RUXKeUSNa2C4",
        "outputId": "2c3ecc26-9de1-4cb9-f76e-339f45f75f66"
      },
      "execution_count": null,
      "outputs": [
        {
          "output_type": "stream",
          "name": "stdout",
          "text": [
            "Abhinav Male MBA Ambala 1200000\n",
            "<class 'str'> <class 'str'> <class 'str'> <class 'str'> <class 'int'>\n"
          ]
        }
      ]
    },
    {
      "cell_type": "code",
      "source": [
        "print ('Abhinav',30,'M','Ambala', sep=\"\\n\")"
      ],
      "metadata": {
        "colab": {
          "base_uri": "https://localhost:8080/"
        },
        "id": "IJokb_gjdHww",
        "outputId": "4a0142d7-7be9-465b-9707-732c59a709b0"
      },
      "execution_count": null,
      "outputs": [
        {
          "output_type": "stream",
          "name": "stdout",
          "text": [
            "Abhinav\n",
            "30\n",
            "M\n",
            "Ambala\n"
          ]
        }
      ]
    },
    {
      "cell_type": "code",
      "source": [
        "print ('Abhinav',30,'M','Ambala', sep=\"\\n\", end=\"<>\")"
      ],
      "metadata": {
        "colab": {
          "base_uri": "https://localhost:8080/"
        },
        "id": "N5b5D1SomVVA",
        "outputId": "dca17763-4cd3-458b-f5e0-947616f85a63"
      },
      "execution_count": null,
      "outputs": [
        {
          "output_type": "stream",
          "name": "stdout",
          "text": [
            "Abhinav\n",
            "30\n",
            "M\n",
            "Ambala<>"
          ]
        }
      ]
    },
    {
      "cell_type": "code",
      "source": [
        "input()"
      ],
      "metadata": {
        "colab": {
          "base_uri": "https://localhost:8080/",
          "height": 53
        },
        "id": "drfpbywenJVD",
        "outputId": "d8e88f45-bdf2-4c56-89f4-151545a65283"
      },
      "execution_count": null,
      "outputs": [
        {
          "name": "stdout",
          "output_type": "stream",
          "text": [
            "My name is Abhinav\n"
          ]
        },
        {
          "output_type": "execute_result",
          "data": {
            "text/plain": [
              "'My name is Abhinav'"
            ],
            "application/vnd.google.colaboratory.intrinsic+json": {
              "type": "string"
            }
          },
          "metadata": {},
          "execution_count": 28
        }
      ]
    },
    {
      "cell_type": "code",
      "source": [
        "name = input('Tell me your name?')\n",
        "print ('The user name is', name)"
      ],
      "metadata": {
        "colab": {
          "base_uri": "https://localhost:8080/"
        },
        "id": "HXlmfwUoqxd3",
        "outputId": "a3bc8633-a77a-4696-a8bd-ba60bdf66bc9"
      },
      "execution_count": null,
      "outputs": [
        {
          "output_type": "stream",
          "name": "stdout",
          "text": [
            "Tell me your name?Abhinav\n",
            "The user name is Abhinav\n"
          ]
        }
      ]
    },
    {
      "cell_type": "code",
      "source": [
        "Age = input('Tell me your age')\n",
        "print ('The user age is', Age)"
      ],
      "metadata": {
        "colab": {
          "base_uri": "https://localhost:8080/"
        },
        "id": "hIRxOwq-tCRO",
        "outputId": "fa2a34a5-0374-4abe-ddd5-45c4d71e4b12"
      },
      "execution_count": null,
      "outputs": [
        {
          "output_type": "stream",
          "name": "stdout",
          "text": [
            "Tell me your age30\n",
            "The user age is 30\n"
          ]
        }
      ]
    },
    {
      "cell_type": "code",
      "source": [
        "nextage = int(Age) + 1\n",
        "print(nextage)"
      ],
      "metadata": {
        "colab": {
          "base_uri": "https://localhost:8080/"
        },
        "id": "7ghRMA5VtUjI",
        "outputId": "3751e029-f011-46c2-91bf-2f6f90d0d452"
      },
      "execution_count": null,
      "outputs": [
        {
          "output_type": "stream",
          "name": "stdout",
          "text": [
            "31\n"
          ]
        }
      ]
    },
    {
      "cell_type": "code",
      "source": [
        "weight = input('What is your weight in Kg:')\n",
        "weight = int(weight)\n",
        "print('your weight in grams is',weight*1000)"
      ],
      "metadata": {
        "colab": {
          "base_uri": "https://localhost:8080/"
        },
        "id": "YcKc7rOGu3IV",
        "outputId": "d589ff15-7952-4676-d3d5-f835c62fc7ac"
      },
      "execution_count": null,
      "outputs": [
        {
          "output_type": "stream",
          "name": "stdout",
          "text": [
            "What is your weight in Kg:80\n",
            "your weight in grams is 80000\n"
          ]
        }
      ]
    },
    {
      "cell_type": "code",
      "source": [
        "weight = int(input('What is your weight in Kg:'))\n",
        "print('your weight in grams is',weight*1000)"
      ],
      "metadata": {
        "colab": {
          "base_uri": "https://localhost:8080/"
        },
        "id": "dGtln3r2ySfV",
        "outputId": "ff8a3761-4360-4eca-ff9b-5a63e8abc27c"
      },
      "execution_count": null,
      "outputs": [
        {
          "output_type": "stream",
          "name": "stdout",
          "text": [
            "What is your weight in Kg:80\n",
            "your weight in grams is 80000\n"
          ]
        }
      ]
    },
    {
      "cell_type": "code",
      "source": [
        "a = int(input('Please mention number' ))\n",
        "b = int(input('Please mention number' ))\n",
        "print ('please find average of two mentioned numbers',(a+b)/2)"
      ],
      "metadata": {
        "colab": {
          "base_uri": "https://localhost:8080/"
        },
        "id": "4BnVwbuly1DZ",
        "outputId": "57509d2f-9f30-4a55-ab28-50678d7db788"
      },
      "execution_count": null,
      "outputs": [
        {
          "output_type": "stream",
          "name": "stdout",
          "text": [
            "Please mention number5\n",
            "Please mention number5\n",
            "please find average of two mentioned numbers 5.0\n"
          ]
        }
      ]
    },
    {
      "cell_type": "code",
      "source": [
        "n1=input()\n",
        "n2=input()\n",
        "print (n1 + \" says Hi to \" + n2)"
      ],
      "metadata": {
        "colab": {
          "base_uri": "https://localhost:8080/"
        },
        "id": "hZz_GAfrzBw9",
        "outputId": "9145445f-48e2-45b8-f249-cce2b5b87b70"
      },
      "execution_count": null,
      "outputs": [
        {
          "output_type": "stream",
          "name": "stdout",
          "text": [
            "A\n",
            "B\n",
            "A says Hi to B\n"
          ]
        }
      ]
    },
    {
      "cell_type": "code",
      "source": [
        "A = input()\n",
        "# Here in the input we have mentioned name 'Ram'\n",
        "print ('Hello'+ \" \" +A)\n",
        "# Here in the print function we have added 'Hello' with 'Ram'. In final output we got 'Hello Ram'"
      ],
      "metadata": {
        "colab": {
          "base_uri": "https://localhost:8080/"
        },
        "id": "Xxc8r0XD-qaK",
        "outputId": "9ae6c8d2-0e12-402c-f21f-6dfaa28c2d53"
      },
      "execution_count": null,
      "outputs": [
        {
          "output_type": "stream",
          "name": "stdout",
          "text": [
            "Ram\n",
            "Hello Ram\n"
          ]
        }
      ]
    },
    {
      "cell_type": "code",
      "source": [
        "A= input()\n",
        "# Here in the input we have mentioned value '16'\n",
        "B= input()\n",
        "# Here in the input we have mentioned value '2'\n",
        "print (A+B)\n",
        "# In the final output we have concatinated value of both variable A &"
      ],
      "metadata": {
        "colab": {
          "base_uri": "https://localhost:8080/"
        },
        "id": "N_3XBSlg-6Xo",
        "outputId": "276596c5-1d1d-45a8-d747-162e77879cc4"
      },
      "execution_count": null,
      "outputs": [
        {
          "output_type": "stream",
          "name": "stdout",
          "text": [
            "16\n",
            "2\n",
            "162\n"
          ]
        }
      ]
    },
    {
      "cell_type": "code",
      "source": [
        "N = int(input())\n",
        "# Here we have mentioned int before input which signifies whatever value we have entered in input it gives integer value\n",
        "M = int(input())\n",
        "print(N-M)"
      ],
      "metadata": {
        "colab": {
          "base_uri": "https://localhost:8080/"
        },
        "id": "cOtEUx-1ZmEp",
        "outputId": "ec8e4fe1-ffd1-4e25-f399-cf2a12e9bbfd"
      },
      "execution_count": null,
      "outputs": [
        {
          "output_type": "stream",
          "name": "stdout",
          "text": [
            "116\n",
            "12\n",
            "104\n"
          ]
        }
      ]
    },
    {
      "cell_type": "code",
      "source": [
        "print ('A','B','C','D','E', sep='\\n')\n",
        "# \\n seperate the content into different lines"
      ],
      "metadata": {
        "colab": {
          "base_uri": "https://localhost:8080/"
        },
        "id": "xXzjSB_PaqZC",
        "outputId": "1d282a9c-3335-4919-a1bc-cc51665e93c8"
      },
      "execution_count": null,
      "outputs": [
        {
          "output_type": "stream",
          "name": "stdout",
          "text": [
            "A\n",
            "B\n",
            "C\n",
            "D\n",
            "E\n"
          ]
        }
      ]
    },
    {
      "cell_type": "code",
      "source": [
        "A=input()\n",
        "B=input()\n",
        "print(A + \" says Hi to \" + B)"
      ],
      "metadata": {
        "colab": {
          "base_uri": "https://localhost:8080/"
        },
        "id": "GRnyzdeBczUk",
        "outputId": "32d798f0-de29-446e-c367-712435a00a6a"
      },
      "execution_count": null,
      "outputs": [
        {
          "output_type": "stream",
          "name": "stdout",
          "text": [
            "Ram\n",
            "Shyam\n",
            "Ram says Hi to Shyam\n"
          ]
        }
      ]
    }
  ]
}