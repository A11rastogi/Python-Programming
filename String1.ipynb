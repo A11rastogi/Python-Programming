{
  "nbformat": 4,
  "nbformat_minor": 0,
  "metadata": {
    "colab": {
      "provenance": [],
      "authorship_tag": "ABX9TyMK58+KMlXAwCmhtMVUxZyC",
      "include_colab_link": true
    },
    "kernelspec": {
      "name": "python3",
      "display_name": "Python 3"
    },
    "language_info": {
      "name": "python"
    }
  },
  "cells": [
    {
      "cell_type": "markdown",
      "metadata": {
        "id": "view-in-github",
        "colab_type": "text"
      },
      "source": [
        "<a href=\"https://colab.research.google.com/github/A11rastogi/Python-Programming/blob/main/String1.ipynb\" target=\"_parent\"><img src=\"https://colab.research.google.com/assets/colab-badge.svg\" alt=\"Open In Colab\"/></a>"
      ]
    },
    {
      "cell_type": "code",
      "execution_count": 6,
      "metadata": {
        "colab": {
          "base_uri": "https://localhost:8080/"
        },
        "id": "u1PU_dhmR2Mi",
        "outputId": "a624a12b-1103-4af7-83a5-49fa71e601ab"
      },
      "outputs": [
        {
          "output_type": "stream",
          "name": "stdout",
          "text": [
            "65\n",
            "97\n",
            "A\n",
            "a\n"
          ]
        }
      ],
      "source": [
        "# Ordinal function provides code for the character\n",
        "# here ordinal of \"a\" is greater than ordinal of \"A\"\n",
        "print (ord(\"A\"))\n",
        "print (ord(\"a\"))\n",
        "# with the help of chr function we can cross check alphabets against digit\n",
        "print (chr(65))\n",
        "print (chr(97))\n"
      ]
    },
    {
      "cell_type": "code",
      "source": [
        "'a'>'A'\n",
        "# small \"a\" is greater than \"A\" because ordinal of \"a\" = 97 and \"A\" = 65"
      ],
      "metadata": {
        "colab": {
          "base_uri": "https://localhost:8080/"
        },
        "id": "JkV91XAsUnTn",
        "outputId": "dfa090e0-5ab2-414b-b8b6-dc2a05a16b8e"
      },
      "execution_count": 7,
      "outputs": [
        {
          "output_type": "execute_result",
          "data": {
            "text/plain": [
              "True"
            ]
          },
          "metadata": {},
          "execution_count": 7
        }
      ]
    },
    {
      "cell_type": "code",
      "source": [
        "\"abc\" > \"abd\"\n",
        "# here comparison occurs firstly with \"a\" and \"a\", then with \"b\" and \"b\" and lastly with \"c\" and \"d\"\n",
        "# So, ordinal of \"c\" is less as compare to \"d\". Thus, result is false.\n",
        "print (ord(\"c\"))\n",
        "print (ord(\"d\"))\n"
      ],
      "metadata": {
        "colab": {
          "base_uri": "https://localhost:8080/"
        },
        "id": "s09YHmxYXNY0",
        "outputId": "cfe70592-6e3a-4118-c7f3-cf85a577d6c4"
      },
      "execution_count": 9,
      "outputs": [
        {
          "output_type": "stream",
          "name": "stdout",
          "text": [
            "99\n",
            "100\n"
          ]
        }
      ]
    },
    {
      "cell_type": "code",
      "source": [
        "print (5*' Abhinav')"
      ],
      "metadata": {
        "colab": {
          "base_uri": "https://localhost:8080/"
        },
        "id": "bictMVOpYjX0",
        "outputId": "c95f6a85-1c39-46b3-a353-bc7d071fd8ca"
      },
      "execution_count": 11,
      "outputs": [
        {
          "output_type": "stream",
          "name": "stdout",
          "text": [
            " Abhinav Abhinav Abhinav Abhinav Abhinav\n"
          ]
        }
      ]
    },
    {
      "cell_type": "code",
      "source": [
        "# f-string\n",
        "#1 write the str that you want\n",
        "#2 replace the value with the variable name\n",
        "#3 put the varaiable name in {}\n",
        "#4 add f in front of your quotes"
      ],
      "metadata": {
        "id": "0HxnDK7Ga4W7"
      },
      "execution_count": null,
      "outputs": []
    },
    {
      "cell_type": "code",
      "source": [
        "age = 38\n",
        "height = 189\n",
        "worldCups = 0\n",
        "output  = f\"age of Ronaldo today is {age} years, he has won {worldCups} world cups and has a height of {height}cm\"\n",
        "print(output)\n",
        "   "
      ],
      "metadata": {
        "colab": {
          "base_uri": "https://localhost:8080/"
        },
        "id": "mPDeeHVBbnPu",
        "outputId": "e86c4b57-9b0e-4dfa-fd53-5685e70eec72"
      },
      "execution_count": 13,
      "outputs": [
        {
          "output_type": "stream",
          "name": "stdout",
          "text": [
            "age of Ronaldo today is 38 years, he has won 0 world cups and has a height of 189cm\n"
          ]
        }
      ]
    },
    {
      "cell_type": "code",
      "source": [
        "# f string initally stores all value which is mentioned in the variables and populate it in the output, \n",
        "# but if we are changing any value in the variables then it will not accept it\n",
        "age = 38\n",
        "height = 189\n",
        "worldCups = 1\n",
        "output  = f\"age of Ronaldo today is {age} years, he has won {worldCups} world cups and has a height of {height}cm\"\n",
        "print(output)\n",
        "worldCups = 5 \n",
        "print(output)"
      ],
      "metadata": {
        "colab": {
          "base_uri": "https://localhost:8080/"
        },
        "id": "VzfzohS_ccxP",
        "outputId": "f63a1d2e-d11a-41f5-a2cb-cde91d8a8bc5"
      },
      "execution_count": 16,
      "outputs": [
        {
          "output_type": "stream",
          "name": "stdout",
          "text": [
            "age of Ronaldo today is 38 years, he has won 1 world cups and has a height of 189cm\n",
            "age of Ronaldo today is 38 years, he has won 1 world cups and has a height of 189cm\n"
          ]
        }
      ]
    },
    {
      "cell_type": "code",
      "source": [
        "# upper, lower, capitalize\n",
        "s = \"Abhinav\"\n",
        "print (s.upper())\n",
        "print (s.lower())\n",
        "r = \"abhinav rastogi\"\n",
        "print (r.capitalize()) # it will capitalize first letter of the string"
      ],
      "metadata": {
        "colab": {
          "base_uri": "https://localhost:8080/"
        },
        "id": "Z-SuMMBUdV_6",
        "outputId": "0845ae4d-e25b-4aa8-aa1d-ba223570e2ef"
      },
      "execution_count": 20,
      "outputs": [
        {
          "output_type": "stream",
          "name": "stdout",
          "text": [
            "ABHINAV\n",
            "abhinav\n",
            "Abhinav rastogi\n"
          ]
        }
      ]
    },
    {
      "cell_type": "code",
      "source": [
        "# split function\n",
        "s = \"I  belong  from Ambala Cantt\"\n",
        "print (s.split()) # segregating string based on whitespace\n",
        "print (s.split(' ')) # segregating string based on singlespace\n"
      ],
      "metadata": {
        "colab": {
          "base_uri": "https://localhost:8080/"
        },
        "id": "AvGlR6ohgIlc",
        "outputId": "5d410394-3396-4f07-f1fa-748d28dd24fe"
      },
      "execution_count": 23,
      "outputs": [
        {
          "output_type": "stream",
          "name": "stdout",
          "text": [
            "['I', 'belong', 'from', 'Ambala', 'Cantt']\n",
            "['I', '', 'belong', '', 'from', 'Ambala', 'Cantt']\n"
          ]
        }
      ]
    },
    {
      "cell_type": "code",
      "source": [
        "# Join function\n",
        "s ='Abhinav Rastogi'\n",
        "s_broken = s.split('v')\n",
        "print (s_broken)\n",
        "'v'.join(s_broken)"
      ],
      "metadata": {
        "colab": {
          "base_uri": "https://localhost:8080/",
          "height": 53
        },
        "id": "SmOzzQqFjv5F",
        "outputId": "a614998b-8e70-4db6-a10a-916e2d11a1ba"
      },
      "execution_count": 25,
      "outputs": [
        {
          "output_type": "stream",
          "name": "stdout",
          "text": [
            "['Abhina', ' Rastogi']\n"
          ]
        },
        {
          "output_type": "execute_result",
          "data": {
            "text/plain": [
              "'Abhinav Rastogi'"
            ],
            "application/vnd.google.colaboratory.intrinsic+json": {
              "type": "string"
            }
          },
          "metadata": {},
          "execution_count": 25
        }
      ]
    },
    {
      "cell_type": "code",
      "source": [
        "# Practice Questions\n",
        "a = input()\n",
        "for i in a:\n",
        "  print (i)"
      ],
      "metadata": {
        "colab": {
          "base_uri": "https://localhost:8080/"
        },
        "id": "Sw85Xu2Ulr_m",
        "outputId": "a439a870-b1f0-4439-e15f-a959af8abf96"
      },
      "execution_count": 26,
      "outputs": [
        {
          "output_type": "stream",
          "name": "stdout",
          "text": [
            "India\n",
            "I\n",
            "n\n",
            "d\n",
            "i\n",
            "a\n"
          ]
        }
      ]
    },
    {
      "cell_type": "code",
      "source": [
        "# Counting capital letter in the string\n",
        "a = input()\n",
        "count = 0\n",
        "for i in a:\n",
        "  if ord(i)>=ord('A') and ord(i)<=ord('Z'):\n",
        "    count+= 1\n",
        "print (count)"
      ],
      "metadata": {
        "colab": {
          "base_uri": "https://localhost:8080/"
        },
        "id": "9xVJCK3KoinO",
        "outputId": "0fc5a819-699e-4ad7-9d8c-992c5e072f14"
      },
      "execution_count": 30,
      "outputs": [
        {
          "output_type": "stream",
          "name": "stdout",
          "text": [
            "This is My House\n",
            "3\n"
          ]
        }
      ]
    },
    {
      "cell_type": "code",
      "source": [
        "# Reversing the string\n",
        "a = input()\n",
        "print (a[::-1])\n"
      ],
      "metadata": {
        "colab": {
          "base_uri": "https://localhost:8080/"
        },
        "id": "-9Sc5Zj4rnTI",
        "outputId": "6a50601f-7536-444b-d7aa-8ada8191fd50"
      },
      "execution_count": 32,
      "outputs": [
        {
          "output_type": "stream",
          "name": "stdout",
          "text": [
            "Abhinav Rastogi\n",
            "igotsaR vanihbA\n"
          ]
        }
      ]
    },
    {
      "cell_type": "code",
      "source": [
        "# palindrome\n",
        "a = input().lower()\n",
        "if a==a[::-1]:\n",
        "  print ('palindrome')\n",
        "else:\n",
        "  print ('Not a palindrome')\n"
      ],
      "metadata": {
        "colab": {
          "base_uri": "https://localhost:8080/"
        },
        "id": "9UCBZtGgtIgq",
        "outputId": "30f952dc-ca3b-4c57-afec-7476c0a1667a"
      },
      "execution_count": 34,
      "outputs": [
        {
          "output_type": "stream",
          "name": "stdout",
          "text": [
            "Naman\n",
            "palindrome\n"
          ]
        }
      ]
    },
    {
      "cell_type": "code",
      "source": [
        "# space seperated integers - using split and join function\n",
        "# Input = 1 2 3 4 5\n",
        "# Output = 1,2,3,4,5\n",
        "a = input()\n",
        "a = a.split()\n",
        "output = \",\".join(a)\n",
        "print (output)\n"
      ],
      "metadata": {
        "colab": {
          "base_uri": "https://localhost:8080/"
        },
        "id": "MmXH6iLwt018",
        "outputId": "e3b982f5-3836-4d1b-c98f-812a0b0a4379"
      },
      "execution_count": 36,
      "outputs": [
        {
          "output_type": "stream",
          "name": "stdout",
          "text": [
            "1 2 3 4 5\n",
            "1,2,3,4,5\n"
          ]
        }
      ]
    },
    {
      "cell_type": "code",
      "source": [
        " if s = \"hello\""
      ],
      "metadata": {
        "colab": {
          "base_uri": "https://localhost:8080/",
          "height": 130
        },
        "id": "w3aUAs6oyMFW",
        "outputId": "f972c78b-b440-4623-d427-23da50e7f0cb"
      },
      "execution_count": 37,
      "outputs": [
        {
          "output_type": "error",
          "ename": "SyntaxError",
          "evalue": "ignored",
          "traceback": [
            "\u001b[0;36m  File \u001b[0;32m\"<ipython-input-37-41934ea56c6d>\"\u001b[0;36m, line \u001b[0;32m1\u001b[0m\n\u001b[0;31m    if s = \"hello\"\u001b[0m\n\u001b[0m       ^\u001b[0m\n\u001b[0;31mSyntaxError\u001b[0m\u001b[0;31m:\u001b[0m invalid syntax. Maybe you meant '==' or ':=' instead of '='?\n"
          ]
        }
      ]
    }
  ]
}