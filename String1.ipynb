{
  "nbformat": 4,
  "nbformat_minor": 0,
  "metadata": {
    "colab": {
      "provenance": [],
      "authorship_tag": "ABX9TyOlamnleuerv2vJ3LIeN9gf",
      "include_colab_link": true
    },
    "kernelspec": {
      "name": "python3",
      "display_name": "Python 3"
    },
    "language_info": {
      "name": "python"
    }
  },
  "cells": [
    {
      "cell_type": "markdown",
      "metadata": {
        "id": "view-in-github",
        "colab_type": "text"
      },
      "source": [
        "<a href=\"https://colab.research.google.com/github/A11rastogi/Python-Programming/blob/main/String1.ipynb\" target=\"_parent\"><img src=\"https://colab.research.google.com/assets/colab-badge.svg\" alt=\"Open In Colab\"/></a>"
      ]
    },
    {
      "cell_type": "code",
      "execution_count": null,
      "metadata": {
        "colab": {
          "base_uri": "https://localhost:8080/"
        },
        "id": "u1PU_dhmR2Mi",
        "outputId": "a624a12b-1103-4af7-83a5-49fa71e601ab"
      },
      "outputs": [
        {
          "output_type": "stream",
          "name": "stdout",
          "text": [
            "65\n",
            "97\n",
            "A\n",
            "a\n"
          ]
        }
      ],
      "source": [
        "# Ordinal function provides code for the character\n",
        "# here ordinal of \"a\" is greater than ordinal of \"A\"\n",
        "print (ord(\"A\"))\n",
        "print (ord(\"a\"))\n",
        "# with the help of chr function we can cross check alphabets against digit\n",
        "print (chr(65))\n",
        "print (chr(97))\n"
      ]
    },
    {
      "cell_type": "code",
      "source": [
        "'a'>'A'\n",
        "# small \"a\" is greater than \"A\" because ordinal of \"a\" = 97 and \"A\" = 65"
      ],
      "metadata": {
        "colab": {
          "base_uri": "https://localhost:8080/"
        },
        "id": "JkV91XAsUnTn",
        "outputId": "dfa090e0-5ab2-414b-b8b6-dc2a05a16b8e"
      },
      "execution_count": null,
      "outputs": [
        {
          "output_type": "execute_result",
          "data": {
            "text/plain": [
              "True"
            ]
          },
          "metadata": {},
          "execution_count": 7
        }
      ]
    },
    {
      "cell_type": "code",
      "source": [
        "\"abc\" > \"abd\"\n",
        "# here comparison occurs firstly with \"a\" and \"a\", then with \"b\" and \"b\" and lastly with \"c\" and \"d\"\n",
        "# So, ordinal of \"c\" is less as compare to \"d\". Thus, result is false.\n",
        "print (ord(\"c\"))\n",
        "print (ord(\"d\"))\n"
      ],
      "metadata": {
        "colab": {
          "base_uri": "https://localhost:8080/"
        },
        "id": "s09YHmxYXNY0",
        "outputId": "cfe70592-6e3a-4118-c7f3-cf85a577d6c4"
      },
      "execution_count": null,
      "outputs": [
        {
          "output_type": "stream",
          "name": "stdout",
          "text": [
            "99\n",
            "100\n"
          ]
        }
      ]
    },
    {
      "cell_type": "code",
      "source": [
        "print (5*' Abhinav')"
      ],
      "metadata": {
        "colab": {
          "base_uri": "https://localhost:8080/"
        },
        "id": "bictMVOpYjX0",
        "outputId": "c95f6a85-1c39-46b3-a353-bc7d071fd8ca"
      },
      "execution_count": null,
      "outputs": [
        {
          "output_type": "stream",
          "name": "stdout",
          "text": [
            " Abhinav Abhinav Abhinav Abhinav Abhinav\n"
          ]
        }
      ]
    },
    {
      "cell_type": "code",
      "source": [
        "# f-string\n",
        "#1 write the str that you want\n",
        "#2 replace the value with the variable name\n",
        "#3 put the varaiable name in {}\n",
        "#4 add f in front of your quotes"
      ],
      "metadata": {
        "id": "0HxnDK7Ga4W7"
      },
      "execution_count": null,
      "outputs": []
    },
    {
      "cell_type": "code",
      "source": [
        "age = 38\n",
        "height = 189\n",
        "worldCups = 0\n",
        "output  = f\"age of Ronaldo today is {age} years, he has won {worldCups} world cups and has a height of {height}cm\"\n",
        "print(output)\n",
        "   "
      ],
      "metadata": {
        "colab": {
          "base_uri": "https://localhost:8080/"
        },
        "id": "mPDeeHVBbnPu",
        "outputId": "e86c4b57-9b0e-4dfa-fd53-5685e70eec72"
      },
      "execution_count": null,
      "outputs": [
        {
          "output_type": "stream",
          "name": "stdout",
          "text": [
            "age of Ronaldo today is 38 years, he has won 0 world cups and has a height of 189cm\n"
          ]
        }
      ]
    },
    {
      "cell_type": "code",
      "source": [
        "# f string initally stores all value which is mentioned in the variables and populate it in the output, \n",
        "# but if we are changing any value in the variables then it will not accept it\n",
        "age = 38\n",
        "height = 189\n",
        "worldCups = 1\n",
        "output  = f\"age of Ronaldo today is {age} years, he has won {worldCups} world cups and has a height of {height}cm\"\n",
        "print(output)\n",
        "worldCups = 5 \n",
        "print(output)"
      ],
      "metadata": {
        "colab": {
          "base_uri": "https://localhost:8080/"
        },
        "id": "VzfzohS_ccxP",
        "outputId": "f63a1d2e-d11a-41f5-a2cb-cde91d8a8bc5"
      },
      "execution_count": null,
      "outputs": [
        {
          "output_type": "stream",
          "name": "stdout",
          "text": [
            "age of Ronaldo today is 38 years, he has won 1 world cups and has a height of 189cm\n",
            "age of Ronaldo today is 38 years, he has won 1 world cups and has a height of 189cm\n"
          ]
        }
      ]
    },
    {
      "cell_type": "code",
      "source": [
        "# upper, lower, capitalize\n",
        "s = \"Abhinav\"\n",
        "print (s.upper())\n",
        "print (s.lower())\n",
        "r = \"abhinav rastogi\"\n",
        "print (r.capitalize()) # it will capitalize first letter of the string"
      ],
      "metadata": {
        "colab": {
          "base_uri": "https://localhost:8080/"
        },
        "id": "Z-SuMMBUdV_6",
        "outputId": "0845ae4d-e25b-4aa8-aa1d-ba223570e2ef"
      },
      "execution_count": null,
      "outputs": [
        {
          "output_type": "stream",
          "name": "stdout",
          "text": [
            "ABHINAV\n",
            "abhinav\n",
            "Abhinav rastogi\n"
          ]
        }
      ]
    },
    {
      "cell_type": "code",
      "source": [
        "# split function\n",
        "s = \"I  belong  from Ambala Cantt\"\n",
        "print (s.split()) # segregating string based on whitespace\n",
        "print (s.split(' ')) # segregating string based on singlespace\n"
      ],
      "metadata": {
        "colab": {
          "base_uri": "https://localhost:8080/"
        },
        "id": "AvGlR6ohgIlc",
        "outputId": "5d410394-3396-4f07-f1fa-748d28dd24fe"
      },
      "execution_count": null,
      "outputs": [
        {
          "output_type": "stream",
          "name": "stdout",
          "text": [
            "['I', 'belong', 'from', 'Ambala', 'Cantt']\n",
            "['I', '', 'belong', '', 'from', 'Ambala', 'Cantt']\n"
          ]
        }
      ]
    },
    {
      "cell_type": "code",
      "source": [
        "# Join function\n",
        "s ='Abhinav Rastogi'\n",
        "s_broken = s.split('v')\n",
        "print (s_broken)\n",
        "'v'.join(s_broken)"
      ],
      "metadata": {
        "colab": {
          "base_uri": "https://localhost:8080/",
          "height": 53
        },
        "id": "SmOzzQqFjv5F",
        "outputId": "a614998b-8e70-4db6-a10a-916e2d11a1ba"
      },
      "execution_count": null,
      "outputs": [
        {
          "output_type": "stream",
          "name": "stdout",
          "text": [
            "['Abhina', ' Rastogi']\n"
          ]
        },
        {
          "output_type": "execute_result",
          "data": {
            "text/plain": [
              "'Abhinav Rastogi'"
            ],
            "application/vnd.google.colaboratory.intrinsic+json": {
              "type": "string"
            }
          },
          "metadata": {},
          "execution_count": 25
        }
      ]
    },
    {
      "cell_type": "code",
      "source": [
        "# Practice Questions\n",
        "a = input()\n",
        "for i in a:\n",
        "  print (i)"
      ],
      "metadata": {
        "colab": {
          "base_uri": "https://localhost:8080/"
        },
        "id": "Sw85Xu2Ulr_m",
        "outputId": "a439a870-b1f0-4439-e15f-a959af8abf96"
      },
      "execution_count": null,
      "outputs": [
        {
          "output_type": "stream",
          "name": "stdout",
          "text": [
            "India\n",
            "I\n",
            "n\n",
            "d\n",
            "i\n",
            "a\n"
          ]
        }
      ]
    },
    {
      "cell_type": "code",
      "source": [
        "# Counting capital letter in the string\n",
        "a = input()\n",
        "count = 0\n",
        "for i in a:\n",
        "  if ord(i)>=ord('A') and ord(i)<=ord('Z'):\n",
        "    count+= 1\n",
        "print (count)"
      ],
      "metadata": {
        "colab": {
          "base_uri": "https://localhost:8080/"
        },
        "id": "9xVJCK3KoinO",
        "outputId": "0fc5a819-699e-4ad7-9d8c-992c5e072f14"
      },
      "execution_count": null,
      "outputs": [
        {
          "output_type": "stream",
          "name": "stdout",
          "text": [
            "This is My House\n",
            "3\n"
          ]
        }
      ]
    },
    {
      "cell_type": "code",
      "source": [
        "# Reversing the string\n",
        "a = input()\n",
        "print (a[::-1])\n"
      ],
      "metadata": {
        "colab": {
          "base_uri": "https://localhost:8080/"
        },
        "id": "-9Sc5Zj4rnTI",
        "outputId": "6a50601f-7536-444b-d7aa-8ada8191fd50"
      },
      "execution_count": null,
      "outputs": [
        {
          "output_type": "stream",
          "name": "stdout",
          "text": [
            "Abhinav Rastogi\n",
            "igotsaR vanihbA\n"
          ]
        }
      ]
    },
    {
      "cell_type": "code",
      "source": [
        "# palindrome\n",
        "a = input().lower()\n",
        "if a==a[::-1]:\n",
        "  print ('palindrome')\n",
        "else:\n",
        "  print ('Not a palindrome')\n"
      ],
      "metadata": {
        "colab": {
          "base_uri": "https://localhost:8080/"
        },
        "id": "9UCBZtGgtIgq",
        "outputId": "30f952dc-ca3b-4c57-afec-7476c0a1667a"
      },
      "execution_count": null,
      "outputs": [
        {
          "output_type": "stream",
          "name": "stdout",
          "text": [
            "Naman\n",
            "palindrome\n"
          ]
        }
      ]
    },
    {
      "cell_type": "code",
      "source": [
        "# space seperated integers - using split and join function\n",
        "# Input = 1 2 3 4 5\n",
        "# Output = 1,2,3,4,5\n",
        "a = input()\n",
        "a = a.split()\n",
        "output = \",\".join(a)\n",
        "print (output)\n"
      ],
      "metadata": {
        "colab": {
          "base_uri": "https://localhost:8080/"
        },
        "id": "MmXH6iLwt018",
        "outputId": "e3b982f5-3836-4d1b-c98f-812a0b0a4379"
      },
      "execution_count": null,
      "outputs": [
        {
          "output_type": "stream",
          "name": "stdout",
          "text": [
            "1 2 3 4 5\n",
            "1,2,3,4,5\n"
          ]
        }
      ]
    },
    {
      "cell_type": "code",
      "source": [
        "# Assignment question\n",
        "words= ['goOd','mORNing','HOW','are','yoU','todAy']\n",
        "\n",
        "def upper_char(words):\n",
        "  output=[]\n",
        "  for i in range(len(words)):\n",
        "    if words[i][2].isupper() == True:\n",
        "      output.append(words[i])\n",
        "  return output\n",
        "upper_char(words)"
      ],
      "metadata": {
        "id": "df4xsx1hL3ZP",
        "outputId": "ba6dad47-392d-4e99-c367-e1f3b6a9b556",
        "colab": {
          "base_uri": "https://localhost:8080/"
        }
      },
      "execution_count": null,
      "outputs": [
        {
          "output_type": "execute_result",
          "data": {
            "text/plain": [
              "['goOd', 'mORNing', 'HOW', 'yoU']"
            ]
          },
          "metadata": {},
          "execution_count": 2
        }
      ]
    },
    {
      "cell_type": "code",
      "source": [
        "s1 = (\"Abhinav\")\n",
        "s2 = (\"Diwakar\")\n",
        "s1 = sorted(s1) (aabhin)\n",
        "s2 = sorted(s2) (aadikrw)\n",
        "if s1 == s2:\n",
        "  print (\"True\")\n",
        "else:\n",
        "  print (\"False\")\n",
        "print (ord(\"A\"))\n",
        "print (ord(\"a\"))"
      ],
      "metadata": {
        "id": "grykWIvZXHqA",
        "outputId": "6d9b3cc8-f030-4429-8136-0d00290f5269",
        "colab": {
          "base_uri": "https://localhost:8080/"
        }
      },
      "execution_count": null,
      "outputs": [
        {
          "output_type": "stream",
          "name": "stdout",
          "text": [
            "False\n",
            "65\n",
            "97\n"
          ]
        }
      ]
    },
    {
      "cell_type": "code",
      "source": [
        "# string 2\n",
        "# When we multiply two strings it throws error\n",
        "str1 = \"Hello\"\n",
        "print (str1*str1)"
      ],
      "metadata": {
        "id": "nYDi2Sa7rEFD",
        "outputId": "96bbe55d-04f5-4749-d2dc-38b43d2c98dd",
        "colab": {
          "base_uri": "https://localhost:8080/",
          "height": 200
        }
      },
      "execution_count": 1,
      "outputs": [
        {
          "output_type": "error",
          "ename": "TypeError",
          "evalue": "ignored",
          "traceback": [
            "\u001b[0;31m---------------------------------------------------------------------------\u001b[0m",
            "\u001b[0;31mTypeError\u001b[0m                                 Traceback (most recent call last)",
            "\u001b[0;32m<ipython-input-1-bf9370e52029>\u001b[0m in \u001b[0;36m<cell line: 4>\u001b[0;34m()\u001b[0m\n\u001b[1;32m      2\u001b[0m \u001b[0;31m# When we multiply two strings it throws error\u001b[0m\u001b[0;34m\u001b[0m\u001b[0;34m\u001b[0m\u001b[0m\n\u001b[1;32m      3\u001b[0m \u001b[0mstr1\u001b[0m \u001b[0;34m=\u001b[0m \u001b[0;34m\"Hello\"\u001b[0m\u001b[0;34m\u001b[0m\u001b[0;34m\u001b[0m\u001b[0m\n\u001b[0;32m----> 4\u001b[0;31m \u001b[0mprint\u001b[0m \u001b[0;34m(\u001b[0m\u001b[0mstr1\u001b[0m\u001b[0;34m*\u001b[0m\u001b[0mstr1\u001b[0m\u001b[0;34m)\u001b[0m\u001b[0;34m\u001b[0m\u001b[0;34m\u001b[0m\u001b[0m\n\u001b[0m",
            "\u001b[0;31mTypeError\u001b[0m: can't multiply sequence by non-int of type 'str'"
          ]
        }
      ]
    },
    {
      "cell_type": "code",
      "source": [
        "str1 = \"Hello\"\n",
        "print (str1*2)\n",
        "# Actually it is adding str1 two times here"
      ],
      "metadata": {
        "id": "J8aZIdxYrhBS",
        "outputId": "2b3ea4b3-3794-4b0d-babc-195b05580152",
        "colab": {
          "base_uri": "https://localhost:8080/"
        }
      },
      "execution_count": 2,
      "outputs": [
        {
          "output_type": "stream",
          "name": "stdout",
          "text": [
            "HelloHello\n"
          ]
        }
      ]
    },
    {
      "cell_type": "code",
      "source": [
        "# Strings are immutable: means we can't do edits in the string\n",
        "''' Here, in this example we want to replace 'l' with 'a'. But here we can't change the string '''\n",
        "s = \"Hello\"\n",
        "s[2] = \"a\"\n"
      ],
      "metadata": {
        "id": "qo8mONUmsUOS",
        "outputId": "b30aefbc-d24e-486a-a5e6-c4d96a472bf4",
        "colab": {
          "base_uri": "https://localhost:8080/",
          "height": 200
        }
      },
      "execution_count": 5,
      "outputs": [
        {
          "output_type": "error",
          "ename": "TypeError",
          "evalue": "ignored",
          "traceback": [
            "\u001b[0;31m---------------------------------------------------------------------------\u001b[0m",
            "\u001b[0;31mTypeError\u001b[0m                                 Traceback (most recent call last)",
            "\u001b[0;32m<ipython-input-5-1f17937e1473>\u001b[0m in \u001b[0;36m<cell line: 3>\u001b[0;34m()\u001b[0m\n\u001b[1;32m      1\u001b[0m \u001b[0;31m# Strings are immutable: means we can't do edits in the string\u001b[0m\u001b[0;34m\u001b[0m\u001b[0;34m\u001b[0m\u001b[0m\n\u001b[1;32m      2\u001b[0m \u001b[0ms\u001b[0m \u001b[0;34m=\u001b[0m \u001b[0;34m\"Hello\"\u001b[0m\u001b[0;34m\u001b[0m\u001b[0;34m\u001b[0m\u001b[0m\n\u001b[0;32m----> 3\u001b[0;31m \u001b[0ms\u001b[0m\u001b[0;34m[\u001b[0m\u001b[0;36m2\u001b[0m\u001b[0;34m]\u001b[0m \u001b[0;34m=\u001b[0m \u001b[0;34m\"a\"\u001b[0m\u001b[0;34m\u001b[0m\u001b[0;34m\u001b[0m\u001b[0m\n\u001b[0m",
            "\u001b[0;31mTypeError\u001b[0m: 'str' object does not support item assignment"
          ]
        }
      ]
    },
    {
      "cell_type": "code",
      "source": [
        "s = \"Hello\"\n",
        "print (s[-4])\n",
        "print (s[9]) # it throws error as at index 9 there is no string value present"
      ],
      "metadata": {
        "id": "41MixUHcu25z",
        "outputId": "8a59f949-cf28-47f2-c034-6f5bfc06b7a4",
        "colab": {
          "base_uri": "https://localhost:8080/",
          "height": 217
        }
      },
      "execution_count": 7,
      "outputs": [
        {
          "output_type": "stream",
          "name": "stdout",
          "text": [
            "e\n"
          ]
        },
        {
          "output_type": "error",
          "ename": "IndexError",
          "evalue": "ignored",
          "traceback": [
            "\u001b[0;31m---------------------------------------------------------------------------\u001b[0m",
            "\u001b[0;31mIndexError\u001b[0m                                Traceback (most recent call last)",
            "\u001b[0;32m<ipython-input-7-6733683beaaa>\u001b[0m in \u001b[0;36m<cell line: 3>\u001b[0;34m()\u001b[0m\n\u001b[1;32m      1\u001b[0m \u001b[0ms\u001b[0m \u001b[0;34m=\u001b[0m \u001b[0;34m\"Hello\"\u001b[0m\u001b[0;34m\u001b[0m\u001b[0;34m\u001b[0m\u001b[0m\n\u001b[1;32m      2\u001b[0m \u001b[0mprint\u001b[0m \u001b[0;34m(\u001b[0m\u001b[0ms\u001b[0m\u001b[0;34m[\u001b[0m\u001b[0;34m-\u001b[0m\u001b[0;36m4\u001b[0m\u001b[0;34m]\u001b[0m\u001b[0;34m)\u001b[0m\u001b[0;34m\u001b[0m\u001b[0;34m\u001b[0m\u001b[0m\n\u001b[0;32m----> 3\u001b[0;31m \u001b[0mprint\u001b[0m \u001b[0;34m(\u001b[0m\u001b[0ms\u001b[0m\u001b[0;34m[\u001b[0m\u001b[0;36m9\u001b[0m\u001b[0;34m]\u001b[0m\u001b[0;34m)\u001b[0m\u001b[0;34m\u001b[0m\u001b[0;34m\u001b[0m\u001b[0m\n\u001b[0m",
            "\u001b[0;31mIndexError\u001b[0m: string index out of range"
          ]
        }
      ]
    },
    {
      "cell_type": "code",
      "source": [
        "s = \"Hello\"\n",
        "print (s[::-1])"
      ],
      "metadata": {
        "id": "AS3DyB480scE",
        "outputId": "cb1ae109-e289-4a5f-db30-f6d97ab448e2",
        "colab": {
          "base_uri": "https://localhost:8080/"
        }
      },
      "execution_count": 8,
      "outputs": [
        {
          "output_type": "stream",
          "name": "stdout",
          "text": [
            "olleH\n"
          ]
        }
      ]
    },
    {
      "cell_type": "code",
      "source": [
        "# .split \n",
        "\"\""
      ],
      "metadata": {
        "id": "WqJYUl6N0_v9"
      },
      "execution_count": null,
      "outputs": []
    }
  ]
}