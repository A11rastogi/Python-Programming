{
  "nbformat": 4,
  "nbformat_minor": 0,
  "metadata": {
    "colab": {
      "provenance": [],
      "authorship_tag": "ABX9TyMpT5oaq8OLtkLJR531ySSy"
    },
    "kernelspec": {
      "name": "python3",
      "display_name": "Python 3"
    },
    "language_info": {
      "name": "python"
    }
  },
  "cells": [
    {
      "cell_type": "code",
      "execution_count": null,
      "metadata": {
        "id": "-EGiiwwH_uBg"
      },
      "outputs": [],
      "source": [
        "# Here defining function\n",
        "def message():\n",
        "  print (\"Hello World\")\n",
        "  "
      ]
    },
    {
      "cell_type": "code",
      "source": [
        "# Here executing function\n",
        "message()"
      ],
      "metadata": {
        "colab": {
          "base_uri": "https://localhost:8080/"
        },
        "id": "qfS3pEie_96q",
        "outputId": "fb50c9b4-46c8-45b3-b619-ae118b683c82"
      },
      "execution_count": null,
      "outputs": [
        {
          "output_type": "stream",
          "name": "stdout",
          "text": [
            "Hello World\n"
          ]
        }
      ]
    },
    {
      "cell_type": "code",
      "source": [
        "# Write a program to find addition of two number using function?\n",
        "def add():\n",
        "  a = int(input())\n",
        "  b = int(input())\n",
        "  c= a+b\n",
        "  print(c)"
      ],
      "metadata": {
        "id": "si0t95jiAb4L"
      },
      "execution_count": null,
      "outputs": []
    },
    {
      "cell_type": "code",
      "source": [
        "add()"
      ],
      "metadata": {
        "colab": {
          "base_uri": "https://localhost:8080/"
        },
        "id": "hpOmpLraAy0_",
        "outputId": "39239374-8912-40f6-bfec-158ffe2adc78"
      },
      "execution_count": null,
      "outputs": [
        {
          "output_type": "stream",
          "name": "stdout",
          "text": [
            "20\n",
            "30\n",
            "50\n"
          ]
        }
      ]
    },
    {
      "cell_type": "code",
      "source": [
        "# Arguments / Parameters: This is the value which is supplied to the function to operate on\n",
        "# def add (Arguments):\n",
        "def add (a,b):\n",
        "  c=a+b\n",
        "  print (c)"
      ],
      "metadata": {
        "id": "LjfHRv9GJXww"
      },
      "execution_count": null,
      "outputs": []
    },
    {
      "cell_type": "code",
      "source": [
        "# here executing def function\n",
        "a = int(input())\n",
        "b = int(input())\n",
        "add(a,b)"
      ],
      "metadata": {
        "colab": {
          "base_uri": "https://localhost:8080/"
        },
        "id": "N3rrwum3Ljif",
        "outputId": "e4c9c7e8-5d77-4d69-840c-5716ebee84a1"
      },
      "execution_count": null,
      "outputs": [
        {
          "output_type": "stream",
          "name": "stdout",
          "text": [
            "30\n",
            "20\n",
            "50\n"
          ]
        }
      ]
    },
    {
      "cell_type": "code",
      "source": [
        "def add (a,b,c):\n",
        "  z=a+b+c\n",
        "  print(z)"
      ],
      "metadata": {
        "id": "4tprTMgvR0mT"
      },
      "execution_count": null,
      "outputs": []
    },
    {
      "cell_type": "code",
      "source": [
        "a = int(input())\n",
        "b = int(input())\n",
        "c = int(input())\n",
        "add(a,b,c)"
      ],
      "metadata": {
        "colab": {
          "base_uri": "https://localhost:8080/"
        },
        "id": "5uW6ywSFSkhp",
        "outputId": "f49dca38-ba57-4fd3-e89c-79398fc9aeb0"
      },
      "execution_count": null,
      "outputs": [
        {
          "output_type": "stream",
          "name": "stdout",
          "text": [
            "20\n",
            "30\n",
            "20\n",
            "70\n"
          ]
        }
      ]
    },
    {
      "cell_type": "code",
      "source": [
        "# Default Argument : where w initially set the value of variable\n",
        "# Note: Usually here we set value of last variable\n",
        "def add(a,b,c=8):\n",
        "  z=a+b+c\n",
        "  print(z)\n"
      ],
      "metadata": {
        "id": "QXPvaubIUoUc"
      },
      "execution_count": null,
      "outputs": []
    },
    {
      "cell_type": "code",
      "source": [
        "a = int(input())\n",
        "b = int(input())\n",
        "add(a,b,c=8)"
      ],
      "metadata": {
        "colab": {
          "base_uri": "https://localhost:8080/"
        },
        "id": "ur5nPuN-VFZH",
        "outputId": "453f5bcc-cb16-4c07-8ca7-213bff1e995a"
      },
      "execution_count": null,
      "outputs": [
        {
          "output_type": "stream",
          "name": "stdout",
          "text": [
            "10\n",
            "2\n",
            "20\n"
          ]
        }
      ]
    },
    {
      "cell_type": "code",
      "source": [
        "# No argument no return\n",
        "def add():\n",
        "  x = int(input())\n",
        "  y = int(input())\n",
        "  m = x+y\n",
        "  print(m)"
      ],
      "metadata": {
        "id": "ev_CczaYWVG2"
      },
      "execution_count": null,
      "outputs": []
    },
    {
      "cell_type": "code",
      "source": [
        "add()"
      ],
      "metadata": {
        "colab": {
          "base_uri": "https://localhost:8080/"
        },
        "id": "5XXTthi9WnS4",
        "outputId": "01846a97-82db-4b01-9864-6b2871dd5f72"
      },
      "execution_count": null,
      "outputs": [
        {
          "output_type": "stream",
          "name": "stdout",
          "text": [
            "15\n",
            "20\n",
            "35\n"
          ]
        }
      ]
    },
    {
      "cell_type": "code",
      "source": [
        "# With argument no return\n",
        "def add(k,i): # here (K, i) is the argument\n",
        "  l = k+i\n",
        "  print(l)"
      ],
      "metadata": {
        "id": "lsLP1r6NYPMZ"
      },
      "execution_count": null,
      "outputs": []
    },
    {
      "cell_type": "code",
      "source": [
        "k = int(input())\n",
        "i = int(input())\n",
        "add(k,i)"
      ],
      "metadata": {
        "colab": {
          "base_uri": "https://localhost:8080/"
        },
        "id": "muv_XvhuYfdt",
        "outputId": "60748a16-9111-493e-97f3-f0b181066338"
      },
      "execution_count": null,
      "outputs": [
        {
          "output_type": "stream",
          "name": "stdout",
          "text": [
            "45\n",
            "45\n",
            "90\n"
          ]
        }
      ]
    },
    {
      "cell_type": "code",
      "source": [
        "# No argument with return\n",
        "def add():\n",
        "  x = int(input())\n",
        "  y = int(input())\n",
        "  m = x+y\n",
        "  return m"
      ],
      "metadata": {
        "id": "qHp6W9FXZMqm"
      },
      "execution_count": null,
      "outputs": []
    },
    {
      "cell_type": "code",
      "source": [
        "b=add()\n",
        "print (b)"
      ],
      "metadata": {
        "colab": {
          "base_uri": "https://localhost:8080/"
        },
        "id": "WD_mwzR3Zm1V",
        "outputId": "0ed93440-4c07-45d9-c7c3-eaefe6246e33"
      },
      "execution_count": null,
      "outputs": [
        {
          "output_type": "stream",
          "name": "stdout",
          "text": [
            "55\n",
            "55\n",
            "110\n"
          ]
        }
      ]
    },
    {
      "cell_type": "code",
      "source": [
        "def celsius_farhen(Celsius):\n",
        "    ans = 0\n",
        "    Fahrenheit = ((9/5)*Celsius) + 32\n",
        "    ans=ans+Fahrenheit\n",
        "    return round(ans,2)"
      ],
      "metadata": {
        "id": "RFmSzSEHeN_c"
      },
      "execution_count": null,
      "outputs": []
    },
    {
      "cell_type": "code",
      "source": [
        "celsius_farhen(Celsius)"
      ],
      "metadata": {
        "colab": {
          "base_uri": "https://localhost:8080/"
        },
        "id": "dchpwwU0qO4i",
        "outputId": "9f4d2a5c-f5c5-43f9-8a1d-186981f9939f"
      },
      "execution_count": null,
      "outputs": [
        {
          "output_type": "execute_result",
          "data": {
            "text/plain": [
              "33.8"
            ]
          },
          "metadata": {},
          "execution_count": 50
        }
      ]
    },
    {
      "cell_type": "code",
      "source": [
        "def road_tax(price):\n",
        "    tax = None\n",
        "    if price <= 50000:\n",
        "        print(5/100*price)\n",
        "    elif price <=75000:\n",
        "        print((price-50000)*5/100 + price*10/100)\n",
        "    elif price <=100000:\n",
        "        print((price-75000)*10/100+price*15/100)\n",
        "    else:\n",
        "        print(price*20/100)\n",
        "    "
      ],
      "metadata": {
        "id": "GjavLfv5wNgh"
      },
      "execution_count": 3,
      "outputs": []
    },
    {
      "cell_type": "code",
      "source": [
        "price = int(input())\n",
        "road_tax (price)\n"
      ],
      "metadata": {
        "colab": {
          "base_uri": "https://localhost:8080/"
        },
        "id": "HFawmHKpwP-e",
        "outputId": "482f8f7c-67db-4440-e11c-42c64f0ea518"
      },
      "execution_count": 4,
      "outputs": [
        {
          "output_type": "stream",
          "name": "stdout",
          "text": [
            "55000\n",
            "5750.0\n"
          ]
        }
      ]
    },
    {
      "cell_type": "code",
      "source": [
        "n = int(input())\n",
        "if price <= 50000:\n",
        "  print(5/100*price)\n",
        "elif price <=75000:\n",
        "  print((price-50000)*5/100 + price*10/100)\n",
        "elif price <=100000:\n",
        "  print((price-75000)*10/100+price*15/100)\n",
        "else:\n",
        "  print(price*20/100)"
      ],
      "metadata": {
        "colab": {
          "base_uri": "https://localhost:8080/"
        },
        "id": "CcgWdDqExhCo",
        "outputId": "772f90db-e49b-4ce7-ebd2-8aa78f73242a"
      },
      "execution_count": null,
      "outputs": [
        {
          "output_type": "stream",
          "name": "stdout",
          "text": [
            "50000\n",
            "17500.0\n"
          ]
        }
      ]
    },
    {
      "cell_type": "code",
      "source": [
        "def (num):\n",
        "  return num + 55\n",
        "if(5)\n",
        "print(num)"
      ],
      "metadata": {
        "colab": {
          "base_uri": "https://localhost:8080/",
          "height": 130
        },
        "id": "SC_eFMS90Zfr",
        "outputId": "387dd23d-cfe0-4f50-f1a4-242ed52e3881"
      },
      "execution_count": null,
      "outputs": [
        {
          "output_type": "error",
          "ename": "SyntaxError",
          "evalue": "ignored",
          "traceback": [
            "\u001b[0;36m  File \u001b[0;32m\"<ipython-input-69-39f2e3d556b2>\"\u001b[0;36m, line \u001b[0;32m1\u001b[0m\n\u001b[0;31m    def if(num):\u001b[0m\n\u001b[0m        ^\u001b[0m\n\u001b[0;31mSyntaxError\u001b[0m\u001b[0;31m:\u001b[0m invalid syntax\n"
          ]
        }
      ]
    },
    {
      "cell_type": "code",
      "source": [
        "def road_tax(price):\n",
        "    tax = None\n",
        "    if price <= 50000:\n",
        "        tax=(5/100*price)\n",
        "    elif price <=75000:\n",
        "        tax=((price-50000)*5/100 + price*10/100)\n",
        "    elif price <=100000:\n",
        "        tax=((price-75000)*10/100+price*15/100)\n",
        "    else:\n",
        "        tax=(price*20/100)\n",
        "    return tax\n",
        "\n",
        "    "
      ],
      "metadata": {
        "id": "-uX4RLmp2R5C"
      },
      "execution_count": 6,
      "outputs": []
    },
    {
      "cell_type": "code",
      "source": [
        "price = int(input())\n",
        "road_tax(price)"
      ],
      "metadata": {
        "colab": {
          "base_uri": "https://localhost:8080/"
        },
        "id": "fBzn-dOy2Trv",
        "outputId": "161b98e4-7194-4dea-d482-04c1b9b45d7f"
      },
      "execution_count": 33,
      "outputs": [
        {
          "name": "stdout",
          "output_type": "stream",
          "text": [
            "55000\n"
          ]
        },
        {
          "output_type": "execute_result",
          "data": {
            "text/plain": [
              "5750.0"
            ]
          },
          "metadata": {},
          "execution_count": 33
        }
      ]
    },
    {
      "cell_type": "code",
      "source": [
        "def chec(a,b):\n",
        "  c=a+b\n",
        "  return c\n"
      ],
      "metadata": {
        "id": "QOd6B1HsMuby"
      },
      "execution_count": 25,
      "outputs": []
    },
    {
      "cell_type": "code",
      "source": [
        "chec(3,4)"
      ],
      "metadata": {
        "colab": {
          "base_uri": "https://localhost:8080/"
        },
        "id": "2CnoJ9FpN8OJ",
        "outputId": "302b8fa1-dc93-477e-992a-ed9ef3a19980"
      },
      "execution_count": 12,
      "outputs": [
        {
          "output_type": "stream",
          "name": "stdout",
          "text": [
            "7\n"
          ]
        }
      ]
    },
    {
      "cell_type": "code",
      "source": [
        "d=chec(3,4)\n",
        "print(d)"
      ],
      "metadata": {
        "colab": {
          "base_uri": "https://localhost:8080/"
        },
        "id": "FlVR0POUOJmx",
        "outputId": "f6833318-7d7d-40db-c231-a1c5a8eea4d5"
      },
      "execution_count": 26,
      "outputs": [
        {
          "output_type": "stream",
          "name": "stdout",
          "text": [
            "7\n"
          ]
        }
      ]
    },
    {
      "cell_type": "code",
      "source": [
        "def simple_int(time,pa,ir):\n",
        "    ''' time, pa, ir represents the time in number of days, principal amount and rate of interest\n",
        "        Return the simple interest'''\n",
        "    ans = 0\n",
        "    total_amount = pa*(1 + (ir*(time/365)/100))\n",
        "    ans = ans + total_amount\n",
        "    return round(ans,2)"
      ],
      "metadata": {
        "id": "sSrQYZ7M4GTo"
      },
      "execution_count": 27,
      "outputs": []
    },
    {
      "cell_type": "code",
      "source": [
        "time = int(input())\n",
        "pa = float(input())\n",
        "ir = float(input())\n",
        "simple_int(time,pa,ir)"
      ],
      "metadata": {
        "colab": {
          "base_uri": "https://localhost:8080/"
        },
        "id": "fGBqOXcN4Ipm",
        "outputId": "db5c1a0c-857f-4331-ca71-c43c13fa4776"
      },
      "execution_count": 31,
      "outputs": [
        {
          "name": "stdout",
          "output_type": "stream",
          "text": [
            "789\n",
            "10000.0\n",
            "1.3\n"
          ]
        },
        {
          "output_type": "execute_result",
          "data": {
            "text/plain": [
              "10281.01"
            ]
          },
          "metadata": {},
          "execution_count": 31
        }
      ]
    },
    {
      "cell_type": "code",
      "source": [
        "def convert(t):\n",
        "    return t*9/5 + 32\n",
        "\n",
        "print(convert(20))"
      ],
      "metadata": {
        "colab": {
          "base_uri": "https://localhost:8080/"
        },
        "id": "FUuXvkC8XBK6",
        "outputId": "ffa81556-269b-45fa-886a-d2fb96037d6b"
      },
      "execution_count": 34,
      "outputs": [
        {
          "output_type": "stream",
          "name": "stdout",
          "text": [
            "68.0\n"
          ]
        }
      ]
    },
    {
      "cell_type": "code",
      "source": [
        "n=int(input())\n",
        "for i in range(n):\n",
        "  if i==0: \n",
        "   print (n* \"*\")\n",
        "  elif i>=1 and i<n-1:\n",
        "    print(\"*\"+(n-i-2)*\" \"+\"*\")\n",
        "  elif i==n-1:\n",
        "    print(\"*\")"
      ],
      "metadata": {
        "colab": {
          "base_uri": "https://localhost:8080/"
        },
        "id": "0Fe7T_gtZNym",
        "outputId": "3d6f9102-aec8-4725-ddab-8e0b7072890f"
      },
      "execution_count": 43,
      "outputs": [
        {
          "output_type": "stream",
          "name": "stdout",
          "text": [
            "8\n",
            "********\n",
            "*     *\n",
            "*    *\n",
            "*   *\n",
            "*  *\n",
            "* *\n",
            "**\n",
            "*\n"
          ]
        }
      ]
    },
    {
      "cell_type": "code",
      "source": [
        "n=int(input())\n",
        "sum=0\n",
        "for i in range(1,n):\n",
        "    if n%i == 0:\n",
        "      sum=sum+i\n",
        "if sum == n:\n",
        "  print ('1')\n",
        "else:\n",
        "  print ('0')"
      ],
      "metadata": {
        "colab": {
          "base_uri": "https://localhost:8080/"
        },
        "id": "ToCNQZyGgKZy",
        "outputId": "ee65404d-76f6-4710-8d91-3b65caf3ce55"
      },
      "execution_count": 58,
      "outputs": [
        {
          "output_type": "stream",
          "name": "stdout",
          "text": [
            "6\n",
            "1\n"
          ]
        }
      ]
    },
    {
      "cell_type": "code",
      "source": [
        "N = int(input())\n",
        "sum = 0\n",
        "for i in range (1,N):\n",
        "  if N%i == 0:\n",
        "    sum = sum+i\n",
        "if sum == N:\n",
        "  print ('YES')\n",
        "else:\n",
        "  print ('NO')"
      ],
      "metadata": {
        "colab": {
          "base_uri": "https://localhost:8080/"
        },
        "id": "Qb9rHWP5h34J",
        "outputId": "381955eb-6b0e-4e2e-8c22-980c80bf3295"
      },
      "execution_count": 57,
      "outputs": [
        {
          "output_type": "stream",
          "name": "stdout",
          "text": [
            "6\n",
            "YES\n"
          ]
        }
      ]
    },
    {
      "cell_type": "code",
      "source": [
        "x = 55\n",
        "def hi():\n",
        "  return x\n",
        "x +=10\n",
        "print(hi())"
      ],
      "metadata": {
        "colab": {
          "base_uri": "https://localhost:8080/"
        },
        "id": "oGyX4LNAm1ll",
        "outputId": "fc50f239-03e4-488f-e336-907fcb5492f4"
      },
      "execution_count": 59,
      "outputs": [
        {
          "output_type": "stream",
          "name": "stdout",
          "text": [
            "65\n"
          ]
        }
      ]
    }
  ]
}