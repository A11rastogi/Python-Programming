{
  "nbformat": 4,
  "nbformat_minor": 0,
  "metadata": {
    "colab": {
      "provenance": [],
      "include_colab_link": true
    },
    "kernelspec": {
      "name": "python3",
      "display_name": "Python 3"
    },
    "language_info": {
      "name": "python"
    }
  },
  "cells": [
    {
      "cell_type": "markdown",
      "metadata": {
        "id": "view-in-github",
        "colab_type": "text"
      },
      "source": [
        "<a href=\"https://colab.research.google.com/github/A11rastogi/Python-Programming/blob/main/beginner_introduction_to_python_data_types_lecture_18th_april_9pm.ipynb\" target=\"_parent\"><img src=\"https://colab.research.google.com/assets/colab-badge.svg\" alt=\"Open In Colab\"/></a>"
      ]
    },
    {
      "cell_type": "code",
      "execution_count": null,
      "metadata": {
        "colab": {
          "base_uri": "https://localhost:8080/"
        },
        "id": "F4dxJ5TlTl7t",
        "outputId": "51074ac9-c70c-441f-8b2a-e9d7104cb673"
      },
      "outputs": [
        {
          "output_type": "stream",
          "name": "stdout",
          "text": [
            "This is Python\n"
          ]
        }
      ],
      "source": [
        "print('This is Python')"
      ]
    },
    {
      "cell_type": "code",
      "source": [
        "print('hey look I am printing')\n",
        "print(\"see something was printed\")"
      ],
      "metadata": {
        "colab": {
          "base_uri": "https://localhost:8080/"
        },
        "id": "JldSG84RVAfc",
        "outputId": "e2d27b05-f911-4cb2-e2a9-f5f20050b512"
      },
      "execution_count": null,
      "outputs": [
        {
          "output_type": "stream",
          "name": "stdout",
          "text": [
            "hey look I am printing\n",
            "see something was printed\n"
          ]
        }
      ]
    },
    {
      "cell_type": "code",
      "source": [
        "print('I can use single quotes')\n",
        "print(\"I can use double quotes\")\n",
        "print('''I can use tripple single quotes''')\n",
        "print(\"\"\"I can use tripple double quotes\"\"\")"
      ],
      "metadata": {
        "colab": {
          "base_uri": "https://localhost:8080/"
        },
        "id": "L8e-slA3VJ3u",
        "outputId": "551560b4-1c03-4b69-b022-5a397e6c0a3c"
      },
      "execution_count": null,
      "outputs": [
        {
          "output_type": "stream",
          "name": "stdout",
          "text": [
            "I can use single quotes\n",
            "I can use double quotes\n",
            "I can use tripple single quotes\n",
            "I can use tripple double quotes\n"
          ]
        }
      ]
    },
    {
      "cell_type": "code",
      "source": [
        "print(\"\"\"~!@#$%^&*()_+`12345678900-=\"\"\")"
      ],
      "metadata": {
        "colab": {
          "base_uri": "https://localhost:8080/"
        },
        "id": "0MRHclSmVnOW",
        "outputId": "16d98069-43ba-4dfd-d3a1-580ffc9b08f9"
      },
      "execution_count": null,
      "outputs": [
        {
          "output_type": "stream",
          "name": "stdout",
          "text": [
            "~!@#$%^&*()_+`12345678900-=\n"
          ]
        }
      ]
    },
    {
      "cell_type": "code",
      "source": [
        "print('hi')\n",
        "print(\"hi\")\n",
        "# prent('hi')\n",
        "# Print('hi')\n",
        "# print{'hi'}\n",
        "# print(hi)\n",
        "# print('hi'\n",
        "# print('hi) "
      ],
      "metadata": {
        "colab": {
          "base_uri": "https://localhost:8080/"
        },
        "id": "DW5pqNzmVrfq",
        "outputId": "b9a814de-5682-4dbf-a102-2f3db6386f24"
      },
      "execution_count": null,
      "outputs": [
        {
          "output_type": "stream",
          "name": "stdout",
          "text": [
            "hi\n",
            "hi\n"
          ]
        }
      ]
    },
    {
      "cell_type": "code",
      "source": [
        "print(\"Learning python comments\")\n",
        "# this is english not python code\n",
        "# anything that has # in front is conidered as python comment\n",
        "# python comments are ignored by python\n",
        "# the most commin use of this is to document code\n"
      ],
      "metadata": {
        "colab": {
          "base_uri": "https://localhost:8080/"
        },
        "id": "moyL0PZTXxQC",
        "outputId": "21359a2e-8745-4fb0-8894-6d630b668ad6"
      },
      "execution_count": null,
      "outputs": [
        {
          "output_type": "stream",
          "name": "stdout",
          "text": [
            "Learning python comments\n"
          ]
        }
      ]
    },
    {
      "cell_type": "code",
      "source": [
        "## shortcut to comment somethinfg\n",
        "# first select the lines you want to comment\n",
        "# press ctr+/\n",
        "\n",
        "## shortcut to run a code cell\n",
        "# shift + enter"
      ],
      "metadata": {
        "id": "suq5RDFnX9mP"
      },
      "execution_count": null,
      "outputs": []
    },
    {
      "cell_type": "code",
      "source": [
        "print('this is on single line')\n",
        "print(\"this is on a single line\")\n",
        "print(\"\"\"this\n",
        "is in tripple quotes\n",
        "so it can be on multiple lines\"\"\")\n",
        "print('''this\n",
        "is in tripple quotes\n",
        "so it can be on multiple lines''')"
      ],
      "metadata": {
        "colab": {
          "base_uri": "https://localhost:8080/"
        },
        "id": "QkVV5e8mYdrH",
        "outputId": "41c2f7b9-5571-4287-82a2-306a7d0389a1"
      },
      "execution_count": null,
      "outputs": [
        {
          "output_type": "stream",
          "name": "stdout",
          "text": [
            "this is on single line\n",
            "this is on a single line\n",
            "this\n",
            "is in tripple quotes\n",
            "so it can be on multiple lines\n",
            "this\n",
            "is in tripple quotes\n",
            "so it can be on multiple lines\n"
          ]
        }
      ]
    },
    {
      "cell_type": "code",
      "source": [
        "print('''Bhardwaj wants to add\n",
        "\"/'\n",
        "in the output''')\n",
        "print(\"'hi'\")"
      ],
      "metadata": {
        "colab": {
          "base_uri": "https://localhost:8080/"
        },
        "id": "XXCzk0wnZGJp",
        "outputId": "91b6fe69-0b25-4a24-9220-25e59bbb359c"
      },
      "execution_count": null,
      "outputs": [
        {
          "output_type": "stream",
          "name": "stdout",
          "text": [
            "Bhardwaj wants to add\n",
            "\"/'\n",
            "in the output\n",
            "'hi'\n"
          ]
        }
      ]
    }
  ]
}