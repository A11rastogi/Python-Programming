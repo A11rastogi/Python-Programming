{
  "nbformat": 4,
  "nbformat_minor": 0,
  "metadata": {
    "colab": {
      "provenance": [],
      "authorship_tag": "ABX9TyMHHB5+JMcfalycmZMcLsGv",
      "include_colab_link": true
    },
    "kernelspec": {
      "name": "python3",
      "display_name": "Python 3"
    },
    "language_info": {
      "name": "python"
    }
  },
  "cells": [
    {
      "cell_type": "markdown",
      "metadata": {
        "id": "view-in-github",
        "colab_type": "text"
      },
      "source": [
        "<a href=\"https://colab.research.google.com/github/A11rastogi/Python-Programming/blob/main/Datatypes_Lecture2.ipynb\" target=\"_parent\"><img src=\"https://colab.research.google.com/assets/colab-badge.svg\" alt=\"Open In Colab\"/></a>"
      ]
    },
    {
      "cell_type": "code",
      "execution_count": null,
      "metadata": {
        "colab": {
          "base_uri": "https://localhost:8080/"
        },
        "id": "-rxJl9YIl_ev",
        "outputId": "47c24feb-8fd2-4975-bc96-1c1c451e1eed"
      },
      "outputs": [
        {
          "output_type": "stream",
          "name": "stdout",
          "text": [
            "Hello World\n"
          ]
        }
      ],
      "source": [
        "print ('Hello World')"
      ]
    },
    {
      "cell_type": "code",
      "source": [
        "print ('Abhinav' + 'Rastogi' + 'Age:30' + 'DoB: 11/11/1990')"
      ],
      "metadata": {
        "colab": {
          "base_uri": "https://localhost:8080/"
        },
        "id": "K22R9CK8C_Al",
        "outputId": "59cc69a9-7a2d-4802-e000-172b6973adbb"
      },
      "execution_count": 3,
      "outputs": [
        {
          "output_type": "stream",
          "name": "stdout",
          "text": [
            "AbhinavRastogiAge:30DoB: 11/11/1990\n"
          ]
        }
      ]
    },
    {
      "cell_type": "code",
      "source": [
        "print (1500 + 1500)"
      ],
      "metadata": {
        "colab": {
          "base_uri": "https://localhost:8080/"
        },
        "id": "RWK17ZEUEqgi",
        "outputId": "d774fa54-77f4-460b-dad7-d8e6452addb4"
      },
      "execution_count": 4,
      "outputs": [
        {
          "output_type": "stream",
          "name": "stdout",
          "text": [
            "3000\n"
          ]
        }
      ]
    },
    {
      "cell_type": "code",
      "source": [
        "print (2500.25 + 2500.25)"
      ],
      "metadata": {
        "colab": {
          "base_uri": "https://localhost:8080/"
        },
        "id": "REKnvMUDEugx",
        "outputId": "7b73a43d-32e5-429c-f764-7507b3e45407"
      },
      "execution_count": 5,
      "outputs": [
        {
          "output_type": "stream",
          "name": "stdout",
          "text": [
            "5000.5\n"
          ]
        }
      ]
    },
    {
      "cell_type": "code",
      "source": [
        "# Expression and variables"
      ],
      "metadata": {
        "id": "bGmZM2BjN2_g"
      },
      "execution_count": 6,
      "outputs": []
    },
    {
      "cell_type": "code",
      "source": [
        "x = 15\n",
        "print (x)"
      ],
      "metadata": {
        "colab": {
          "base_uri": "https://localhost:8080/"
        },
        "id": "ydQbgGeoOCo7",
        "outputId": "18942c08-9020-4e0b-986d-1b057c469f7e"
      },
      "execution_count": 8,
      "outputs": [
        {
          "output_type": "stream",
          "name": "stdout",
          "text": [
            "15\n"
          ]
        }
      ]
    },
    {
      "cell_type": "code",
      "source": [
        "x=15\n",
        "y=20\n",
        "z=35\n",
        "print (x+y+z)"
      ],
      "metadata": {
        "colab": {
          "base_uri": "https://localhost:8080/"
        },
        "id": "3E92UirSOL6x",
        "outputId": "edf22fa2-b52f-4da5-b35c-e752fa79e9e1"
      },
      "execution_count": 9,
      "outputs": [
        {
          "output_type": "stream",
          "name": "stdout",
          "text": [
            "70\n"
          ]
        }
      ]
    },
    {
      "cell_type": "code",
      "source": [
        "Name= 'Abhinav'\n",
        "Sex = 'Male'\n",
        "Education = 'MBA'\n",
        "City = 'Ambala'\n",
        "Income = 1200000\n",
        "print (Name,Sex,Education,City,Income)\n",
        "print (type(Name),type(Sex),type(Education),type(City),type(Income))"
      ],
      "metadata": {
        "colab": {
          "base_uri": "https://localhost:8080/"
        },
        "id": "RUXKeUSNa2C4",
        "outputId": "2c3ecc26-9de1-4cb9-f76e-339f45f75f66"
      },
      "execution_count": 20,
      "outputs": [
        {
          "output_type": "stream",
          "name": "stdout",
          "text": [
            "Abhinav Male MBA Ambala 1200000\n",
            "<class 'str'> <class 'str'> <class 'str'> <class 'str'> <class 'int'>\n"
          ]
        }
      ]
    },
    {
      "cell_type": "code",
      "source": [
        "print ('Abhinav',30,'M','Ambala', sep=\"\\n\")"
      ],
      "metadata": {
        "colab": {
          "base_uri": "https://localhost:8080/"
        },
        "id": "IJokb_gjdHww",
        "outputId": "4a0142d7-7be9-465b-9707-732c59a709b0"
      },
      "execution_count": 25,
      "outputs": [
        {
          "output_type": "stream",
          "name": "stdout",
          "text": [
            "Abhinav\n",
            "30\n",
            "M\n",
            "Ambala\n"
          ]
        }
      ]
    },
    {
      "cell_type": "code",
      "source": [
        "print ('Abhinav',30,'M','Ambala', sep=\"\\n\", end=\"<>\")"
      ],
      "metadata": {
        "colab": {
          "base_uri": "https://localhost:8080/"
        },
        "id": "N5b5D1SomVVA",
        "outputId": "dca17763-4cd3-458b-f5e0-947616f85a63"
      },
      "execution_count": 26,
      "outputs": [
        {
          "output_type": "stream",
          "name": "stdout",
          "text": [
            "Abhinav\n",
            "30\n",
            "M\n",
            "Ambala<>"
          ]
        }
      ]
    },
    {
      "cell_type": "code",
      "source": [
        "input()"
      ],
      "metadata": {
        "colab": {
          "base_uri": "https://localhost:8080/",
          "height": 53
        },
        "id": "drfpbywenJVD",
        "outputId": "d8e88f45-bdf2-4c56-89f4-151545a65283"
      },
      "execution_count": 28,
      "outputs": [
        {
          "name": "stdout",
          "output_type": "stream",
          "text": [
            "My name is Abhinav\n"
          ]
        },
        {
          "output_type": "execute_result",
          "data": {
            "text/plain": [
              "'My name is Abhinav'"
            ],
            "application/vnd.google.colaboratory.intrinsic+json": {
              "type": "string"
            }
          },
          "metadata": {},
          "execution_count": 28
        }
      ]
    },
    {
      "cell_type": "code",
      "source": [
        "name = input('Tell me your name?')\n",
        "print ('The user name is', name)"
      ],
      "metadata": {
        "colab": {
          "base_uri": "https://localhost:8080/"
        },
        "id": "HXlmfwUoqxd3",
        "outputId": "a3bc8633-a77a-4696-a8bd-ba60bdf66bc9"
      },
      "execution_count": 29,
      "outputs": [
        {
          "output_type": "stream",
          "name": "stdout",
          "text": [
            "Tell me your name?Abhinav\n",
            "The user name is Abhinav\n"
          ]
        }
      ]
    },
    {
      "cell_type": "code",
      "source": [
        "Age = input('Tell me your age')\n",
        "print ('The user age is', Age)"
      ],
      "metadata": {
        "colab": {
          "base_uri": "https://localhost:8080/"
        },
        "id": "hIRxOwq-tCRO",
        "outputId": "fa2a34a5-0374-4abe-ddd5-45c4d71e4b12"
      },
      "execution_count": 30,
      "outputs": [
        {
          "output_type": "stream",
          "name": "stdout",
          "text": [
            "Tell me your age30\n",
            "The user age is 30\n"
          ]
        }
      ]
    },
    {
      "cell_type": "code",
      "source": [
        "nextage = int(Age) + 1\n",
        "print(nextage)"
      ],
      "metadata": {
        "colab": {
          "base_uri": "https://localhost:8080/"
        },
        "id": "7ghRMA5VtUjI",
        "outputId": "3751e029-f011-46c2-91bf-2f6f90d0d452"
      },
      "execution_count": 34,
      "outputs": [
        {
          "output_type": "stream",
          "name": "stdout",
          "text": [
            "31\n"
          ]
        }
      ]
    },
    {
      "cell_type": "code",
      "source": [
        "weight = input('What is your weight in Kg:')\n",
        "weight = int(weight)\n",
        "print('your weight in grams is',weight*1000)"
      ],
      "metadata": {
        "colab": {
          "base_uri": "https://localhost:8080/"
        },
        "id": "YcKc7rOGu3IV",
        "outputId": "d589ff15-7952-4676-d3d5-f835c62fc7ac"
      },
      "execution_count": 37,
      "outputs": [
        {
          "output_type": "stream",
          "name": "stdout",
          "text": [
            "What is your weight in Kg:80\n",
            "your weight in grams is 80000\n"
          ]
        }
      ]
    },
    {
      "cell_type": "code",
      "source": [
        "weight = int(input('What is your weight in Kg:'))\n",
        "print('your weight in grams is',weight*1000)"
      ],
      "metadata": {
        "colab": {
          "base_uri": "https://localhost:8080/"
        },
        "id": "dGtln3r2ySfV",
        "outputId": "ff8a3761-4360-4eca-ff9b-5a63e8abc27c"
      },
      "execution_count": 39,
      "outputs": [
        {
          "output_type": "stream",
          "name": "stdout",
          "text": [
            "What is your weight in Kg:80\n",
            "your weight in grams is 80000\n"
          ]
        }
      ]
    },
    {
      "cell_type": "code",
      "source": [
        "a = int(input('Please mention number' ))\n",
        "b = int(input('Please mention number' ))\n",
        "print ('please find average of two mentioned numbers',(a+b)/2)"
      ],
      "metadata": {
        "colab": {
          "base_uri": "https://localhost:8080/"
        },
        "id": "4BnVwbuly1DZ",
        "outputId": "57509d2f-9f30-4a55-ab28-50678d7db788"
      },
      "execution_count": 42,
      "outputs": [
        {
          "output_type": "stream",
          "name": "stdout",
          "text": [
            "Please mention number5\n",
            "Please mention number5\n",
            "please find average of two mentioned numbers 5.0\n"
          ]
        }
      ]
    },
    {
      "cell_type": "code",
      "source": [],
      "metadata": {
        "id": "hZz_GAfrzBw9"
      },
      "execution_count": null,
      "outputs": []
    }
  ]
}