{
  "nbformat": 4,
  "nbformat_minor": 0,
  "metadata": {
    "colab": {
      "provenance": [],
      "authorship_tag": "ABX9TyOuY/oyZwQaFO1uXZfXf9Zg",
      "include_colab_link": true
    },
    "kernelspec": {
      "name": "python3",
      "display_name": "Python 3"
    },
    "language_info": {
      "name": "python"
    }
  },
  "cells": [
    {
      "cell_type": "markdown",
      "metadata": {
        "id": "view-in-github",
        "colab_type": "text"
      },
      "source": [
        "<a href=\"https://colab.research.google.com/github/A11rastogi/Python-Programming/blob/main/Numpy.ipynb\" target=\"_parent\"><img src=\"https://colab.research.google.com/assets/colab-badge.svg\" alt=\"Open In Colab\"/></a>"
      ]
    },
    {
      "cell_type": "code",
      "execution_count": null,
      "metadata": {
        "id": "kxMyW194Dvjb"
      },
      "outputs": [],
      "source": [
        "import numpy as np\n"
      ]
    },
    {
      "cell_type": "code",
      "source": [
        "# Numpy:\n",
        "# Contains homogeneous data type\n",
        "# Stores elements in sequence so provides output fast"
      ],
      "metadata": {
        "id": "iwjAHmpCH2UA"
      },
      "execution_count": null,
      "outputs": []
    },
    {
      "cell_type": "code",
      "source": [
        "a = [1,2,3,4,5]\n",
        "arr = np.array(a)\n",
        "arr, type(a), type(arr)\n",
        "arr**2 # here we are squaring the variables mentioned in the list a"
      ],
      "metadata": {
        "colab": {
          "base_uri": "https://localhost:8080/"
        },
        "id": "x0KqOmkgJfjT",
        "outputId": "65d61416-2d72-48f6-88ea-18e45902e5b3"
      },
      "execution_count": null,
      "outputs": [
        {
          "output_type": "execute_result",
          "data": {
            "text/plain": [
              "array([ 1,  4,  9, 16, 25])"
            ]
          },
          "metadata": {},
          "execution_count": 5
        }
      ]
    },
    {
      "cell_type": "code",
      "source": [
        "arr1 = np.array(range(50))\n",
        "arr1"
      ],
      "metadata": {
        "colab": {
          "base_uri": "https://localhost:8080/"
        },
        "id": "nPtIvfPaMoz2",
        "outputId": "d6fe52b0-f244-4db2-a750-3b42c10c96da"
      },
      "execution_count": null,
      "outputs": [
        {
          "output_type": "execute_result",
          "data": {
            "text/plain": [
              "array([ 0,  1,  2,  3,  4,  5,  6,  7,  8,  9, 10, 11, 12, 13, 14, 15, 16,\n",
              "       17, 18, 19, 20, 21, 22, 23, 24, 25, 26, 27, 28, 29, 30, 31, 32, 33,\n",
              "       34, 35, 36, 37, 38, 39, 40, 41, 42, 43, 44, 45, 46, 47, 48, 49])"
            ]
          },
          "metadata": {},
          "execution_count": 6
        }
      ]
    },
    {
      "cell_type": "code",
      "source": [
        "# attributes\n",
        "arr1.ndim # ndim provides dimension of array. here there is one dimension array starting from [0 till 49]"
      ],
      "metadata": {
        "colab": {
          "base_uri": "https://localhost:8080/"
        },
        "id": "Akn4jcN6NJoU",
        "outputId": "84405eb1-e38e-4dc5-8b45-c471c5dd8d11"
      },
      "execution_count": null,
      "outputs": [
        {
          "output_type": "execute_result",
          "data": {
            "text/plain": [
              "1"
            ]
          },
          "metadata": {},
          "execution_count": 7
        }
      ]
    },
    {
      "cell_type": "code",
      "source": [
        "# attributes\n",
        "arr1.shape # provide count of elements"
      ],
      "metadata": {
        "colab": {
          "base_uri": "https://localhost:8080/"
        },
        "id": "WZqSI4pKN0bD",
        "outputId": "655ae299-9cf3-45cb-e1b4-77fa635582fd"
      },
      "execution_count": null,
      "outputs": [
        {
          "output_type": "execute_result",
          "data": {
            "text/plain": [
              "(50,)"
            ]
          },
          "metadata": {},
          "execution_count": 8
        }
      ]
    },
    {
      "cell_type": "code",
      "source": [
        "arr2 = [[1,2,3],[4,5,6],[7,8,9]]\n",
        "arr2"
      ],
      "metadata": {
        "colab": {
          "base_uri": "https://localhost:8080/"
        },
        "id": "DjGOZSYpO_O_",
        "outputId": "f49bcd23-6cd1-4b73-85c8-3ec5351cb35f"
      },
      "execution_count": null,
      "outputs": [
        {
          "output_type": "execute_result",
          "data": {
            "text/plain": [
              "[[1, 2, 3], [4, 5, 6], [7, 8, 9]]"
            ]
          },
          "metadata": {},
          "execution_count": 9
        }
      ]
    },
    {
      "cell_type": "code",
      "source": [
        "mat = np.array(arr2)\n",
        "mat"
      ],
      "metadata": {
        "colab": {
          "base_uri": "https://localhost:8080/"
        },
        "id": "IHJmwikxPS69",
        "outputId": "7c9c49e8-d0c5-4662-fc62-855c0c478399"
      },
      "execution_count": null,
      "outputs": [
        {
          "output_type": "execute_result",
          "data": {
            "text/plain": [
              "array([[1, 2, 3],\n",
              "       [4, 5, 6],\n",
              "       [7, 8, 9]])"
            ]
          },
          "metadata": {},
          "execution_count": 11
        }
      ]
    },
    {
      "cell_type": "code",
      "source": [
        "mat.ndim # here provides 2 as a outcome which signifies its a 2D array >>>> x & y"
      ],
      "metadata": {
        "colab": {
          "base_uri": "https://localhost:8080/"
        },
        "id": "N3g21aXzPgGW",
        "outputId": "61109383-4831-44f9-b4a8-6b751c0ff9d9"
      },
      "execution_count": null,
      "outputs": [
        {
          "output_type": "execute_result",
          "data": {
            "text/plain": [
              "2"
            ]
          },
          "metadata": {},
          "execution_count": 12
        }
      ]
    },
    {
      "cell_type": "code",
      "source": [
        "mat.shape # shows three elements in each row"
      ],
      "metadata": {
        "colab": {
          "base_uri": "https://localhost:8080/"
        },
        "id": "t63QY5U5P89e",
        "outputId": "0868e50c-524a-43db-f164-f03e8ba6a7c5"
      },
      "execution_count": null,
      "outputs": [
        {
          "output_type": "execute_result",
          "data": {
            "text/plain": [
              "(3, 3)"
            ]
          },
          "metadata": {},
          "execution_count": 13
        }
      ]
    },
    {
      "cell_type": "code",
      "source": [
        "# arange Function\n",
        "np.arange(1,5)"
      ],
      "metadata": {
        "colab": {
          "base_uri": "https://localhost:8080/"
        },
        "id": "ExD10VfHRVtp",
        "outputId": "710a6f4b-821e-4fda-8332-134786d03fd5"
      },
      "execution_count": null,
      "outputs": [
        {
          "output_type": "execute_result",
          "data": {
            "text/plain": [
              "array([1, 2, 3, 4])"
            ]
          },
          "metadata": {},
          "execution_count": 15
        }
      ]
    },
    {
      "cell_type": "code",
      "source": [
        "arr4 = np.arange(1,9,2)\n",
        "arr4"
      ],
      "metadata": {
        "colab": {
          "base_uri": "https://localhost:8080/"
        },
        "id": "uQBteRwiSHHq",
        "outputId": "1172e68d-6a90-40d8-eaed-620508afffc1"
      },
      "execution_count": null,
      "outputs": [
        {
          "output_type": "execute_result",
          "data": {
            "text/plain": [
              "array([1, 3, 5, 7])"
            ]
          },
          "metadata": {},
          "execution_count": 18
        }
      ]
    },
    {
      "cell_type": "code",
      "source": [
        "np.arange(1,9,0.5)  - # Adding float value will give result in floating numbers"
      ],
      "metadata": {
        "colab": {
          "base_uri": "https://localhost:8080/"
        },
        "id": "RCfvBApfTDnk",
        "outputId": "d3d313be-2203-4c52-801c-13e580ae542e"
      },
      "execution_count": null,
      "outputs": [
        {
          "output_type": "execute_result",
          "data": {
            "text/plain": [
              "array([1. , 1.5, 2. , 2.5, 3. , 3.5, 4. , 4.5, 5. , 5.5, 6. , 6.5, 7. ,\n",
              "       7.5, 8. , 8.5])"
            ]
          },
          "metadata": {},
          "execution_count": 21
        }
      ]
    },
    {
      "cell_type": "code",
      "source": [
        "arr5 = np.array([\"Abhinav\", 1,23,2.3]) # adding string in the list will convert remaining values into string\n",
        "arr5"
      ],
      "metadata": {
        "colab": {
          "base_uri": "https://localhost:8080/"
        },
        "id": "IXUXuZmjUGSy",
        "outputId": "3af5ac62-3c72-4e88-dad6-d0374879d8f4"
      },
      "execution_count": null,
      "outputs": [
        {
          "output_type": "execute_result",
          "data": {
            "text/plain": [
              "array(['Abhinav', '1', '23', '2.3'], dtype='<U32')"
            ]
          },
          "metadata": {},
          "execution_count": 22
        }
      ]
    },
    {
      "cell_type": "code",
      "source": [
        "np.array([1,2,3,4], dtype=\"float\") # converting integer datatype into float"
      ],
      "metadata": {
        "colab": {
          "base_uri": "https://localhost:8080/"
        },
        "id": "YSUaFwx1V-Fx",
        "outputId": "46e0f558-41c9-46df-93d4-447d28535214"
      },
      "execution_count": null,
      "outputs": [
        {
          "output_type": "execute_result",
          "data": {
            "text/plain": [
              "array([1., 2., 3., 4.])"
            ]
          },
          "metadata": {},
          "execution_count": 23
        }
      ]
    },
    {
      "cell_type": "code",
      "source": [
        "arr = np.arange(10,50,10)\n",
        "arr"
      ],
      "metadata": {
        "colab": {
          "base_uri": "https://localhost:8080/"
        },
        "id": "GZGKZCjUWmwS",
        "outputId": "af4cb988-8b25-428a-a556-e7b1536d2fa9"
      },
      "execution_count": null,
      "outputs": [
        {
          "output_type": "execute_result",
          "data": {
            "text/plain": [
              "array([10, 20, 30, 40])"
            ]
          },
          "metadata": {},
          "execution_count": 25
        }
      ]
    },
    {
      "cell_type": "code",
      "source": [
        "arr = arr.astype('float')  # converting integer datatype into float through astype function\n",
        "arr"
      ],
      "metadata": {
        "colab": {
          "base_uri": "https://localhost:8080/"
        },
        "id": "WOZApSV_W5Cb",
        "outputId": "719d56fe-888f-4e29-f8f8-dad2b52aaabe"
      },
      "execution_count": null,
      "outputs": [
        {
          "output_type": "execute_result",
          "data": {
            "text/plain": [
              "array([10., 20., 30., 40.])"
            ]
          },
          "metadata": {},
          "execution_count": 26
        }
      ]
    },
    {
      "cell_type": "code",
      "source": [
        "# Indexing & Slicing\n",
        "m1 = np.arange(1,8)\n",
        "m1"
      ],
      "metadata": {
        "colab": {
          "base_uri": "https://localhost:8080/"
        },
        "id": "ve17PH4ZXk3l",
        "outputId": "db340d6f-9b08-4fed-d51d-ca4d5866d95f"
      },
      "execution_count": null,
      "outputs": [
        {
          "output_type": "execute_result",
          "data": {
            "text/plain": [
              "array([1, 2, 3, 4, 5, 6, 7])"
            ]
          },
          "metadata": {},
          "execution_count": 27
        }
      ]
    },
    {
      "cell_type": "code",
      "source": [
        "m1[0]"
      ],
      "metadata": {
        "colab": {
          "base_uri": "https://localhost:8080/"
        },
        "id": "Y4J9LHEwXvxP",
        "outputId": "6735e408-8652-4d1d-c181-c4718c50c181"
      },
      "execution_count": null,
      "outputs": [
        {
          "output_type": "execute_result",
          "data": {
            "text/plain": [
              "1"
            ]
          },
          "metadata": {},
          "execution_count": 28
        }
      ]
    },
    {
      "cell_type": "code",
      "source": [
        "m1[3]"
      ],
      "metadata": {
        "colab": {
          "base_uri": "https://localhost:8080/"
        },
        "id": "s39t6FeLXy5G",
        "outputId": "f3c84d6e-5815-4a69-e311-3e7ee3c59e10"
      },
      "execution_count": null,
      "outputs": [
        {
          "output_type": "execute_result",
          "data": {
            "text/plain": [
              "4"
            ]
          },
          "metadata": {},
          "execution_count": 30
        }
      ]
    },
    {
      "cell_type": "code",
      "source": [
        "m1.sum()\n"
      ],
      "metadata": {
        "colab": {
          "base_uri": "https://localhost:8080/"
        },
        "id": "zy1gnchpYaPi",
        "outputId": "6b97c045-6830-4751-97e7-7af2f38bdce0"
      },
      "execution_count": null,
      "outputs": [
        {
          "output_type": "execute_result",
          "data": {
            "text/plain": [
              "28"
            ]
          },
          "metadata": {},
          "execution_count": 32
        }
      ]
    },
    {
      "cell_type": "code",
      "source": [
        "np.sum(m1)"
      ],
      "metadata": {
        "colab": {
          "base_uri": "https://localhost:8080/"
        },
        "id": "iO4T7LqtYtFE",
        "outputId": "eddd2bcf-9442-41af-f196-ddb437b4e2c7"
      },
      "execution_count": null,
      "outputs": [
        {
          "output_type": "execute_result",
          "data": {
            "text/plain": [
              "28"
            ]
          },
          "metadata": {},
          "execution_count": 33
        }
      ]
    },
    {
      "cell_type": "code",
      "source": [
        "# Fancy Indexing - Boolean Indexing\n",
        "m1\n",
        "m1<5 # It compares the number and populates the result in form of boolean"
      ],
      "metadata": {
        "colab": {
          "base_uri": "https://localhost:8080/"
        },
        "id": "KrG1orlUayt-",
        "outputId": "c4e490c3-37a4-4ca3-8a56-7da75a7b6c81"
      },
      "execution_count": null,
      "outputs": [
        {
          "output_type": "execute_result",
          "data": {
            "text/plain": [
              "array([ True,  True,  True,  True, False, False, False])"
            ]
          },
          "metadata": {},
          "execution_count": 37
        }
      ]
    },
    {
      "cell_type": "code",
      "source": [
        "# Extract odd numbers\n",
        "m1\n",
        "m1[m1%2!=0]"
      ],
      "metadata": {
        "colab": {
          "base_uri": "https://localhost:8080/"
        },
        "id": "WU28gNgwbovZ",
        "outputId": "f5925ce2-de31-4969-ae7e-e29f59f578dc"
      },
      "execution_count": null,
      "outputs": [
        {
          "output_type": "execute_result",
          "data": {
            "text/plain": [
              "array([1, 3, 5, 7])"
            ]
          },
          "metadata": {},
          "execution_count": 42
        }
      ]
    },
    {
      "cell_type": "code",
      "source": [
        "# Airbnb - Case Study\n",
        "# NPS --- Net Promoter Score >>>> (%Promoters - % Detractors)\n",
        "# People who give Rating btw 0-6  ----  Detractors\n",
        "# People who give Rating above 8  ----- Promoters"
      ],
      "metadata": {
        "id": "rxt0tiPbFdTu"
      },
      "execution_count": null,
      "outputs": []
    },
    {
      "cell_type": "code",
      "source": [
        "!gdown 1c0ClC8SrPwJq5rrkyMKyPn80nyHcFikK   # command to download a file"
      ],
      "metadata": {
        "colab": {
          "base_uri": "https://localhost:8080/"
        },
        "id": "jWgCUXJoei0D",
        "outputId": "5409a9b5-0355-4a0c-8437-786667a66799"
      },
      "execution_count": null,
      "outputs": [
        {
          "output_type": "stream",
          "name": "stdout",
          "text": [
            "Downloading...\n",
            "From: https://drive.google.com/uc?id=1c0ClC8SrPwJq5rrkyMKyPn80nyHcFikK\n",
            "To: /content/survey.txt\n",
            "\r  0% 0.00/2.55k [00:00<?, ?B/s]\r100% 2.55k/2.55k [00:00<00:00, 11.2MB/s]\n"
          ]
        }
      ]
    },
    {
      "cell_type": "code",
      "source": [
        "# loading file in a variable by keeping datatype int\n",
        "scores = np.loadtxt('survey.txt', dtype = 'int')\n",
        "scores"
      ],
      "metadata": {
        "colab": {
          "base_uri": "https://localhost:8080/"
        },
        "id": "g9dhuaTAfnL4",
        "outputId": "99eb9777-516b-4fa4-a4e4-1923e70e8716"
      },
      "execution_count": null,
      "outputs": [
        {
          "output_type": "execute_result",
          "data": {
            "text/plain": [
              "array([ 7, 10,  5, ...,  5,  9, 10])"
            ]
          },
          "metadata": {},
          "execution_count": 44
        }
      ]
    },
    {
      "cell_type": "code",
      "source": [
        "scores.shape # no of elements"
      ],
      "metadata": {
        "colab": {
          "base_uri": "https://localhost:8080/"
        },
        "id": "9EjXj_6BgGtj",
        "outputId": "3ceca490-92e1-4687-8887-22f351b5634c"
      },
      "execution_count": null,
      "outputs": [
        {
          "output_type": "execute_result",
          "data": {
            "text/plain": [
              "(1167,)"
            ]
          },
          "metadata": {},
          "execution_count": 47
        }
      ]
    },
    {
      "cell_type": "code",
      "source": [
        "total = scores.size\n",
        "total"
      ],
      "metadata": {
        "colab": {
          "base_uri": "https://localhost:8080/"
        },
        "id": "j9lj2tLvkRZ5",
        "outputId": "5f119d5d-2b4f-4ca8-ab7c-7d33343a8ef5"
      },
      "execution_count": null,
      "outputs": [
        {
          "output_type": "execute_result",
          "data": {
            "text/plain": [
              "1167"
            ]
          },
          "metadata": {},
          "execution_count": 54
        }
      ]
    },
    {
      "cell_type": "code",
      "source": [
        "scores.shape[0] # first element from list of elements"
      ],
      "metadata": {
        "colab": {
          "base_uri": "https://localhost:8080/"
        },
        "id": "Hbu85rjwgWBj",
        "outputId": "82b6c832-5ee6-4d1f-eea2-755b77a727c1"
      },
      "execution_count": null,
      "outputs": [
        {
          "output_type": "execute_result",
          "data": {
            "text/plain": [
              "1167"
            ]
          },
          "metadata": {},
          "execution_count": 48
        }
      ]
    },
    {
      "cell_type": "code",
      "source": [
        "scores.min()\n",
        "scores.max()"
      ],
      "metadata": {
        "colab": {
          "base_uri": "https://localhost:8080/"
        },
        "id": "dB_ke9LGglMT",
        "outputId": "8e7ef34c-2f6d-4546-9a54-170b4e4fc945"
      },
      "execution_count": null,
      "outputs": [
        {
          "output_type": "execute_result",
          "data": {
            "text/plain": [
              "10"
            ]
          },
          "metadata": {},
          "execution_count": 50
        }
      ]
    },
    {
      "cell_type": "code",
      "source": [
        "promoters = scores[scores>8].size\n",
        "promoters"
      ],
      "metadata": {
        "colab": {
          "base_uri": "https://localhost:8080/"
        },
        "id": "sN22lZB4i9Vv",
        "outputId": "d6012d98-faf0-4d66-fc05-021fc0936872"
      },
      "execution_count": null,
      "outputs": [
        {
          "output_type": "execute_result",
          "data": {
            "text/plain": [
              "609"
            ]
          },
          "metadata": {},
          "execution_count": 51
        }
      ]
    },
    {
      "cell_type": "code",
      "source": [
        "promoters_percent = promoters/total * 100\n",
        "promoters_percent"
      ],
      "metadata": {
        "colab": {
          "base_uri": "https://localhost:8080/"
        },
        "id": "XELpRCy3j7oR",
        "outputId": "72ca6994-5dd7-492b-c9f1-31f3488fe6eb"
      },
      "execution_count": null,
      "outputs": [
        {
          "output_type": "execute_result",
          "data": {
            "text/plain": [
              "52.185089974293064"
            ]
          },
          "metadata": {},
          "execution_count": 56
        }
      ]
    },
    {
      "cell_type": "code",
      "source": [
        "detractors = scores[scores<6].size\n",
        "detractors"
      ],
      "metadata": {
        "colab": {
          "base_uri": "https://localhost:8080/"
        },
        "id": "psdA9bI4kyAK",
        "outputId": "5294bd67-6568-4075-dc3e-f889e9f4b991"
      },
      "execution_count": null,
      "outputs": [
        {
          "output_type": "execute_result",
          "data": {
            "text/plain": [
              "332"
            ]
          },
          "metadata": {},
          "execution_count": 57
        }
      ]
    },
    {
      "cell_type": "code",
      "source": [
        "detractors_percent = detractors/total * 100\n",
        "detractors_percent"
      ],
      "metadata": {
        "colab": {
          "base_uri": "https://localhost:8080/"
        },
        "id": "wTuvuX5YlQfU",
        "outputId": "da086b4d-62d7-41e0-8c75-72415da2e161"
      },
      "execution_count": null,
      "outputs": [
        {
          "output_type": "execute_result",
          "data": {
            "text/plain": [
              "28.449014567266495"
            ]
          },
          "metadata": {},
          "execution_count": 58
        }
      ]
    },
    {
      "cell_type": "code",
      "source": [
        "NPS = promoters_percent - detractors_percent\n",
        "round(NPS, 2)"
      ],
      "metadata": {
        "colab": {
          "base_uri": "https://localhost:8080/"
        },
        "id": "vrnUhPeDldku",
        "outputId": "62fc2f68-9aab-4558-e8f5-901ac6302600"
      },
      "execution_count": null,
      "outputs": [
        {
          "output_type": "execute_result",
          "data": {
            "text/plain": [
              "23.74"
            ]
          },
          "metadata": {},
          "execution_count": 61
        }
      ]
    },
    {
      "cell_type": "code",
      "source": [
        "a = np.arange(10)\n",
        "a\n"
      ],
      "metadata": {
        "colab": {
          "base_uri": "https://localhost:8080/"
        },
        "id": "rYtHWXnUrsSW",
        "outputId": "48d5e9c6-1091-4463-db98-bf68102acf1b"
      },
      "execution_count": null,
      "outputs": [
        {
          "output_type": "execute_result",
          "data": {
            "text/plain": [
              "array([0, 1, 2, 3, 4, 5, 6, 7, 8, 9])"
            ]
          },
          "metadata": {},
          "execution_count": 76
        }
      ]
    },
    {
      "cell_type": "code",
      "source": [
        "print(a[2:5])"
      ],
      "metadata": {
        "colab": {
          "base_uri": "https://localhost:8080/"
        },
        "id": "xPe3JwW1r282",
        "outputId": "8a917956-296b-4d06-e272-d9551ddaa85b"
      },
      "execution_count": null,
      "outputs": [
        {
          "output_type": "stream",
          "name": "stdout",
          "text": [
            "[2 3 4]\n"
          ]
        }
      ]
    },
    {
      "cell_type": "code",
      "source": [
        "import numpy as np"
      ],
      "metadata": {
        "id": "F_MP-yOwKX3U"
      },
      "execution_count": null,
      "outputs": []
    },
    {
      "cell_type": "code",
      "source": [
        "arr4 = np.arange(1,9,2)\n",
        "arr4"
      ],
      "metadata": {
        "colab": {
          "base_uri": "https://localhost:8080/"
        },
        "id": "ldXPJcWgKiPM",
        "outputId": "aa6f6d31-dccb-4665-8071-577b9b12af3d"
      },
      "execution_count": null,
      "outputs": [
        {
          "output_type": "execute_result",
          "data": {
            "text/plain": [
              "array([1, 3, 5, 7])"
            ]
          },
          "metadata": {},
          "execution_count": 3
        }
      ]
    },
    {
      "cell_type": "code",
      "source": [
        "arr5 = np.linspace(1,9,2)\n",
        "arr5"
      ],
      "metadata": {
        "colab": {
          "base_uri": "https://localhost:8080/"
        },
        "id": "DDS-51IiKkmZ",
        "outputId": "3d12c26f-d6de-453d-c747-08faa53f8ab0"
      },
      "execution_count": null,
      "outputs": [
        {
          "output_type": "execute_result",
          "data": {
            "text/plain": [
              "array([1., 9.])"
            ]
          },
          "metadata": {},
          "execution_count": 4
        }
      ]
    },
    {
      "cell_type": "code",
      "source": [
        "import numpy as np"
      ],
      "metadata": {
        "id": "wiT-TtW5SKDI"
      },
      "execution_count": 1,
      "outputs": []
    },
    {
      "cell_type": "code",
      "source": [
        "a = np.arange(5)\n",
        "a\n",
        "print(np.sum(a))\n",
        "print(np.size(a))"
      ],
      "metadata": {
        "colab": {
          "base_uri": "https://localhost:8080/"
        },
        "id": "kaUhsATZxUfM",
        "outputId": "72d65328-7899-4093-f649-ccd581f2b769"
      },
      "execution_count": 5,
      "outputs": [
        {
          "output_type": "stream",
          "name": "stdout",
          "text": [
            "10\n",
            "5\n"
          ]
        }
      ]
    },
    {
      "cell_type": "code",
      "source": [
        "a = np.arange(10,22).reshape((3, 4))  # Reshaping the array into matrix of (3,4)\n",
        "\n",
        "print(a)"
      ],
      "metadata": {
        "id": "4efbasX98qpK",
        "outputId": "44571d18-0fa8-4794-8c34-79468101b42a",
        "colab": {
          "base_uri": "https://localhost:8080/"
        }
      },
      "execution_count": null,
      "outputs": [
        {
          "output_type": "stream",
          "name": "stdout",
          "text": [
            "[[10 11 12 13]\n",
            " [14 15 16 17]\n",
            " [18 19 20 21]]\n"
          ]
        }
      ]
    },
    {
      "cell_type": "code",
      "source": [
        "import numpy as np\n",
        "# Unique values in array using numpy\n",
        "arr2 = np.array([5,4,3,5,4,6,7])\n",
        "arr2\n",
        "np.unique(arr2) # unique function\n",
        "# count of unique values in the array\n",
        "arr3 = np.unique(arr2, return_counts = True)\n",
        "arr3\n",
        "# compute mean\n",
        "np.round(np.mean(arr2),2)"
      ],
      "metadata": {
        "colab": {
          "base_uri": "https://localhost:8080/"
        },
        "id": "UsqYNDHSIOFP",
        "outputId": "56c5b483-0fd6-4901-a5ae-e4e707ac54f2"
      },
      "execution_count": 12,
      "outputs": [
        {
          "output_type": "execute_result",
          "data": {
            "text/plain": [
              "4.86"
            ]
          },
          "metadata": {},
          "execution_count": 12
        }
      ]
    },
    {
      "cell_type": "code",
      "source": [
        "m = np.array(['sad', 'sad', 'happy', 'neutral',  'happy'])\n",
        "m"
      ],
      "metadata": {
        "colab": {
          "base_uri": "https://localhost:8080/"
        },
        "id": "LReqpfekO0A2",
        "outputId": "dc7aec76-7302-4366-be33-d29e1c8bef67"
      },
      "execution_count": 13,
      "outputs": [
        {
          "output_type": "execute_result",
          "data": {
            "text/plain": [
              "array(['sad', 'sad', 'happy', 'neutral', 'happy'], dtype='<U7')"
            ]
          },
          "metadata": {},
          "execution_count": 13
        }
      ]
    },
    {
      "cell_type": "code",
      "source": [
        "# Boolean - comparison operator\n",
        "m == \"sad\""
      ],
      "metadata": {
        "colab": {
          "base_uri": "https://localhost:8080/"
        },
        "id": "grm1uxh5PDKf",
        "outputId": "46066134-ba4c-4106-b305-0c2bd1c54188"
      },
      "execution_count": 14,
      "outputs": [
        {
          "output_type": "execute_result",
          "data": {
            "text/plain": [
              "array([ True,  True, False, False, False])"
            ]
          },
          "metadata": {},
          "execution_count": 14
        }
      ]
    },
    {
      "cell_type": "code",
      "source": [
        "s = np.array([1400, 1500, 2500, 1800, 2400])\n",
        "s"
      ],
      "metadata": {
        "colab": {
          "base_uri": "https://localhost:8080/"
        },
        "id": "r2_AkrunPuF6",
        "outputId": "be6e44ef-26f2-4ba0-8370-ae6d32d0b0ab"
      },
      "execution_count": 15,
      "outputs": [
        {
          "output_type": "execute_result",
          "data": {
            "text/plain": [
              "array([1400, 1500, 2500, 1800, 2400])"
            ]
          },
          "metadata": {},
          "execution_count": 15
        }
      ]
    },
    {
      "cell_type": "code",
      "source": [
        "# if we want to check how many steps taken by a person who is sad\n",
        "s [m == \"sad\"]"
      ],
      "metadata": {
        "colab": {
          "base_uri": "https://localhost:8080/"
        },
        "id": "s8fJ1ZiEPwmy",
        "outputId": "c8f22b7c-de17-40ad-cdad-ed82be870361"
      },
      "execution_count": 16,
      "outputs": [
        {
          "output_type": "execute_result",
          "data": {
            "text/plain": [
              "array([1400, 1500])"
            ]
          },
          "metadata": {},
          "execution_count": 16
        }
      ]
    },
    {
      "cell_type": "code",
      "source": [
        "# 2D Array >> Sum\n",
        "m = np.arange(2,14).reshape(3,4)\n",
        "m"
      ],
      "metadata": {
        "colab": {
          "base_uri": "https://localhost:8080/"
        },
        "id": "VWdOGQoRW1oI",
        "outputId": "d991add4-27fa-40da-b46e-538f7c3cba44"
      },
      "execution_count": 17,
      "outputs": [
        {
          "output_type": "execute_result",
          "data": {
            "text/plain": [
              "array([[ 2,  3,  4,  5],\n",
              "       [ 6,  7,  8,  9],\n",
              "       [10, 11, 12, 13]])"
            ]
          },
          "metadata": {},
          "execution_count": 17
        }
      ]
    },
    {
      "cell_type": "code",
      "source": [
        "# Axis = 0 >> provides column wise sum\n",
        "np.sum(m, axis=0)"
      ],
      "metadata": {
        "id": "YAfjvq-eXT2N",
        "outputId": "8e8cb5eb-502b-469a-c5f5-4d770932ed41",
        "colab": {
          "base_uri": "https://localhost:8080/"
        }
      },
      "execution_count": 18,
      "outputs": [
        {
          "output_type": "execute_result",
          "data": {
            "text/plain": [
              "array([18, 21, 24, 27])"
            ]
          },
          "metadata": {},
          "execution_count": 18
        }
      ]
    },
    {
      "cell_type": "code",
      "source": [
        "# Axis = 1 >> provides row wise sum\n",
        "np.sum(m, axis=1)"
      ],
      "metadata": {
        "id": "A0M4hFoaX1Um",
        "outputId": "4fb24513-0acc-4bb9-c01b-db5f1490c0ef",
        "colab": {
          "base_uri": "https://localhost:8080/"
        }
      },
      "execution_count": 20,
      "outputs": [
        {
          "output_type": "execute_result",
          "data": {
            "text/plain": [
              "array([14, 30, 46])"
            ]
          },
          "metadata": {},
          "execution_count": 20
        }
      ]
    },
    {
      "cell_type": "code",
      "source": [
        "# Any and all function\n",
        "a = np.array([1,5,4,5])\n",
        "b = np.array([2,3,5,7])\n",
        "a>b"
      ],
      "metadata": {
        "id": "ODpIwdNaYnjc",
        "outputId": "b6ae2cea-1814-4f60-eae1-838ce0cf179d",
        "colab": {
          "base_uri": "https://localhost:8080/"
        }
      },
      "execution_count": 24,
      "outputs": [
        {
          "output_type": "execute_result",
          "data": {
            "text/plain": [
              "array([False,  True, False, False])"
            ]
          },
          "metadata": {},
          "execution_count": 24
        }
      ]
    },
    {
      "cell_type": "code",
      "source": [
        "np.any(a>b)\n",
        "# It does element wise comparison and draw the output >> If found any true result then throws the output as \"True\""
      ],
      "metadata": {
        "id": "h0XDQ_hRZF_d",
        "outputId": "80c890b3-e1fa-4672-d0e1-b94068aa0279",
        "colab": {
          "base_uri": "https://localhost:8080/"
        }
      },
      "execution_count": 25,
      "outputs": [
        {
          "output_type": "execute_result",
          "data": {
            "text/plain": [
              "True"
            ]
          },
          "metadata": {},
          "execution_count": 25
        }
      ]
    },
    {
      "cell_type": "code",
      "source": [
        "np.all(a>b)\n",
        "# It does element wise comparison and draw the output >> If found any false result then throws the output as \"False\""
      ],
      "metadata": {
        "id": "a_w7c60yZrcL",
        "outputId": "ad807f48-b8ae-4c55-8d55-889cfb312874",
        "colab": {
          "base_uri": "https://localhost:8080/"
        }
      },
      "execution_count": 26,
      "outputs": [
        {
          "output_type": "execute_result",
          "data": {
            "text/plain": [
              "False"
            ]
          },
          "metadata": {},
          "execution_count": 26
        }
      ]
    },
    {
      "cell_type": "code",
      "source": [
        "# Assigning values\n",
        "arr = np.array([2,-1,5,-9,5,6,-10,3,5,-16])\n",
        "arr"
      ],
      "metadata": {
        "id": "fw3IxWmsaR3q",
        "outputId": "b199ce45-f9b3-400d-dc9f-f1d3832ee4ee",
        "colab": {
          "base_uri": "https://localhost:8080/"
        }
      },
      "execution_count": 27,
      "outputs": [
        {
          "output_type": "execute_result",
          "data": {
            "text/plain": [
              "array([  2,  -1,   5,  -9,   5,   6, -10,   3,   5, -16])"
            ]
          },
          "metadata": {},
          "execution_count": 27
        }
      ]
    },
    {
      "cell_type": "code",
      "source": [
        "arr[arr>0]\n",
        "# here we have just extracted the values which are greater than \"0\""
      ],
      "metadata": {
        "id": "WjM_fvURalE4",
        "outputId": "d947437d-cfae-4ca7-a5bc-e2fe36555780",
        "colab": {
          "base_uri": "https://localhost:8080/"
        }
      },
      "execution_count": 28,
      "outputs": [
        {
          "output_type": "execute_result",
          "data": {
            "text/plain": [
              "array([2, 5, 5, 6, 3, 5])"
            ]
          },
          "metadata": {},
          "execution_count": 28
        }
      ]
    },
    {
      "cell_type": "code",
      "source": [
        "arr[arr<0] = 1\n",
        "arr\n",
        "# here replaces all values which are less than \"0\" with \"1\""
      ],
      "metadata": {
        "id": "nTcoG8CEa32F",
        "outputId": "963757ba-bd71-409b-9d00-8aa297521d6f",
        "colab": {
          "base_uri": "https://localhost:8080/"
        }
      },
      "execution_count": 30,
      "outputs": [
        {
          "output_type": "execute_result",
          "data": {
            "text/plain": [
              "array([2, 1, 5, 1, 5, 6, 1, 3, 5, 1])"
            ]
          },
          "metadata": {},
          "execution_count": 30
        }
      ]
    },
    {
      "cell_type": "code",
      "source": [
        "arr[:2] = 0\n",
        "arr\n",
        "# replacing values present at index 0 & 1 with 0"
      ],
      "metadata": {
        "id": "3t41zu6xcAPy",
        "outputId": "fc8c1536-71fb-42f6-a7ff-2ed2e795196a",
        "colab": {
          "base_uri": "https://localhost:8080/"
        }
      },
      "execution_count": 32,
      "outputs": [
        {
          "output_type": "execute_result",
          "data": {
            "text/plain": [
              "array([0, 0, 5, 1, 5, 6, 1, 3, 5, 1])"
            ]
          },
          "metadata": {},
          "execution_count": 32
        }
      ]
    },
    {
      "cell_type": "code",
      "source": [
        "# Transpose\n",
        "a = np.array([[6, 28], [8, 56], [7, 19]])\n",
        "\n",
        "x=np.transpose(a).reshape(1,6)\n",
        "\n",
        "print(x)"
      ],
      "metadata": {
        "id": "uSTU-TXintWa",
        "outputId": "ef0dccbf-5494-4e86-e7ee-17fe0435b432",
        "colab": {
          "base_uri": "https://localhost:8080/"
        }
      },
      "execution_count": 38,
      "outputs": [
        {
          "output_type": "stream",
          "name": "stdout",
          "text": [
            "[[ 6  8  7 28 56 19]]\n"
          ]
        }
      ]
    },
    {
      "cell_type": "code",
      "source": [
        "a = np.array([[34, 28,55], [8, 56, 3], [77, 87, 19]])\n",
        "\n",
        "array = a.transpose()\n",
        "array[-2,-2] # fetch the element which is present at the [-2,-2] index"
      ],
      "metadata": {
        "id": "FcW8h1mRn2Lb",
        "outputId": "75b71e25-2bdd-415f-d141-1f71467ac45e",
        "colab": {
          "base_uri": "https://localhost:8080/"
        }
      },
      "execution_count": 37,
      "outputs": [
        {
          "output_type": "execute_result",
          "data": {
            "text/plain": [
              "56"
            ]
          },
          "metadata": {},
          "execution_count": 37
        }
      ]
    },
    {
      "cell_type": "code",
      "source": [
        "# All the elements except those at the border are equated to zero.\n",
        "x = np.ones((5,5))\n",
        "x\n",
        "x[1:-1,1:-1] = 0\n",
        "x"
      ],
      "metadata": {
        "id": "V6At5J8Bo0yH",
        "outputId": "302b1bc6-92fd-432f-ca80-c54fe4b8fff1",
        "colab": {
          "base_uri": "https://localhost:8080/"
        }
      },
      "execution_count": 41,
      "outputs": [
        {
          "output_type": "execute_result",
          "data": {
            "text/plain": [
              "array([[1., 1., 1., 1., 1.],\n",
              "       [1., 0., 0., 0., 1.],\n",
              "       [1., 0., 0., 0., 1.],\n",
              "       [1., 0., 0., 0., 1.],\n",
              "       [1., 1., 1., 1., 1.]])"
            ]
          },
          "metadata": {},
          "execution_count": 41
        }
      ]
    },
    {
      "cell_type": "code",
      "source": [
        "A = np.arange(9).reshape(3,3)\n",
        "A"
      ],
      "metadata": {
        "id": "_AIMITdbqwS6",
        "outputId": "a2d6a765-1966-40a1-8f02-68306e038bce",
        "colab": {
          "base_uri": "https://localhost:8080/"
        }
      },
      "execution_count": 43,
      "outputs": [
        {
          "output_type": "execute_result",
          "data": {
            "text/plain": [
              "array([[0, 1, 2],\n",
              "       [3, 4, 5],\n",
              "       [6, 7, 8]])"
            ]
          },
          "metadata": {},
          "execution_count": 43
        }
      ]
    },
    {
      "cell_type": "code",
      "source": [
        "# swapper - swapped the rows btw each other. Here, swapped first with second row?\n",
        "print(A[[1,0,2], :])"
      ],
      "metadata": {
        "id": "DytSL_dzrB4n",
        "outputId": "fbdb83cc-8ad4-482c-a21c-12610386e4d7",
        "colab": {
          "base_uri": "https://localhost:8080/"
        }
      },
      "execution_count": 44,
      "outputs": [
        {
          "output_type": "stream",
          "name": "stdout",
          "text": [
            "[[3 4 5]\n",
            " [0 1 2]\n",
            " [6 7 8]]\n"
          ]
        }
      ]
    },
    {
      "cell_type": "code",
      "source": [
        "A = np.arange(9).reshape(3,3)\n",
        "print(A[:, ::-1])\n",
        "# \":\" >> represent rows\n",
        "# \"::-1\" >>> reverse the columns"
      ],
      "metadata": {
        "id": "MKDttTYUsBJQ",
        "outputId": "246102bd-c3fa-4650-e690-387177bb2f70",
        "colab": {
          "base_uri": "https://localhost:8080/"
        }
      },
      "execution_count": 45,
      "outputs": [
        {
          "output_type": "stream",
          "name": "stdout",
          "text": [
            "[[2 1 0]\n",
            " [5 4 3]\n",
            " [8 7 6]]\n"
          ]
        }
      ]
    },
    {
      "cell_type": "code",
      "source": [
        "# Assignment Question\n",
        "marks = np.array([85, 18, 2, 57, 65, 44])\n",
        "marks"
      ],
      "metadata": {
        "id": "HQsYzwOytuW0",
        "outputId": "eb0adf36-9137-46ca-af25-ab22a3400953",
        "colab": {
          "base_uri": "https://localhost:8080/"
        }
      },
      "execution_count": 46,
      "outputs": [
        {
          "output_type": "execute_result",
          "data": {
            "text/plain": [
              "array([85, 18,  2, 57, 65, 44])"
            ]
          },
          "metadata": {},
          "execution_count": 46
        }
      ]
    },
    {
      "cell_type": "code",
      "source": [
        "mask = marks>40\n",
        "mask"
      ],
      "metadata": {
        "id": "0tWroCdet12D",
        "outputId": "13c4c6d0-9ebf-451c-aa27-b2b7f8f8f685",
        "colab": {
          "base_uri": "https://localhost:8080/"
        }
      },
      "execution_count": 48,
      "outputs": [
        {
          "output_type": "execute_result",
          "data": {
            "text/plain": [
              "array([ True, False, False,  True,  True,  True])"
            ]
          },
          "metadata": {},
          "execution_count": 48
        }
      ]
    },
    {
      "cell_type": "code",
      "source": [
        "filtered_array = marks [mask == True]\n",
        "filtered_array"
      ],
      "metadata": {
        "id": "ScJTguyauVX-",
        "outputId": "5d5d17ef-274f-4d35-d204-7a79ff5b9b36",
        "colab": {
          "base_uri": "https://localhost:8080/"
        }
      },
      "execution_count": 51,
      "outputs": [
        {
          "output_type": "execute_result",
          "data": {
            "text/plain": [
              "array([85, 57, 65, 44])"
            ]
          },
          "metadata": {},
          "execution_count": 51
        }
      ]
    },
    {
      "cell_type": "code",
      "source": [
        "# First greater element\n",
        "# Approach 1. We will firstly create a boolean array after comparing the elements of arr with target. Then we will pass this boolean array to argwhere() function which will then return a 2d array consisting of all the indices where the comparison condition is True.\n",
        "# Approach 2. We can do the same steps as above with np.where with an extra step of taking care of dimensions of returned index."
      ],
      "metadata": {
        "id": "2ZrpURR_w3VM"
      },
      "execution_count": null,
      "outputs": []
    },
    {
      "cell_type": "code",
      "source": [
        "arr = np.array([-1,2,3,4,5])\n",
        "arr"
      ],
      "metadata": {
        "id": "Quqcr9gvw9kG",
        "outputId": "4bc5665b-02e3-4273-c6ad-22ecf6850bf6",
        "colab": {
          "base_uri": "https://localhost:8080/"
        }
      },
      "execution_count": 112,
      "outputs": [
        {
          "output_type": "execute_result",
          "data": {
            "text/plain": [
              "array([-1,  2,  3,  4,  5])"
            ]
          },
          "metadata": {},
          "execution_count": 112
        }
      ]
    },
    {
      "cell_type": "code",
      "source": [
        "target = 3\n",
        "arm = (arr>target)\n",
        "arm"
      ],
      "metadata": {
        "id": "XJAYak1wxZ76",
        "outputId": "9000347f-3e5e-4784-827e-a5a009e48fad",
        "colab": {
          "base_uri": "https://localhost:8080/"
        }
      },
      "execution_count": 113,
      "outputs": [
        {
          "output_type": "execute_result",
          "data": {
            "text/plain": [
              "array([False, False, False,  True,  True])"
            ]
          },
          "metadata": {},
          "execution_count": 113
        }
      ]
    },
    {
      "cell_type": "code",
      "source": [
        "arn = np.argwhere(arm)\n",
        "arn"
      ],
      "metadata": {
        "id": "sXs9-zgGyUwy",
        "outputId": "944dfecc-dc5b-42f8-e04d-9a4302e9e295",
        "colab": {
          "base_uri": "https://localhost:8080/"
        }
      },
      "execution_count": 114,
      "outputs": [
        {
          "output_type": "execute_result",
          "data": {
            "text/plain": [
              "array([[3],\n",
              "       [4]])"
            ]
          },
          "metadata": {},
          "execution_count": 114
        }
      ]
    },
    {
      "cell_type": "code",
      "source": [
        "arr = np.array([-1,2,3,4,5])\n",
        "target = 6"
      ],
      "metadata": {
        "id": "hZa6B8GjDozD"
      },
      "execution_count": 116,
      "outputs": []
    },
    {
      "cell_type": "code",
      "source": [
        "arm = (arr>target)\n",
        "arm"
      ],
      "metadata": {
        "id": "Yr1WUMAMD5KG",
        "outputId": "ef3c76cf-de80-46ee-f4ac-4db1132cac3c",
        "colab": {
          "base_uri": "https://localhost:8080/"
        }
      },
      "execution_count": 117,
      "outputs": [
        {
          "output_type": "execute_result",
          "data": {
            "text/plain": [
              "array([False, False, False, False, False])"
            ]
          },
          "metadata": {},
          "execution_count": 117
        }
      ]
    },
    {
      "cell_type": "code",
      "source": [
        "arn = np.argwhere(arm)\n",
        "arn"
      ],
      "metadata": {
        "id": "jF3o332fD72x",
        "outputId": "0b137665-1bd3-488a-8d76-6937fc06dbf7",
        "colab": {
          "base_uri": "https://localhost:8080/"
        }
      },
      "execution_count": 118,
      "outputs": [
        {
          "output_type": "execute_result",
          "data": {
            "text/plain": [
              "array([], shape=(0, 1), dtype=int64)"
            ]
          },
          "metadata": {},
          "execution_count": 118
        }
      ]
    },
    {
      "cell_type": "code",
      "source": [
        "# One for All\n",
        "m = np.array([0, 1, 2, 3, 4, 5, 6, 7, 8])\n",
        "m"
      ],
      "metadata": {
        "id": "CtNTGMCy0pYl",
        "outputId": "84623955-8a0a-4760-ce60-bde301612266",
        "colab": {
          "base_uri": "https://localhost:8080/"
        }
      },
      "execution_count": 61,
      "outputs": [
        {
          "output_type": "execute_result",
          "data": {
            "text/plain": [
              "array([0, 1, 2, 3, 4, 5, 6, 7, 8])"
            ]
          },
          "metadata": {},
          "execution_count": 61
        }
      ]
    },
    {
      "cell_type": "code",
      "source": [
        "K = 3"
      ],
      "metadata": {
        "id": "bxX5GKhy2Ydm"
      },
      "execution_count": 67,
      "outputs": []
    },
    {
      "cell_type": "code",
      "source": [
        "m = m[m%2==0]\n",
        "m"
      ],
      "metadata": {
        "id": "wYt-gNg41JxO",
        "outputId": "a51231a7-2bde-468a-c8c7-18f29e938c5a",
        "colab": {
          "base_uri": "https://localhost:8080/"
        }
      },
      "execution_count": 64,
      "outputs": [
        {
          "output_type": "execute_result",
          "data": {
            "text/plain": [
              "array([0, 2, 4, 6, 8])"
            ]
          },
          "metadata": {},
          "execution_count": 64
        }
      ]
    },
    {
      "cell_type": "code",
      "source": [
        "np.all (m > K)"
      ],
      "metadata": {
        "id": "y2Gnu6Zi1SW-",
        "outputId": "a8374fbd-154a-49ad-9f68-316abe795911",
        "colab": {
          "base_uri": "https://localhost:8080/"
        }
      },
      "execution_count": 68,
      "outputs": [
        {
          "output_type": "execute_result",
          "data": {
            "text/plain": [
              "False"
            ]
          },
          "metadata": {},
          "execution_count": 68
        }
      ]
    },
    {
      "cell_type": "code",
      "source": [
        "# Rotate the array\n",
        "mat = np.array([[1,2,3],[4,5,6],[7,8,9]])\n",
        "mat"
      ],
      "metadata": {
        "id": "89WqDl0o23vQ",
        "outputId": "fea4387b-bbd7-4128-ad0c-58eac47a840f",
        "colab": {
          "base_uri": "https://localhost:8080/"
        }
      },
      "execution_count": 76,
      "outputs": [
        {
          "output_type": "execute_result",
          "data": {
            "text/plain": [
              "array([[1, 2, 3],\n",
              "       [4, 5, 6],\n",
              "       [7, 8, 9]])"
            ]
          },
          "metadata": {},
          "execution_count": 76
        }
      ]
    },
    {
      "cell_type": "code",
      "source": [
        "array = mat.transpose()\n",
        "array\n"
      ],
      "metadata": {
        "id": "jiUA9JSl4FDI",
        "outputId": "c13d5a0d-3a07-4743-e53f-2422ef112a88",
        "colab": {
          "base_uri": "https://localhost:8080/"
        }
      },
      "execution_count": 79,
      "outputs": [
        {
          "output_type": "execute_result",
          "data": {
            "text/plain": [
              "array([[1, 4, 7],\n",
              "       [2, 5, 8],\n",
              "       [3, 6, 9]])"
            ]
          },
          "metadata": {},
          "execution_count": 79
        }
      ]
    },
    {
      "cell_type": "code",
      "source": [
        "print(array[:, ::-1])"
      ],
      "metadata": {
        "id": "YQIDMyzK4ZYL",
        "outputId": "4c7b3f9b-d051-4dfb-e23a-aa5878487114",
        "colab": {
          "base_uri": "https://localhost:8080/"
        }
      },
      "execution_count": 80,
      "outputs": [
        {
          "output_type": "stream",
          "name": "stdout",
          "text": [
            "[[7 4 1]\n",
            " [8 5 2]\n",
            " [9 6 3]]\n"
          ]
        }
      ]
    },
    {
      "cell_type": "code",
      "source": [
        "arr1 = np.array([[ 0,  1,  2,  3],\n",
        " [ 4,  5,  6,  7],\n",
        " [ 8,  9, 10, 11],\n",
        " [12, 13, 14, 15],\n",
        " [16, 17, 18, 19]])\n",
        "arr1"
      ],
      "metadata": {
        "id": "jAkQ_Syf5pqS",
        "outputId": "c4b5e7c2-9bfd-4534-eaeb-c7129e338fa7",
        "colab": {
          "base_uri": "https://localhost:8080/"
        }
      },
      "execution_count": 82,
      "outputs": [
        {
          "output_type": "execute_result",
          "data": {
            "text/plain": [
              "array([[ 0,  1,  2,  3],\n",
              "       [ 4,  5,  6,  7],\n",
              "       [ 8,  9, 10, 11],\n",
              "       [12, 13, 14, 15],\n",
              "       [16, 17, 18, 19]])"
            ]
          },
          "metadata": {},
          "execution_count": 82
        }
      ]
    },
    {
      "cell_type": "code",
      "source": [
        "row_array = arr1[1:4]\n",
        "row_array"
      ],
      "metadata": {
        "id": "35mX4T_J55nq",
        "outputId": "5028a6a1-3d54-4b18-e64a-58d1d2e01d33",
        "colab": {
          "base_uri": "https://localhost:8080/"
        }
      },
      "execution_count": 93,
      "outputs": [
        {
          "output_type": "execute_result",
          "data": {
            "text/plain": [
              "array([[ 4,  5,  6,  7],\n",
              "       [ 8,  9, 10, 11],\n",
              "       [12, 13, 14, 15]])"
            ]
          },
          "metadata": {},
          "execution_count": 93
        }
      ]
    },
    {
      "cell_type": "code",
      "source": [
        "cols_array = row_array[:,1:]\n",
        "cols_array"
      ],
      "metadata": {
        "id": "kkjVTYwI66ja",
        "outputId": "d30fe024-38b2-4f5c-8494-2fc42d8ee935",
        "colab": {
          "base_uri": "https://localhost:8080/"
        }
      },
      "execution_count": 94,
      "outputs": [
        {
          "output_type": "execute_result",
          "data": {
            "text/plain": [
              "array([[ 5,  6,  7],\n",
              "       [ 9, 10, 11],\n",
              "       [13, 14, 15]])"
            ]
          },
          "metadata": {},
          "execution_count": 94
        }
      ]
    },
    {
      "cell_type": "code",
      "source": [
        "result = cols_array[::-1, :]\n",
        "result"
      ],
      "metadata": {
        "id": "JNNI4huG8IJl",
        "outputId": "bb4ef4ed-f77a-4401-ce53-f30bdb922ec0",
        "colab": {
          "base_uri": "https://localhost:8080/"
        }
      },
      "execution_count": 96,
      "outputs": [
        {
          "output_type": "execute_result",
          "data": {
            "text/plain": [
              "array([[13, 14, 15],\n",
              "       [ 9, 10, 11],\n",
              "       [ 5,  6,  7]])"
            ]
          },
          "metadata": {},
          "execution_count": 96
        }
      ]
    },
    {
      "cell_type": "code",
      "source": [
        "mn = np.identity(3)\n",
        "mn"
      ],
      "metadata": {
        "id": "hTYcIP_c_B2g",
        "outputId": "8212b144-8f12-468a-8f87-488f2faad53a",
        "colab": {
          "base_uri": "https://localhost:8080/"
        }
      },
      "execution_count": 102,
      "outputs": [
        {
          "output_type": "execute_result",
          "data": {
            "text/plain": [
              "array([[1., 0., 0.],\n",
              "       [0., 1., 0.],\n",
              "       [0., 0., 1.]])"
            ]
          },
          "metadata": {},
          "execution_count": 102
        }
      ]
    },
    {
      "cell_type": "code",
      "source": [
        "K = 300\n",
        "ans = mn * K\n",
        "ans"
      ],
      "metadata": {
        "id": "u7HwjsxM_RQp",
        "outputId": "350818e7-f28f-43d7-923a-9d258eab6c71",
        "colab": {
          "base_uri": "https://localhost:8080/"
        }
      },
      "execution_count": 108,
      "outputs": [
        {
          "output_type": "execute_result",
          "data": {
            "text/plain": [
              "array([[300.,   0.,   0.],\n",
              "       [  0., 300.,   0.],\n",
              "       [  0.,   0., 300.]])"
            ]
          },
          "metadata": {},
          "execution_count": 108
        }
      ]
    },
    {
      "cell_type": "code",
      "source": [
        "ans1 = np.multiply(mn, K).astype(int)\n",
        "ans1"
      ],
      "metadata": {
        "id": "q3dN3N6j_Xsp",
        "outputId": "718f5215-2348-44a6-cf84-a5ec58bf430e",
        "colab": {
          "base_uri": "https://localhost:8080/"
        }
      },
      "execution_count": 109,
      "outputs": [
        {
          "output_type": "execute_result",
          "data": {
            "text/plain": [
              "array([[300,   0,   0],\n",
              "       [  0, 300,   0],\n",
              "       [  0,   0, 300]])"
            ]
          },
          "metadata": {},
          "execution_count": 109
        }
      ]
    },
    {
      "cell_type": "code",
      "source": [
        " # Extract sub array\n",
        " https://www.scaler.com/academy/mentee-dashboard/class/88498/homework/problems/26836?navref=cl_tt_nv"
      ],
      "metadata": {
        "id": "v3w58QzPB6hp"
      },
      "execution_count": null,
      "outputs": []
    }
  ]
}