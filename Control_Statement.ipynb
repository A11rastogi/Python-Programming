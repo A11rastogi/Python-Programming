{
  "nbformat": 4,
  "nbformat_minor": 0,
  "metadata": {
    "colab": {
      "provenance": [],
      "authorship_tag": "ABX9TyOFthXvLj4HDgKw5pdH1hPT",
      "include_colab_link": true
    },
    "kernelspec": {
      "name": "python3",
      "display_name": "Python 3"
    },
    "language_info": {
      "name": "python"
    }
  },
  "cells": [
    {
      "cell_type": "markdown",
      "metadata": {
        "id": "view-in-github",
        "colab_type": "text"
      },
      "source": [
        "<a href=\"https://colab.research.google.com/github/A11rastogi/Python-Programming/blob/main/Control_Statement.ipynb\" target=\"_parent\"><img src=\"https://colab.research.google.com/assets/colab-badge.svg\" alt=\"Open In Colab\"/></a>"
      ]
    },
    {
      "cell_type": "code",
      "execution_count": null,
      "metadata": {
        "id": "x-RnwQlREMPu"
      },
      "outputs": [],
      "source": [
        "print(\"\"\"\n",
        "Question 1️⃣\n",
        "ask someone for their CTC (in LPA)\n",
        "calculate their income-tax\n",
        "• 10% for <= 10 lpa\n",
        "• 20% for <= 15 lpa eg if your salary is 12 LPA== 10*(10/100) + 2*(20/100)\n",
        "• 30% for > 15lpa eg if your salary is 18 LPA== 10*(10/100) + 5*(20/100) + 3*(30/100)\n",
        "\"\"\")"
      ]
    },
    {
      "cell_type": "code",
      "source": [
        "CTC = int(input())\n",
        "if CTC <= 10:\n",
        "  print (CTC * 10/100)\n",
        "elif CTC <= 15:\n",
        "  print (10*10/100 + (CTC-10)*20/100)\n",
        "elif CTC > 15:\n",
        "  print (10*10/100 + 5*20/100 + (CTC-15) * 30/100)"
      ],
      "metadata": {
        "colab": {
          "base_uri": "https://localhost:8080/"
        },
        "id": "lqAPLhGbEq0c",
        "outputId": "4c436b6d-81bf-43e5-d9e9-68dcaeac73d8"
      },
      "execution_count": 2,
      "outputs": [
        {
          "output_type": "stream",
          "name": "stdout",
          "text": [
            "14\n",
            "1.8\n"
          ]
        }
      ]
    },
    {
      "cell_type": "code",
      "source": [
        "print(\"\"\"\n",
        "Question 2️⃣\n",
        "ask someone for their city that they are planning to visit\n",
        "print what mornument they should visit\n",
        "if you do not know that city, say I don't know\n",
        "\n",
        "• Delhi -> Red fort\n",
        "• Agra -> Taj Mahal\n",
        "• Gurgaon -> Cyber hub\n",
        "• Mumbai -> Gateway\n",
        "\"\"\")"
      ],
      "metadata": {
        "id": "lVXvwx1jGsTD"
      },
      "execution_count": null,
      "outputs": []
    },
    {
      "cell_type": "code",
      "source": [
        "# Here in the output it is observed with if and print sting values mentioned in the quotes\n",
        "city = input()\n",
        "if city == 'Delhi':\n",
        "  print ('Red fort')\n",
        "elif city == 'Agra':\n",
        "  print ('Taj Mahal')\n",
        "elif city == 'Gurgaon':\n",
        "  print ('Cyber hub')\n",
        "elif city == 'Mumbai':\n",
        "  print ('Gateway')\n",
        "else:\n",
        "  print (\"I don't know\")"
      ],
      "metadata": {
        "colab": {
          "base_uri": "https://localhost:8080/"
        },
        "id": "Jn0FYUg_Gvkv",
        "outputId": "593b937a-8e41-49a0-abdb-90f8f1d76d7a"
      },
      "execution_count": 7,
      "outputs": [
        {
          "output_type": "stream",
          "name": "stdout",
          "text": [
            "Ambala\n",
            "I don't know\n"
          ]
        }
      ]
    },
    {
      "cell_type": "code",
      "source": [
        "print(\"\"\"\n",
        "Question 3️⃣\n",
        "ask someone for a integer\n",
        "tell if the integer is even OR not\n",
        "\"\"\")\n",
        "     "
      ],
      "metadata": {
        "id": "PpHtRTZiKjFy"
      },
      "execution_count": null,
      "outputs": []
    },
    {
      "cell_type": "code",
      "source": [
        "num = int(input())\n",
        "if num%2 == 0:\n",
        "  print ('Even')\n",
        "else:\n",
        "  print ('Odd')"
      ],
      "metadata": {
        "colab": {
          "base_uri": "https://localhost:8080/"
        },
        "id": "1TiNeoJhKoUS",
        "outputId": "536ce55e-eb2e-415d-a96a-67212183bb57"
      },
      "execution_count": 15,
      "outputs": [
        {
          "output_type": "stream",
          "name": "stdout",
          "text": [
            "8\n",
            "Even\n"
          ]
        }
      ]
    },
    {
      "cell_type": "code",
      "source": [
        "print(\"\"\"\n",
        "Generate electricity bill using the following rate card.\n",
        "Take units consumed as input -\n",
        "If < 100 units -> Free\n",
        "If >= 100 units and < 200 units -> Rs 2 per unit\n",
        "If >= 200 units -> Rs 5 per unit\n",
        "\"\"\")"
      ],
      "metadata": {
        "id": "f8BL5xqPOsNN"
      },
      "execution_count": null,
      "outputs": []
    },
    {
      "cell_type": "code",
      "source": [
        "Units_consumed = int(input())\n",
        "if Units_consumed < 100:\n",
        "  print (0)\n",
        "elif Units_consumed < 200:\n",
        "  print (0 + (Units_consumed -100) * 2)\n",
        "elif Units_consumed >= 200:\n",
        "  print (100*0+100*2 + (Units_consumed -100) * 5)"
      ],
      "metadata": {
        "colab": {
          "base_uri": "https://localhost:8080/"
        },
        "id": "uz2nV9N3O2cn",
        "outputId": "223dedda-8a5a-4fd3-c563-09ef13686b58"
      },
      "execution_count": 16,
      "outputs": [
        {
          "output_type": "stream",
          "name": "stdout",
          "text": [
            "250\n",
            "950\n"
          ]
        }
      ]
    },
    {
      "cell_type": "code",
      "source": [
        "print(\"\"\"\n",
        "Take an amount as input from the user\n",
        "You only have 200 and 500 Rs Notes in the ATM. For one transaction,\n",
        "you can only dispatch notes of a single type.\n",
        "Given the amount -\n",
        "- \"Dispatching Cash!\" if it can be dispatched.\n",
        "- \"Denomination not available!\" if it can not be\n",
        "\"\"\")"
      ],
      "metadata": {
        "id": "cDAH141eRcrp"
      },
      "execution_count": null,
      "outputs": []
    },
    {
      "cell_type": "code",
      "source": [
        "Amount = int(input())\n",
        "if Amount%200 == 0 or Amount%500 == 0:\n",
        "  print ('Dispatching Cash!')\n",
        "else:\n",
        "  print ('Denomination not available!')"
      ],
      "metadata": {
        "colab": {
          "base_uri": "https://localhost:8080/"
        },
        "id": "YImoFjHkRg0Q",
        "outputId": "0498fae8-0573-4c35-a6b9-f673924df82b"
      },
      "execution_count": 20,
      "outputs": [
        {
          "output_type": "stream",
          "name": "stdout",
          "text": [
            "1500\n",
            "Dispatching Cash!\n"
          ]
        }
      ]
    },
    {
      "cell_type": "code",
      "source": [
        "print(\"\"\"\n",
        "Build a meter system for an auto. Take into two inputs.\n",
        "Kilometers Travelled and Stall Time (in minutes). Rate List -\n",
        "First 10 kms - Rs 10 per Km\n",
        "\n",
        "Next 40 kms - Rs 9 per Km\n",
        "\n",
        "Next 100 kms - Rs 8 per Km\n",
        "\n",
        "Any leftover km count - Rs. 6 per Km\n",
        "\n",
        "Rs 5 extra for every minute of Stall Time.\n",
        "\"\"\")"
      ],
      "metadata": {
        "id": "NVzdm-OUWB3r"
      },
      "execution_count": null,
      "outputs": []
    },
    {
      "cell_type": "code",
      "source": [
        "km = int(input())\n",
        "if km == 10:\n",
        "  print (10*10)\n",
        "elif km ==50:\n",
        "  print (10*10 + 40*9)\n",
        "elif km ==150:\n",
        "  print (10*10 + 40*9+ 100*8)\n",
        "elif km >=150:\n",
        "  print (10*10 + 40*9+ 100*8 + (km-(10+40+100))*6)\n"
      ],
      "metadata": {
        "colab": {
          "base_uri": "https://localhost:8080/"
        },
        "id": "Th0LA9wxWFqR",
        "outputId": "94311516-8dfa-491c-a0b2-9281d89d5527"
      },
      "execution_count": 24,
      "outputs": [
        {
          "output_type": "stream",
          "name": "stdout",
          "text": [
            "200\n",
            "1560\n"
          ]
        }
      ]
    },
    {
      "cell_type": "code",
      "source": [
        "#1 get all the inputs\n",
        "kms = int(input())\n",
        "stall = int(input())\n",
        "#2 calculate fare based on kms\n",
        "if kms<=10:\n",
        "    kms_fare = kms*10\n",
        "elif kms<=10+40:\n",
        "    kms_fare = 10*10   +   (kms-10)*9\n",
        "elif kms<=10+40+100:\n",
        "    kms_fare = 10*10  +  40*9  + (kms-50)*8\n",
        "else:\n",
        "    kms_fare = 10*10  +  40*9   + (100)*8 +   (kms-10-40-100)*6\n",
        "#3 calculate fare based on wait time\n",
        "wait_fare = stall*5\n",
        "#4 add all the fares\n",
        "fare = kms_fare+wait_fare\n",
        "print(fare)"
      ],
      "metadata": {
        "colab": {
          "base_uri": "https://localhost:8080/"
        },
        "id": "DQG5DoeoZQRM",
        "outputId": "fef6375f-7fd3-45c6-ad11-d6025e6c0c1f"
      },
      "execution_count": 26,
      "outputs": [
        {
          "output_type": "stream",
          "name": "stdout",
          "text": [
            "10\n",
            "10\n",
            "150\n"
          ]
        }
      ]
    },
    {
      "cell_type": "code",
      "source": [
        "print(\"\"\"\n",
        "Feedback System - Take string feedback from a user.\n",
        "Now,\n",
        "if any the feedback is provided,\n",
        "print(\"Thank you for the feedback\").\n",
        "\n",
        "\n",
        "If feedback is \"Super\", \"Great\", \"Fantastic\", \"Awesome\",\n",
        "print(\"Thank you for the kind words!\")\n",
        "\"\"\")"
      ],
      "metadata": {
        "id": "F_ckgsaMaaO6"
      },
      "execution_count": null,
      "outputs": []
    },
    {
      "cell_type": "code",
      "source": [
        "Feedback = input()\n",
        "if Feedback in ('Super', 'Great', 'Fantastic', 'Awesome'):\n",
        "  print ('Thank you for the kind words!')\n",
        "else:\n",
        "  print ('Thank you for the feedback')\n"
      ],
      "metadata": {
        "colab": {
          "base_uri": "https://localhost:8080/"
        },
        "id": "-N0Lt8QKacnl",
        "outputId": "028b701d-91d3-4e43-ef01-15f13f3b3fda"
      },
      "execution_count": 29,
      "outputs": [
        {
          "output_type": "stream",
          "name": "stdout",
          "text": [
            "Fantastic\n",
            "Thank you for the kind words!\n"
          ]
        }
      ]
    },
    {
      "cell_type": "code",
      "source": [
        "print(\"\"\"\n",
        "Take in three inputs from a user which are marks in english, maths and science.\n",
        "Assign streams according to the following criteria.\n",
        "if science > 90 or marks in all(individually) are greater than 75 -> Science\n",
        "if marks in all are greater than 60 and less than 75 -> Commerce\n",
        "if marks in any are less than 60 -> Humanities\"\"\")"
      ],
      "metadata": {
        "id": "Q4DM7JlcbvB6"
      },
      "execution_count": null,
      "outputs": []
    },
    {
      "cell_type": "code",
      "source": [
        "English = int(input())\n",
        "Maths = int(input())\n",
        "Science = int(input())\n",
        "Total_marks = (English + Maths + Science)\n",
        "if Science > 90 or (English >75, Maths>75, Science>75):\n",
        "  print ('Science')\n",
        "elif (English >60, Maths>60, Science>60) and (English <75, Maths<75, Science<75):\n",
        "  print ('Commerce')\n",
        "elif (English <60, Maths<60, Science<60):\n",
        "  print ('Humanities')"
      ],
      "metadata": {
        "colab": {
          "base_uri": "https://localhost:8080/"
        },
        "id": "hSHBkU3yb6mU",
        "outputId": "0dd44cf8-dfd2-4be8-a538-2095d9003162"
      },
      "execution_count": 32,
      "outputs": [
        {
          "output_type": "stream",
          "name": "stdout",
          "text": [
            "50\n",
            "50\n",
            "50\n",
            "Science\n"
          ]
        }
      ]
    }
  ]
}