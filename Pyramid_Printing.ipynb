{
  "nbformat": 4,
  "nbformat_minor": 0,
  "metadata": {
    "colab": {
      "provenance": [],
      "authorship_tag": "ABX9TyPvylggwR3rhpY6CszjCil3",
      "include_colab_link": true
    },
    "kernelspec": {
      "name": "python3",
      "display_name": "Python 3"
    },
    "language_info": {
      "name": "python"
    }
  },
  "cells": [
    {
      "cell_type": "markdown",
      "metadata": {
        "id": "view-in-github",
        "colab_type": "text"
      },
      "source": [
        "<a href=\"https://colab.research.google.com/github/A11rastogi/Python-Programming/blob/main/Pyramid_Printing.ipynb\" target=\"_parent\"><img src=\"https://colab.research.google.com/assets/colab-badge.svg\" alt=\"Open In Colab\"/></a>"
      ]
    },
    {
      "cell_type": "code",
      "execution_count": null,
      "metadata": {
        "id": "3DCOoVySbMDJ"
      },
      "outputs": [],
      "source": [
        "''' First Question\n",
        "# Take an integer N as input, print the corresponding stair pattern for N.\n",
        "# For example if N = 4 then stair pattern will be like:\n",
        "*\n",
        "**\n",
        "***\n",
        "**** '''"
      ]
    },
    {
      "cell_type": "code",
      "source": [
        "# Solving it through nested \"while loop\"\n",
        "N= int(input())\n",
        "i=0\n",
        "while i<N:\n",
        "  j=0\n",
        "  while j<=i:\n",
        "    print(\"*\", end=\"\")\n",
        "    j=j+1\n",
        "  print()\n",
        "  i=i+1"
      ],
      "metadata": {
        "colab": {
          "base_uri": "https://localhost:8080/"
        },
        "id": "_1KzSA2tccYk",
        "outputId": "21499794-c60b-467f-cce8-ebc5ef067061"
      },
      "execution_count": null,
      "outputs": [
        {
          "output_type": "stream",
          "name": "stdout",
          "text": [
            "4\n",
            "*\n",
            "**\n",
            "***\n",
            "****\n"
          ]
        }
      ]
    },
    {
      "cell_type": "code",
      "source": [
        "# Solving it through nested \"for loop\"\n",
        "N= int(input())\n",
        "for i in range (N):\n",
        "  for j in range (i+1):\n",
        "  # here we have added i+1 we can 1 star for \"0\" th row, 2 star for \"1\" st row as shown in below format:\n",
        "  #  >>>> 0 ----- *\n",
        "  # >>>>> 1 ------ **\n",
        "  # >>>>> 2 ------ ***\n",
        "  # >>>>> 3 ------ ****\n",
        "    if (j==i):\n",
        "      print (\"*\", end =\"\")\n",
        "    else:\n",
        "      print (\"*\", end =\"\")\n",
        "  # Note: if condition we add to remove space from the last digit\n",
        "  print()"
      ],
      "metadata": {
        "colab": {
          "base_uri": "https://localhost:8080/"
        },
        "id": "gUydgyPXfFfz",
        "outputId": "13c545d3-dea7-433b-80ea-7d5899a19d2e"
      },
      "execution_count": null,
      "outputs": [
        {
          "output_type": "stream",
          "name": "stdout",
          "text": [
            "4\n",
            "*\n",
            "**\n",
            "***\n",
            "****\n"
          ]
        }
      ]
    },
    {
      "cell_type": "code",
      "source": [
        "# we can also solve it without nested loops\n",
        "N = int(input())\n",
        "for i in range(N):\n",
        "  print ((i+1)*\"*\", end =\"\")\n",
        "  print()\n"
      ],
      "metadata": {
        "colab": {
          "base_uri": "https://localhost:8080/"
        },
        "id": "KZFqTwTPiemB",
        "outputId": "ac7d9194-a5fc-41a8-db1c-11bdfbe59f11"
      },
      "execution_count": null,
      "outputs": [
        {
          "output_type": "stream",
          "name": "stdout",
          "text": [
            "4\n",
            "*\n",
            "**\n",
            "***\n",
            "****\n"
          ]
        }
      ]
    },
    {
      "cell_type": "code",
      "source": [
        "''' Second Question\n",
        "Take an integer N as input, print the corresponding stair pattern for N.\n",
        "For example if N = 4 then stair pattern will be like:\n",
        "****\n",
        "***\n",
        "**\n",
        "* '''"
      ],
      "metadata": {
        "id": "2_1K472RkpJ6"
      },
      "execution_count": null,
      "outputs": []
    },
    {
      "cell_type": "code",
      "source": [
        "# Solving it through nested \"while loop\"\n",
        "N= int(input())\n",
        "i=0\n",
        "while i<N:\n",
        "  j=0\n",
        "  while j<N-i:\n",
        "  # it gives output based on below logic\n",
        "  #  Row (i) ------  Output (j<N-i)\n",
        "  #  >>>> 0 ----- **** (0<4-0). So, this inner loop print \"*\" from (0 till 3)\n",
        "  # >>>>> 1 ------ *** (1<4-1). So, this inner loop print \"*\" from (0 till 2)\n",
        "  # >>>>> 2 ------ **  (2<4-2). So, this inner loop print \"*\" from (0 till 1)\n",
        "  # >>>>> 3 ------ *   (3<4-3). So, this inner loop print \"*\" from (0 till 0)\n",
        "    print(\"*\", end=\"\")\n",
        "    j=j+1\n",
        "  print()\n",
        "  i=i+1"
      ],
      "metadata": {
        "colab": {
          "base_uri": "https://localhost:8080/"
        },
        "id": "vN66Y9RUlDhg",
        "outputId": "8ed71574-7f9b-4702-a1c0-3bc0e486dfc8"
      },
      "execution_count": null,
      "outputs": [
        {
          "output_type": "stream",
          "name": "stdout",
          "text": [
            "4\n",
            "****\n",
            "***\n",
            "**\n",
            "*\n"
          ]
        }
      ]
    },
    {
      "cell_type": "code",
      "source": [
        "# Solving it through nested \"for loop\"\n",
        "N = int(input())\n",
        "for i in range (N):\n",
        "  for j in range (N-i):\n",
        "    print(\"*\", end=\"\")\n",
        "  print()"
      ],
      "metadata": {
        "colab": {
          "base_uri": "https://localhost:8080/"
        },
        "id": "yCrE4uBDpuzv",
        "outputId": "bafba829-2d95-48b4-bcbe-ce48207394ba"
      },
      "execution_count": null,
      "outputs": [
        {
          "output_type": "stream",
          "name": "stdout",
          "text": [
            "4\n",
            "****\n",
            "***\n",
            "**\n",
            "*\n"
          ]
        }
      ]
    },
    {
      "cell_type": "code",
      "source": [
        "# Solving it without nested loops\n",
        "N = int(input())\n",
        "for i in range (N,0,-1):\n",
        "  # this loop works\n",
        "  # >>>>> 4 ----- 4 * \"*\" = ****\n",
        "  # >>>>> 3 ------3 * \"*\" = *** \n",
        "  # >>>>> 2 ------2 * \"*\" = **\n",
        "  # >>>>> 1 ------1 * \"*\" = *\n",
        "  print(i*\"*\", end=\"\")\n",
        "  print()"
      ],
      "metadata": {
        "colab": {
          "base_uri": "https://localhost:8080/"
        },
        "id": "r0D7VfUoqy9d",
        "outputId": "00d2ddde-0eef-4b04-d66c-ab4345fafb66"
      },
      "execution_count": null,
      "outputs": [
        {
          "output_type": "stream",
          "name": "stdout",
          "text": [
            "4\n",
            "****\n",
            "***\n",
            "**\n",
            "*\n"
          ]
        }
      ]
    },
    {
      "cell_type": "code",
      "source": [
        "'''\n",
        "Third Question\n",
        "Ask the user to enter a number [+ive integer]\n",
        "and print the foloowing pattern\n",
        "    *\n",
        "   **\n",
        "  ***\n",
        " ****\n",
        "Here the user entered the number of rows they want eg in this case it is 4\n",
        "'''"
      ],
      "metadata": {
        "id": "Ht_Wm3uNsjMe"
      },
      "execution_count": null,
      "outputs": []
    },
    {
      "cell_type": "code",
      "source": [
        "N = int(input())\n",
        "for i in range (N):\n",
        "  print (\" \" *(N-(i+1)) + (i+1)*\"*\", end=\"\")\n",
        "  # Here in the print statement we have combined two logic\n",
        "  # firstly we are creating space in the start with code : \" \" *(N-(i+1)): space * (4-(0+1)) = space *3 = (---) three space and works so on\n",
        "  # Secondly we are printing star with code: (i+1)*\"*\" : (0+1)*\"*\": (1)*\"*\": 1 \n",
        "  print()"
      ],
      "metadata": {
        "colab": {
          "base_uri": "https://localhost:8080/"
        },
        "id": "74llo93yufAS",
        "outputId": "34e3555a-126c-4e19-9830-dfa3467294a1"
      },
      "execution_count": null,
      "outputs": [
        {
          "output_type": "stream",
          "name": "stdout",
          "text": [
            "4\n",
            "   *\n",
            "  **\n",
            " ***\n",
            "****\n"
          ]
        }
      ]
    },
    {
      "cell_type": "code",
      "source": [
        "'''\n",
        "Third Question\n",
        "Ask the user to enter a number [+ive integer]\n",
        "and print the foloowing pattern\n",
        " ****\n",
        "  ***\n",
        "   **\n",
        "    *\n",
        "Here the user entered the number of rows they want eg in this case it is 4\n",
        "'''"
      ],
      "metadata": {
        "id": "o3zsRaNsAAyq"
      },
      "execution_count": null,
      "outputs": []
    },
    {
      "cell_type": "code",
      "source": [
        "N = int(input())\n",
        "for i in range(N):\n",
        "  print(\" \" * i + \"*\"*(N-i), end=\" \")\n",
        "  # \" \" refers to space\n",
        "  # this loop works\n",
        "  # >>>>> 0 ----- (space * 0 + \"*\" *(4-0), end=\" \") : (0+4*\"*\") : ****\n",
        "  # >>>>> 1 ------(space * 1 + \"*\" *(4-1), end=\" \") : (1+3*\"*\") :  ***\n",
        "  # >>>>> 2 ------(space * 2 + \"*\" *(4-2), end=\" \") : (2+2*\"*\") :   **\n",
        "  # >>>>> 3 ------(space * 3 + \"*\" *(4-3), end=\" \") : (3+1*\"*\") :    *\n",
        "  print()"
      ],
      "metadata": {
        "colab": {
          "base_uri": "https://localhost:8080/"
        },
        "id": "AgTnCGDcAF1Y",
        "outputId": "14f01cae-8d22-48cd-850e-457bfda88701"
      },
      "execution_count": null,
      "outputs": [
        {
          "output_type": "stream",
          "name": "stdout",
          "text": [
            "4\n",
            "**** \n",
            " *** \n",
            "  ** \n",
            "   * \n"
          ]
        }
      ]
    },
    {
      "cell_type": "code",
      "source": [
        "'''\n",
        "Fourth Question\n",
        "Ask the user to enter a number [+ive integer]\n",
        "and print the foloowing pattern\n",
        "*        1...row+1\n",
        "*2       1...2\n",
        "*2*      1....3\n",
        "*2*4\n",
        "*2*4*\n",
        "*2*4*6\n",
        "Here the user entered the number of rows they want eg in this case it is 6\n",
        "For all the odd position, print '*'\n",
        "for even positions print the number i.e j."
      ],
      "metadata": {
        "id": "O-J4LOdVD-EE"
      },
      "execution_count": null,
      "outputs": []
    },
    {
      "cell_type": "code",
      "source": [
        "n = int(input())\n",
        "for rowNum in range(n):\n",
        "    # print(rowNum)\n",
        "    for j in range(1,rowNum+2):\n",
        "        if j%2==0:\n",
        "            print(j, end=\"\")\n",
        "        else:\n",
        "            print('*', end=\"\")\n",
        "    print()"
      ],
      "metadata": {
        "colab": {
          "base_uri": "https://localhost:8080/"
        },
        "id": "u3_RGkBwFpBg",
        "outputId": "8859752c-99ab-481b-dab3-71c312b0c681"
      },
      "execution_count": null,
      "outputs": [
        {
          "output_type": "stream",
          "name": "stdout",
          "text": [
            "6\n",
            "*\n",
            "*2\n",
            "*2*\n",
            "*2*4\n",
            "*2*4*\n",
            "*2*4*6\n"
          ]
        }
      ]
    },
    {
      "cell_type": "code",
      "source": [
        "''' Fifth Question\n",
        "Problem Description\n",
        "\n",
        "Take an integer N as input, print the corresponding Half Diamond pattern with 2*N - 1 rows.\n",
        "\n",
        "For example if N = 5 then pattern will be like:\n",
        "\n",
        "*\n",
        "**\n",
        "***\n",
        "****\n",
        "*****\n",
        "****\n",
        "***\n",
        "**\n",
        "*\n",
        "NOTE: There should be no spaces after any *. '''"
      ],
      "metadata": {
        "id": "9IvzOoXKMTq4"
      },
      "execution_count": null,
      "outputs": []
    },
    {
      "cell_type": "code",
      "source": [
        "N= int(input())\n",
        "for i in range (N):\n",
        "    print(\"*\"*(i+1), end=\"\")\n",
        "    print()\n",
        "for j in range (N):\n",
        "    print(\"*\" * (N-j-1), end=\"\")\n",
        "    print()\n"
      ],
      "metadata": {
        "colab": {
          "base_uri": "https://localhost:8080/"
        },
        "id": "0HtX_eaVNJe0",
        "outputId": "638365af-a62a-4dff-ab32-6cd44bfb6feb"
      },
      "execution_count": null,
      "outputs": [
        {
          "output_type": "stream",
          "name": "stdout",
          "text": [
            "5\n",
            "*\n",
            "**\n",
            "***\n",
            "****\n",
            "*****\n",
            "****\n",
            "***\n",
            "**\n",
            "*\n",
            "\n"
          ]
        }
      ]
    },
    {
      "cell_type": "code",
      "source": [
        "N= int(input())\n",
        "for i in range (N):\n",
        "    print(\"*\"*(i+1), end=\"\")\n",
        "    print()"
      ],
      "metadata": {
        "colab": {
          "base_uri": "https://localhost:8080/"
        },
        "id": "eN6HMy0LPWiy",
        "outputId": "e6dd2705-7228-44d8-a36a-4f20e02e06a1"
      },
      "execution_count": null,
      "outputs": [
        {
          "output_type": "stream",
          "name": "stdout",
          "text": [
            "5\n",
            "*\n",
            "**\n",
            "***\n",
            "****\n",
            "*****\n"
          ]
        }
      ]
    },
    {
      "cell_type": "code",
      "source": [
        "# Scaler Assignment questions related to pyramid priniting\n",
        "'''\n",
        "Take an integer N as input. Print the following pattern of N lines. For N = 5 The following pattern is printed.\n",
        "*     *\n",
        "*    *\n",
        "*   *\n",
        "*  *\n",
        "* *\n",
        "#  '''\n",
        "# Code\n",
        "n=int(input())\n",
        "for i in range(n):\n",
        " print(\"*\"+(n-i)*\" \"+\"*\")\n"
      ],
      "metadata": {
        "colab": {
          "base_uri": "https://localhost:8080/"
        },
        "id": "LL5FqLLI44nG",
        "outputId": "0c1c1d5d-b7eb-4bdc-88f3-7a300bd77388"
      },
      "execution_count": null,
      "outputs": [
        {
          "output_type": "stream",
          "name": "stdout",
          "text": [
            "5\n",
            "*     *\n",
            "*    *\n",
            "*   *\n",
            "*  *\n",
            "* *\n"
          ]
        }
      ]
    },
    {
      "cell_type": "code",
      "source": [
        "# Scaler Assignment questions related to pyramid priniting\n",
        "''' Take an integer N as input, print the corresponding pattern for N.\n",
        "*****\n",
        "*   *\n",
        "*   *\n",
        "*   *\n",
        "***** '''\n",
        "# code\n",
        "n=int(input())\n",
        "for i in range(n):\n",
        "  if i==0: \n",
        "   print ((n-i)* \"*\")\n",
        "  elif i==n-1:\n",
        "   print ((n)* \"*\")\n",
        "  else:\n",
        "   print(\"*\"+(n-2)*\" \"+\"*\")"
      ],
      "metadata": {
        "colab": {
          "base_uri": "https://localhost:8080/"
        },
        "id": "C1ZpX-eL6Kkc",
        "outputId": "e3510942-a515-4fba-e3fe-41a2c9988578"
      },
      "execution_count": null,
      "outputs": [
        {
          "output_type": "stream",
          "name": "stdout",
          "text": [
            "5\n",
            "*****\n",
            "*   *\n",
            "*   *\n",
            "*   *\n",
            "*****\n"
          ]
        }
      ]
    },
    {
      "cell_type": "code",
      "source": [
        "# Scaler Assignment questions related to pyramid priniting\n",
        "''' \n",
        "Given two integers N and M as inputs, print a rectangle of N * M stars.\n",
        "For example if N = 3, M = 4 then pattern will be like: \n",
        "****\n",
        "****\n",
        "****\n",
        "'''\n",
        "# Code:\n",
        "n=int(input())\n",
        "m=int(input())\n",
        "for i in range(n):\n",
        "    for r in range(m):\n",
        "        print(\"*\",end='')\n",
        "    print() "
      ],
      "metadata": {
        "colab": {
          "base_uri": "https://localhost:8080/"
        },
        "id": "zVengwap6iZV",
        "outputId": "bfd26d98-259b-434d-ce3a-e30924b109fe"
      },
      "execution_count": null,
      "outputs": [
        {
          "output_type": "stream",
          "name": "stdout",
          "text": [
            "3\n",
            "4\n",
            "****\n",
            "****\n",
            "****\n"
          ]
        }
      ]
    },
    {
      "cell_type": "code",
      "source": [
        "# Hollow Inverted Half Pyramid\n",
        "n=int(input())\n",
        "for i in range(n):\n",
        "  if i==0: \n",
        "   print (n* \"*\")\n",
        "  if i>=1:\n",
        "    print(\"*\"+(n-i)*\" \"+\"*\")\n"
      ],
      "metadata": {
        "colab": {
          "base_uri": "https://localhost:8080/"
        },
        "id": "2QUFjdzIA9LG",
        "outputId": "e97bc259-1b4e-4c35-c0c3-02f11b1d0a80"
      },
      "execution_count": null,
      "outputs": [
        {
          "output_type": "stream",
          "name": "stdout",
          "text": [
            "6\n",
            "******\n",
            "*     *\n",
            "*    *\n",
            "*   *\n",
            "*  *\n",
            "* *\n"
          ]
        }
      ]
    },
    {
      "cell_type": "code",
      "source": [
        "# Hollow inverted pyramid pattern\n",
        "n=int(input())\n",
        "for i in range(n):\n",
        " print(\"*\"+(n-i)*2*\"_\"+\"*\")"
      ],
      "metadata": {
        "id": "fdTNIn7dXfvC",
        "outputId": "b81f69c3-3432-422a-e0a3-0e63b579b17a",
        "colab": {
          "base_uri": "https://localhost:8080/"
        }
      },
      "execution_count": 4,
      "outputs": [
        {
          "output_type": "stream",
          "name": "stdout",
          "text": [
            "5\n",
            "*__________*\n",
            "*________*\n",
            "*______*\n",
            "*____*\n",
            "*__*\n",
            "**\n"
          ]
        }
      ]
    },
    {
      "cell_type": "code",
      "source": [
        "n=int(input())\n",
        "for i in range(n):\n",
        "    print(\" \"*(n-i) + \"*\"*(i+1), end=\" \")\n",
        "    print()"
      ],
      "metadata": {
        "id": "ZdIQuBtueQFh",
        "outputId": "79cce526-9993-4a61-e0a6-1ea2f5382b34",
        "colab": {
          "base_uri": "https://localhost:8080/"
        }
      },
      "execution_count": 9,
      "outputs": [
        {
          "output_type": "stream",
          "name": "stdout",
          "text": [
            "5\n",
            "     * \n",
            "    ** \n",
            "   *** \n",
            "  **** \n",
            " ***** \n"
          ]
        }
      ]
    },
    {
      "cell_type": "code",
      "source": [
        "n=int(input())\n",
        "for i in range(n):\n",
        "    print((n-i)*\"*\",end=\"\")\n",
        "    print()"
      ],
      "metadata": {
        "id": "5nvd6uAiijC3",
        "outputId": "eacaf96a-046b-48a0-e920-d869974ddd27",
        "colab": {
          "base_uri": "https://localhost:8080/"
        }
      },
      "execution_count": 10,
      "outputs": [
        {
          "output_type": "stream",
          "name": "stdout",
          "text": [
            "5\n",
            "*****\n",
            "****\n",
            "***\n",
            "**\n",
            "*\n"
          ]
        }
      ]
    },
    {
      "cell_type": "code",
      "source": [
        "n=int(input())\n",
        "for i in range(n):\n",
        "  if i==0:\n",
        "    print(n*\"*\"*2)\n",
        "  elif i>=1:\n",
        "        print(\"*\"*(n-i)+ \" \"*(i)*2 + \"*\"*(n-i))"
      ],
      "metadata": {
        "id": "5xld3ily-rGj",
        "outputId": "28b4ca81-e059-4685-c787-4c29cd3c2ca5",
        "colab": {
          "base_uri": "https://localhost:8080/"
        }
      },
      "execution_count": 7,
      "outputs": [
        {
          "output_type": "stream",
          "name": "stdout",
          "text": [
            "5\n",
            "**********\n",
            "****  ****\n",
            "***    ***\n",
            "**      **\n",
            "*        *\n"
          ]
        }
      ]
    },
    {
      "cell_type": "code",
      "source": [
        "n=int(input())\n",
        "for i in range(n):\n",
        "  print(\"*\"*(i+1)*2+ \" \"*(n-i-1) + \"*\"*(i+1)*2)"
      ],
      "metadata": {
        "id": "77fpWKbIAIrN",
        "outputId": "49c9fbcd-1e0e-41d7-cdff-90ecaf37f414",
        "colab": {
          "base_uri": "https://localhost:8080/"
        }
      },
      "execution_count": 6,
      "outputs": [
        {
          "output_type": "stream",
          "name": "stdout",
          "text": [
            "5\n",
            "**    **\n",
            "****   ****\n",
            "******  ******\n",
            "******** ********\n",
            "********************\n"
          ]
        }
      ]
    },
    {
      "cell_type": "code",
      "source": [
        "n=int(input())\n",
        "for i in range(n):\n",
        "    print(\" \"*(i), end=\"\")\n",
        "    for j in range(n-i):\n",
        "       print(\"*\", end=\" \")\n",
        "    print()\n",
        "\n",
        " "
      ],
      "metadata": {
        "id": "OK4HjaMMOyQw",
        "outputId": "6eabdbcd-2e47-4572-e623-9a9f12e86cdb",
        "colab": {
          "base_uri": "https://localhost:8080/"
        }
      },
      "execution_count": 13,
      "outputs": [
        {
          "output_type": "stream",
          "name": "stdout",
          "text": [
            "5\n",
            "* * * * * \n",
            " * * * * \n",
            "  * * * \n",
            "   * * \n",
            "    * \n"
          ]
        }
      ]
    },
    {
      "cell_type": "code",
      "source": [
        "n=int(input())\n",
        "for i in range(n):\n",
        "    print(\" \"*(n-i-1), end=\"\")\n",
        "    for j in range(i+1):    \n",
        "        print(\"*\", end=\" \")\n",
        "    print()"
      ],
      "metadata": {
        "id": "zJ9Fc_hJQJeg",
        "outputId": "2d58a6ad-fe71-4c5e-b23c-d84e2eb2a0ac",
        "colab": {
          "base_uri": "https://localhost:8080/"
        }
      },
      "execution_count": 11,
      "outputs": [
        {
          "output_type": "stream",
          "name": "stdout",
          "text": [
            "5\n",
            "    * \n",
            "   * * \n",
            "  * * * \n",
            " * * * * \n",
            "* * * * * \n"
          ]
        }
      ]
    },
    {
      "cell_type": "code",
      "source": [
        "n=int(input())\n",
        "for i in range(n):\n",
        "  for A in range(0,n-i-1):\n",
        "    print (0, end=\" \")\n",
        "    for j in range(i+1,2*i,1):\n",
        "      print(j, end=\" \")\n",
        "      for k in range(2*i+1):\n",
        "        print(k, end=\" \")\n",
        "        for l in range(2*i,i,-1):\n",
        "          print(l, end=\" \")\n",
        "  print()\n"
      ],
      "metadata": {
        "id": "qjP5RTaYmJWo",
        "outputId": "76c49553-4b21-4fa7-e179-db0be3d37991",
        "colab": {
          "base_uri": "https://localhost:8080/"
        }
      },
      "execution_count": 6,
      "outputs": [
        {
          "output_type": "stream",
          "name": "stdout",
          "text": [
            "5\n",
            "0 0 0 0 \n",
            "0 0 0 \n",
            "0 3 0 4 3 1 4 3 2 4 3 3 4 3 4 4 3 0 3 0 4 3 1 4 3 2 4 3 3 4 3 4 4 3 \n",
            "0 4 0 6 5 4 1 6 5 4 2 6 5 4 3 6 5 4 4 6 5 4 5 6 5 4 6 6 5 4 5 0 6 5 4 1 6 5 4 2 6 5 4 3 6 5 4 4 6 5 4 5 6 5 4 6 6 5 4 \n",
            "\n"
          ]
        }
      ]
    },
    {
      "cell_type": "code",
      "source": [
        "input n = int(input()) # looping over rows for i in range(n): \n",
        "# left 0s for j in range(0,n-1-i):\n",
        " print(0, end=' ') \n",
        " # left inc nums for j in range(i+1,2*i+1): \n",
        " print(j, end=\" \") \n",
        " # middle nums \n",
        " print(i*2+1, end=\" \") \n",
        " # right dec nums for j in range(2*i,i, -1): \n",
        " print(j, end=\" \") \n",
        " # right 0s for j in range(0,n-1-i): \n",
        " print(0, end=' ') \n",
        " print()\n",
        " # new line after done with the row"
      ],
      "metadata": {
        "id": "O5hNxDAOp-cH"
      },
      "execution_count": null,
      "outputs": []
    },
    {
      "cell_type": "code",
      "source": [
        "n = int(input())\n",
        "for i in range(n):\n",
        "  for j in range(0,n-1-i):\n",
        "    print(0, end=' ')\n",
        "    table_of= n-i\n",
        "    table_till= 2*i+1\n",
        "  for j in range(1,table_till+1):\n",
        "    print(j*table_of, end=\" \") \n",
        "      for j in range(0,n-1-i):\n",
        "        print(0, end=' ') \n",
        "      print()"
      ],
      "metadata": {
        "id": "5ygcTbnzqVso",
        "outputId": "cef6190a-a5d2-4395-8052-1dbc7b608a0b",
        "colab": {
          "base_uri": "https://localhost:8080/",
          "height": 130
        }
      },
      "execution_count": 13,
      "outputs": [
        {
          "output_type": "error",
          "ename": "IndentationError",
          "evalue": "ignored",
          "traceback": [
            "\u001b[0;36m  File \u001b[0;32m\"<ipython-input-13-a1779d84c9e0>\"\u001b[0;36m, line \u001b[0;32m9\u001b[0m\n\u001b[0;31m    for j in range(0,n-1-i):\u001b[0m\n\u001b[0m    ^\u001b[0m\n\u001b[0;31mIndentationError\u001b[0m\u001b[0;31m:\u001b[0m unexpected indent\n"
          ]
        }
      ]
    },
    {
      "cell_type": "code",
      "source": [
        "n = int(input())\n",
        "old_num = n\n",
        "new_num = 0\n",
        "while n!=0:\n",
        "  last_digit=n%10\n",
        "  print(last_digit)\n",
        "  n=n//10\n",
        "      print(new_num*10+last_digit)"
      ],
      "metadata": {
        "id": "pSJ8evtjwwzt"
      },
      "execution_count": null,
      "outputs": []
    },
    {
      "cell_type": "code",
      "source": [
        "N=int(input())\n",
        "sum=0\n",
        "for i in range(1,N+1):\n",
        "  if i%2!=0:\n",
        "    sum=sum+i\n",
        "  print(sum)\n",
        "\n",
        "\n"
      ],
      "metadata": {
        "id": "CxJWMPLnzTpz",
        "outputId": "a851f969-805f-42ed-8711-54575bb08cac",
        "colab": {
          "base_uri": "https://localhost:8080/"
        }
      },
      "execution_count": 17,
      "outputs": [
        {
          "output_type": "stream",
          "name": "stdout",
          "text": [
            "5\n",
            "1\n",
            "1\n",
            "4\n",
            "4\n",
            "9\n"
          ]
        }
      ]
    },
    {
      "cell_type": "code",
      "source": [
        "T = int(input())\n",
        "N=int(input())"
      ],
      "metadata": {
        "id": "jdm2dM1O7RYK"
      },
      "execution_count": null,
      "outputs": []
    }
  ]
}