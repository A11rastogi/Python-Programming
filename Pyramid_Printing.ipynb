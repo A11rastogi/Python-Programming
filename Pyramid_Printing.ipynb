{
  "nbformat": 4,
  "nbformat_minor": 0,
  "metadata": {
    "colab": {
      "provenance": [],
      "authorship_tag": "ABX9TyN/kECPfFjxq2T7a4khGoaz",
      "include_colab_link": true
    },
    "kernelspec": {
      "name": "python3",
      "display_name": "Python 3"
    },
    "language_info": {
      "name": "python"
    }
  },
  "cells": [
    {
      "cell_type": "markdown",
      "metadata": {
        "id": "view-in-github",
        "colab_type": "text"
      },
      "source": [
        "<a href=\"https://colab.research.google.com/github/A11rastogi/Python-Programming/blob/main/Pyramid_Printing.ipynb\" target=\"_parent\"><img src=\"https://colab.research.google.com/assets/colab-badge.svg\" alt=\"Open In Colab\"/></a>"
      ]
    },
    {
      "cell_type": "code",
      "execution_count": null,
      "metadata": {
        "id": "3DCOoVySbMDJ"
      },
      "outputs": [],
      "source": [
        "''' First Question\n",
        "# Take an integer N as input, print the corresponding stair pattern for N.\n",
        "# For example if N = 4 then stair pattern will be like:\n",
        "*\n",
        "**\n",
        "***\n",
        "**** '''"
      ]
    },
    {
      "cell_type": "code",
      "source": [
        "# Solving it through nested \"while loop\"\n",
        "N= int(input())\n",
        "i=0\n",
        "while i<N:\n",
        "  j=0\n",
        "  while j<=i:\n",
        "    print(\"*\", end=\"\")\n",
        "    j=j+1\n",
        "  print()\n",
        "  i=i+1"
      ],
      "metadata": {
        "colab": {
          "base_uri": "https://localhost:8080/"
        },
        "id": "_1KzSA2tccYk",
        "outputId": "21499794-c60b-467f-cce8-ebc5ef067061"
      },
      "execution_count": 6,
      "outputs": [
        {
          "output_type": "stream",
          "name": "stdout",
          "text": [
            "4\n",
            "*\n",
            "**\n",
            "***\n",
            "****\n"
          ]
        }
      ]
    },
    {
      "cell_type": "code",
      "source": [
        "# Solving it through nested \"for loop\"\n",
        "N= int(input())\n",
        "for i in range (N):\n",
        "  for j in range (i+1):\n",
        "  # here we have added i+1 we can 1 star for \"0\" th row, 2 star for \"1\" st row as shown in below format:\n",
        "  #  >>>> 0 ----- *\n",
        "  # >>>>> 1 ------ **\n",
        "  # >>>>> 2 ------ ***\n",
        "  # >>>>> 3 ------ ****\n",
        "    if (j==i):\n",
        "      print (\"*\", end =\"\")\n",
        "    else:\n",
        "      print (\"*\", end =\"\")\n",
        "  # Note: if condition we add to remove space from the last digit\n",
        "  print()"
      ],
      "metadata": {
        "colab": {
          "base_uri": "https://localhost:8080/"
        },
        "id": "gUydgyPXfFfz",
        "outputId": "13c545d3-dea7-433b-80ea-7d5899a19d2e"
      },
      "execution_count": 15,
      "outputs": [
        {
          "output_type": "stream",
          "name": "stdout",
          "text": [
            "4\n",
            "*\n",
            "**\n",
            "***\n",
            "****\n"
          ]
        }
      ]
    },
    {
      "cell_type": "code",
      "source": [
        "# we can also solve it without nested loops\n",
        "N = int(input())\n",
        "for i in range(N):\n",
        "  print ((i+1)*\"*\", end =\"\")\n",
        "  print()\n"
      ],
      "metadata": {
        "colab": {
          "base_uri": "https://localhost:8080/"
        },
        "id": "KZFqTwTPiemB",
        "outputId": "ac7d9194-a5fc-41a8-db1c-11bdfbe59f11"
      },
      "execution_count": 13,
      "outputs": [
        {
          "output_type": "stream",
          "name": "stdout",
          "text": [
            "4\n",
            "*\n",
            "**\n",
            "***\n",
            "****\n"
          ]
        }
      ]
    },
    {
      "cell_type": "code",
      "source": [
        "''' Second Question\n",
        "Take an integer N as input, print the corresponding stair pattern for N.\n",
        "For example if N = 4 then stair pattern will be like:\n",
        "****\n",
        "***\n",
        "**\n",
        "* '''"
      ],
      "metadata": {
        "id": "2_1K472RkpJ6"
      },
      "execution_count": null,
      "outputs": []
    },
    {
      "cell_type": "code",
      "source": [
        "# Solving it through nested \"while loop\"\n",
        "N= int(input())\n",
        "i=0\n",
        "while i<N:\n",
        "  j=0\n",
        "  while j<N-i:\n",
        "  # it gives output based on below logic\n",
        "  #  Row (i) ------  Output (j<N-i)\n",
        "  #  >>>> 0 ----- **** (0<4-0). So, this inner loop print \"*\" from (0 till 3)\n",
        "  # >>>>> 1 ------ *** (1<4-1). So, this inner loop print \"*\" from (0 till 2)\n",
        "  # >>>>> 2 ------ **  (2<4-2). So, this inner loop print \"*\" from (0 till 1)\n",
        "  # >>>>> 3 ------ *   (3<4-3). So, this inner loop print \"*\" from (0 till 0)\n",
        "    print(\"*\", end=\"\")\n",
        "    j=j+1\n",
        "  print()\n",
        "  i=i+1"
      ],
      "metadata": {
        "colab": {
          "base_uri": "https://localhost:8080/"
        },
        "id": "vN66Y9RUlDhg",
        "outputId": "8ed71574-7f9b-4702-a1c0-3bc0e486dfc8"
      },
      "execution_count": 17,
      "outputs": [
        {
          "output_type": "stream",
          "name": "stdout",
          "text": [
            "4\n",
            "****\n",
            "***\n",
            "**\n",
            "*\n"
          ]
        }
      ]
    },
    {
      "cell_type": "code",
      "source": [
        "# Solving it through nested \"for loop\"\n",
        "N = int(input())\n",
        "for i in range (N):\n",
        "  for j in range (N-i):\n",
        "    print(\"*\", end=\"\")\n",
        "  print()"
      ],
      "metadata": {
        "colab": {
          "base_uri": "https://localhost:8080/"
        },
        "id": "yCrE4uBDpuzv",
        "outputId": "bafba829-2d95-48b4-bcbe-ce48207394ba"
      },
      "execution_count": 18,
      "outputs": [
        {
          "output_type": "stream",
          "name": "stdout",
          "text": [
            "4\n",
            "****\n",
            "***\n",
            "**\n",
            "*\n"
          ]
        }
      ]
    },
    {
      "cell_type": "code",
      "source": [
        "# Solving it without nested loops\n",
        "N = int(input())\n",
        "for i in range (N,0,-1):\n",
        "  # this loop works\n",
        "  # >>>>> 4 ----- 4 * \"*\" = ****\n",
        "  # >>>>> 3 ------3 * \"*\" = *** \n",
        "  # >>>>> 2 ------2 * \"*\" = **\n",
        "  # >>>>> 1 ------1 * \"*\" = *\n",
        "  print(i*\"*\", end=\"\")\n",
        "  print()"
      ],
      "metadata": {
        "colab": {
          "base_uri": "https://localhost:8080/"
        },
        "id": "r0D7VfUoqy9d",
        "outputId": "00d2ddde-0eef-4b04-d66c-ab4345fafb66"
      },
      "execution_count": 22,
      "outputs": [
        {
          "output_type": "stream",
          "name": "stdout",
          "text": [
            "4\n",
            "****\n",
            "***\n",
            "**\n",
            "*\n"
          ]
        }
      ]
    },
    {
      "cell_type": "code",
      "source": [
        "'''\n",
        "Third Question\n",
        "Ask the user to enter a number [+ive integer]\n",
        "and print the foloowing pattern\n",
        "    *\n",
        "   **\n",
        "  ***\n",
        " ****\n",
        "Here the user entered the number of rows they want eg in this case it is 4\n",
        "'''"
      ],
      "metadata": {
        "id": "Ht_Wm3uNsjMe"
      },
      "execution_count": null,
      "outputs": []
    },
    {
      "cell_type": "code",
      "source": [
        "N = int(input())\n",
        "for i in range (N):\n",
        "  print (\" \" *(N-(i+1)) + (i+1)*\"*\", end=\"\")\n",
        "  # Here in the print statement we have combined two logic\n",
        "  # firstly we are creating space in the start with code : \" \" *(N-(i+1)): space * (4-(0+1)) = space *3 = (---) three space and works so on\n",
        "  # Secondly we are printing star with code: (i+1)*\"*\" : (0+1)*\"*\": (1)*\"*\": 1 \n",
        "  print()"
      ],
      "metadata": {
        "colab": {
          "base_uri": "https://localhost:8080/"
        },
        "id": "74llo93yufAS",
        "outputId": "34e3555a-126c-4e19-9830-dfa3467294a1"
      },
      "execution_count": 23,
      "outputs": [
        {
          "output_type": "stream",
          "name": "stdout",
          "text": [
            "4\n",
            "   *\n",
            "  **\n",
            " ***\n",
            "****\n"
          ]
        }
      ]
    },
    {
      "cell_type": "code",
      "source": [
        "'''\n",
        "Third Question\n",
        "Ask the user to enter a number [+ive integer]\n",
        "and print the foloowing pattern\n",
        " ****\n",
        "  ***\n",
        "   **\n",
        "    *\n",
        "Here the user entered the number of rows they want eg in this case it is 4\n",
        "'''"
      ],
      "metadata": {
        "id": "o3zsRaNsAAyq"
      },
      "execution_count": null,
      "outputs": []
    },
    {
      "cell_type": "code",
      "source": [
        "N = int(input())\n",
        "for i in range(N):\n",
        "  print(\" \" * i + \"*\"*(N-i), end=\" \")\n",
        "  # \" \" refers to space\n",
        "  # this loop works\n",
        "  # >>>>> 0 ----- (space * 0 + \"*\" *(4-0), end=\" \") : (0+4*\"*\") : ****\n",
        "  # >>>>> 1 ------(space * 1 + \"*\" *(4-1), end=\" \") : (1+3*\"*\") :  ***\n",
        "  # >>>>> 2 ------(space * 2 + \"*\" *(4-2), end=\" \") : (2+2*\"*\") :   **\n",
        "  # >>>>> 3 ------(space * 3 + \"*\" *(4-3), end=\" \") : (3+1*\"*\") :    *\n",
        "  print()"
      ],
      "metadata": {
        "colab": {
          "base_uri": "https://localhost:8080/"
        },
        "id": "AgTnCGDcAF1Y",
        "outputId": "14f01cae-8d22-48cd-850e-457bfda88701"
      },
      "execution_count": 6,
      "outputs": [
        {
          "output_type": "stream",
          "name": "stdout",
          "text": [
            "4\n",
            "**** \n",
            " *** \n",
            "  ** \n",
            "   * \n"
          ]
        }
      ]
    },
    {
      "cell_type": "code",
      "source": [
        "'''\n",
        "Fourth Question\n",
        "Ask the user to enter a number [+ive integer]\n",
        "and print the foloowing pattern\n",
        "*        1...row+1\n",
        "*2       1...2\n",
        "*2*      1....3\n",
        "*2*4\n",
        "*2*4*\n",
        "*2*4*6\n",
        "Here the user entered the number of rows they want eg in this case it is 6\n",
        "For all the odd position, print '*'\n",
        "for even positions print the number i.e j."
      ],
      "metadata": {
        "id": "O-J4LOdVD-EE"
      },
      "execution_count": null,
      "outputs": []
    },
    {
      "cell_type": "code",
      "source": [
        "n = int(input())\n",
        "for rowNum in range(n):\n",
        "    # print(rowNum)\n",
        "    for j in range(1,rowNum+2):\n",
        "        if j%2==0:\n",
        "            print(j, end=\"\")\n",
        "        else:\n",
        "            print('*', end=\"\")\n",
        "    print()"
      ],
      "metadata": {
        "colab": {
          "base_uri": "https://localhost:8080/"
        },
        "id": "u3_RGkBwFpBg",
        "outputId": "8859752c-99ab-481b-dab3-71c312b0c681"
      },
      "execution_count": 7,
      "outputs": [
        {
          "output_type": "stream",
          "name": "stdout",
          "text": [
            "6\n",
            "*\n",
            "*2\n",
            "*2*\n",
            "*2*4\n",
            "*2*4*\n",
            "*2*4*6\n"
          ]
        }
      ]
    },
    {
      "cell_type": "code",
      "source": [
        "''' Fifth Question\n",
        "Problem Description\n",
        "\n",
        "Take an integer N as input, print the corresponding Half Diamond pattern with 2*N - 1 rows.\n",
        "\n",
        "For example if N = 5 then pattern will be like:\n",
        "\n",
        "*\n",
        "**\n",
        "***\n",
        "****\n",
        "*****\n",
        "****\n",
        "***\n",
        "**\n",
        "*\n",
        "NOTE: There should be no spaces after any *. '''"
      ],
      "metadata": {
        "id": "9IvzOoXKMTq4"
      },
      "execution_count": null,
      "outputs": []
    },
    {
      "cell_type": "code",
      "source": [
        "N= int(input())\n",
        "for i in range (N):\n",
        "    print(\"*\"*(i+1), end=\"\")\n",
        "    print()\n",
        "for j in range (N):\n",
        "    print(\"*\" * (N-j-1), end=\"\")\n",
        "    print()\n"
      ],
      "metadata": {
        "colab": {
          "base_uri": "https://localhost:8080/"
        },
        "id": "0HtX_eaVNJe0",
        "outputId": "638365af-a62a-4dff-ab32-6cd44bfb6feb"
      },
      "execution_count": 14,
      "outputs": [
        {
          "output_type": "stream",
          "name": "stdout",
          "text": [
            "5\n",
            "*\n",
            "**\n",
            "***\n",
            "****\n",
            "*****\n",
            "****\n",
            "***\n",
            "**\n",
            "*\n",
            "\n"
          ]
        }
      ]
    },
    {
      "cell_type": "code",
      "source": [
        "N= int(input())\n",
        "for i in range (N):\n",
        "    print(\"*\"*(i+1), end=\"\")\n",
        "    print()"
      ],
      "metadata": {
        "colab": {
          "base_uri": "https://localhost:8080/"
        },
        "id": "eN6HMy0LPWiy",
        "outputId": "e6dd2705-7228-44d8-a36a-4f20e02e06a1"
      },
      "execution_count": 12,
      "outputs": [
        {
          "output_type": "stream",
          "name": "stdout",
          "text": [
            "5\n",
            "*\n",
            "**\n",
            "***\n",
            "****\n",
            "*****\n"
          ]
        }
      ]
    }
  ]
}