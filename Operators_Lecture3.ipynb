{
  "nbformat": 4,
  "nbformat_minor": 0,
  "metadata": {
    "colab": {
      "provenance": [],
      "authorship_tag": "ABX9TyOtLnWM0INjee+2w5wWtHvF",
      "include_colab_link": true
    },
    "kernelspec": {
      "name": "python3",
      "display_name": "Python 3"
    },
    "language_info": {
      "name": "python"
    }
  },
  "cells": [
    {
      "cell_type": "markdown",
      "metadata": {
        "id": "view-in-github",
        "colab_type": "text"
      },
      "source": [
        "<a href=\"https://colab.research.google.com/github/A11rastogi/Python-Programming/blob/main/Operators_Lecture3.ipynb\" target=\"_parent\"><img src=\"https://colab.research.google.com/assets/colab-badge.svg\" alt=\"Open In Colab\"/></a>"
      ]
    },
    {
      "cell_type": "code",
      "execution_count": null,
      "metadata": {
        "colab": {
          "base_uri": "https://localhost:8080/"
        },
        "id": "2YkW0rAQL6Sj",
        "outputId": "e729eefe-9a61-49cf-ab1b-654f653fac39"
      },
      "outputs": [
        {
          "output_type": "stream",
          "name": "stdout",
          "text": [
            "3 7 10\n",
            "2.5\n",
            "3.0 7.0 10.0\n",
            "3.0 7.0 10.0\n"
          ]
        }
      ],
      "source": [
        "# Operators (+ plus, - minus, * multiply)\n",
        "# Integer Values\n",
        "print (5-2, 5+2, 5*2)\n",
        "# Here any operation performs on integer value gives result in form of integer\n",
        "print (5/2)\n",
        "# Here in division only it gives output in float\n",
        "# Integer and Float values\n",
        "print (5-2.0, 5+2.0, 5*2.0)\n",
        "# Any operation performed on integer and float values gives result in float\n",
        "# Float Values\n",
        "print (5.0-2.0, 5.0+2.0, 5.0*2.0)\n",
        "# Any operation performed on float values gives result in float"
      ]
    },
    {
      "cell_type": "code",
      "source": [
        "# Operators (x**)\n",
        "print (5**3)  # Here \"3\" represent cube\n",
        "print (5**2)  # Here \"2\" represent square\n",
        "print(25**(1/2)) # 1/2 represent square root\n",
        "print(25**0.5) # another form of square root"
      ],
      "metadata": {
        "colab": {
          "base_uri": "https://localhost:8080/"
        },
        "id": "5b7dOhQaNHaL",
        "outputId": "1655cbce-6531-4700-e749-3bbc9a4088be"
      },
      "execution_count": null,
      "outputs": [
        {
          "output_type": "stream",
          "name": "stdout",
          "text": [
            "125\n",
            "25\n",
            "5.0\n",
            "5.0\n"
          ]
        }
      ]
    },
    {
      "cell_type": "code",
      "source": [
        "# Florred Division: It gives the largest integer equal or smaller than the value\n",
        "print (5//2)\n",
        "# Use Case\n",
        "# abhinav >> 200 candies >> distribute to 79 people\n",
        "print(200//79) ## // >> florred division"
      ],
      "metadata": {
        "colab": {
          "base_uri": "https://localhost:8080/"
        },
        "id": "lExsPWTjUlBi",
        "outputId": "b85d9482-4fb5-405e-c76a-feaa91caec17"
      },
      "execution_count": null,
      "outputs": [
        {
          "output_type": "stream",
          "name": "stdout",
          "text": [
            "2\n",
            "2\n"
          ]
        }
      ]
    },
    {
      "cell_type": "code",
      "source": [
        "## precedence of operators\n",
        "# ()\n",
        "#  **          # Exponential\n",
        "# *  /   // %  # Multiplication & Division\n",
        "# + -          # Addition & Subtraction\n",
        "# Use case Question: (10-4*2+5-6//2)\n",
        "10  - 4 * 2 + 5 - 6 // 2     # * and //  have the same rank. So, calculation works from the left which means multiplication is done first\n",
        "# 10-8+5-6//2                # // has the highest rank. So, in this step division take place\n",
        "# 10-8+5-3                   # + and - have the same rank. So, calculation works from the left which means here subtraction is done first\n",
        "# 2+5-3                      # + and - have the same rank. So, calculation works from the left which means addition is done first\n",
        "# 7-3\n",
        "# 4"
      ],
      "metadata": {
        "id": "pG6XVMePV9hD"
      },
      "execution_count": null,
      "outputs": []
    },
    {
      "cell_type": "code",
      "source": [
        "## % modulus >> Gives remainder\n",
        "print(75%4)"
      ],
      "metadata": {
        "colab": {
          "base_uri": "https://localhost:8080/"
        },
        "id": "7AMkg2ldebMj",
        "outputId": "f4d8895a-e74c-4e31-8502-94b1b820a228"
      },
      "execution_count": null,
      "outputs": [
        {
          "output_type": "stream",
          "name": "stdout",
          "text": [
            "3\n"
          ]
        }
      ]
    },
    {
      "cell_type": "code",
      "source": [
        "# typecasting: method of changing datatype\n",
        "print (int(10.0))"
      ],
      "metadata": {
        "colab": {
          "base_uri": "https://localhost:8080/"
        },
        "id": "ESx0oKgBflyJ",
        "outputId": "d3be6238-d0fd-414f-d04b-9d326c0043d2"
      },
      "execution_count": null,
      "outputs": [
        {
          "output_type": "stream",
          "name": "stdout",
          "text": [
            "10\n"
          ]
        }
      ]
    },
    {
      "cell_type": "code",
      "source": [
        "print (float(10))"
      ],
      "metadata": {
        "colab": {
          "base_uri": "https://localhost:8080/"
        },
        "id": "uN4wzW9YgHGO",
        "outputId": "2dc01324-e5e8-41e0-e4e9-ef79e363fac0"
      },
      "execution_count": null,
      "outputs": [
        {
          "output_type": "stream",
          "name": "stdout",
          "text": [
            "10.0\n"
          ]
        }
      ]
    },
    {
      "cell_type": "code",
      "source": [
        "print (str(10))"
      ],
      "metadata": {
        "colab": {
          "base_uri": "https://localhost:8080/"
        },
        "id": "jsbZDXv9gN6u",
        "outputId": "7c3bab2d-f443-460c-eaa7-280cc41a9902"
      },
      "execution_count": null,
      "outputs": [
        {
          "output_type": "stream",
          "name": "stdout",
          "text": [
            "10\n"
          ]
        }
      ]
    },
    {
      "cell_type": "code",
      "source": [
        "# typecasting to boolean\n",
        "print (True, False)\n",
        "# Boolean with any numbers and string values gives True result except \"0\" and \"null\" values which gives False result "
      ],
      "metadata": {
        "colab": {
          "base_uri": "https://localhost:8080/"
        },
        "id": "3_98-Mnzg_VX",
        "outputId": "65c33edd-bf0f-44a3-c461-94c9256a8ec1"
      },
      "execution_count": null,
      "outputs": [
        {
          "output_type": "stream",
          "name": "stdout",
          "text": [
            "True False\n"
          ]
        }
      ]
    },
    {
      "cell_type": "code",
      "source": [
        "print (bool(1))"
      ],
      "metadata": {
        "colab": {
          "base_uri": "https://localhost:8080/"
        },
        "id": "IdeNSDRhpOdl",
        "outputId": "5571bf79-0853-4fd2-c15d-baeaccb70c71"
      },
      "execution_count": null,
      "outputs": [
        {
          "output_type": "stream",
          "name": "stdout",
          "text": [
            "True\n"
          ]
        }
      ]
    },
    {
      "cell_type": "code",
      "source": [
        "print (bool(-1))"
      ],
      "metadata": {
        "colab": {
          "base_uri": "https://localhost:8080/"
        },
        "id": "L3kmkEGJpXsZ",
        "outputId": "5824f2e3-6d39-4804-d510-7b21275accc4"
      },
      "execution_count": null,
      "outputs": [
        {
          "output_type": "stream",
          "name": "stdout",
          "text": [
            "True\n"
          ]
        }
      ]
    },
    {
      "cell_type": "code",
      "source": [
        "print (bool(0))"
      ],
      "metadata": {
        "colab": {
          "base_uri": "https://localhost:8080/"
        },
        "id": "d-fOTDQNpbVA",
        "outputId": "5447901b-fb8a-4ab0-ad66-235f43e4f515"
      },
      "execution_count": null,
      "outputs": [
        {
          "output_type": "stream",
          "name": "stdout",
          "text": [
            "False\n"
          ]
        }
      ]
    },
    {
      "cell_type": "code",
      "source": [
        "print (bool())"
      ],
      "metadata": {
        "colab": {
          "base_uri": "https://localhost:8080/"
        },
        "id": "xjMgwfhEpfz0",
        "outputId": "13f69eca-2260-41ae-ff67-5238cc8aee10"
      },
      "execution_count": null,
      "outputs": [
        {
          "output_type": "stream",
          "name": "stdout",
          "text": [
            "False\n"
          ]
        }
      ]
    },
    {
      "cell_type": "code",
      "source": [
        "print (bool('Abhinav'))"
      ],
      "metadata": {
        "colab": {
          "base_uri": "https://localhost:8080/"
        },
        "id": "xgqDVZG7qjDQ",
        "outputId": "8001d4e7-c780-42fc-bb12-15d60f144e12"
      },
      "execution_count": null,
      "outputs": [
        {
          "output_type": "stream",
          "name": "stdout",
          "text": [
            "True\n"
          ]
        }
      ]
    },
    {
      "cell_type": "code",
      "source": [
        "age = 26\n",
        "print (age>20)"
      ],
      "metadata": {
        "colab": {
          "base_uri": "https://localhost:8080/"
        },
        "id": "XQ9XTK01rDhW",
        "outputId": "2404f04f-8a30-4a71-87ce-8c45c9bd26ce"
      },
      "execution_count": null,
      "outputs": [
        {
          "output_type": "stream",
          "name": "stdout",
          "text": [
            "True\n"
          ]
        }
      ]
    },
    {
      "cell_type": "code",
      "source": [
        "# Lexical comparison\n",
        "print ('goa'> 'delhi')\n",
        "print (ord (\"g\"), ord (\"d\"))\n",
        "print (len('Abhinav') > len('Amit'))\n"
      ],
      "metadata": {
        "colab": {
          "base_uri": "https://localhost:8080/"
        },
        "id": "6ScXLuAQsHLc",
        "outputId": "1efe3201-9c8d-4389-f99c-57c92c8012fd"
      },
      "execution_count": null,
      "outputs": [
        {
          "output_type": "stream",
          "name": "stdout",
          "text": [
            "True\n",
            "103 100\n",
            "True\n"
          ]
        }
      ]
    },
    {
      "cell_type": "code",
      "source": [
        "Session = 50\n",
        "print (Session)\n",
        "Session = Session + 50\n",
        "print (Session)"
      ],
      "metadata": {
        "colab": {
          "base_uri": "https://localhost:8080/"
        },
        "id": "7F3EDtH-u97_",
        "outputId": "b07c4bb1-37e9-41ce-fb99-a5de3e59c833"
      },
      "execution_count": null,
      "outputs": [
        {
          "output_type": "stream",
          "name": "stdout",
          "text": [
            "50\n",
            "100\n"
          ]
        }
      ]
    },
    {
      "cell_type": "code",
      "source": [
        "Age = 25\n",
        "print (Age)\n",
        "Age += 25\n",
        "print (Age)  # age gets added to 50\n",
        "Age -=5\n",
        "print (Age) # age subtracted by 5 and output become 45\n",
        "Age *=2\n",
        "print (Age) # age multiplied by 2 and output become 90\n",
        "Age /=3\n",
        "print (int(Age)) # age devided by 3 and output become 30\n",
        "Age //=3\n",
        "print (Age)  # age devided by 3 and output become 10"
      ],
      "metadata": {
        "colab": {
          "base_uri": "https://localhost:8080/"
        },
        "id": "Wo113ILKvYmh",
        "outputId": "53c5ebcd-d49b-49b5-8312-493ab86e2e47"
      },
      "execution_count": null,
      "outputs": [
        {
          "output_type": "stream",
          "name": "stdout",
          "text": [
            "25\n",
            "50\n",
            "45\n",
            "90\n",
            "30\n",
            "10.0\n"
          ]
        }
      ]
    },
    {
      "cell_type": "code",
      "source": [
        "jee_mains = 219\n",
        "jee_adv = 110\n",
        "board_score_12th = 89\n",
        "print (jee_mains>200 and jee_adv>120 and board_score_12th>85)\n",
        "print (jee_mains>200 and jee_adv>100 and board_score_12th>85)"
      ],
      "metadata": {
        "colab": {
          "base_uri": "https://localhost:8080/"
        },
        "id": "KhVgxmmN97Wy",
        "outputId": "04fceb4c-09ef-41f6-d247-a68dfbd31e2b"
      },
      "execution_count": null,
      "outputs": [
        {
          "output_type": "stream",
          "name": "stdout",
          "text": [
            "False\n",
            "True\n"
          ]
        }
      ]
    },
    {
      "cell_type": "code",
      "source": [
        "Dish = input ('What dish you like most')\n",
        "print ('I like to eat',Dish)"
      ],
      "metadata": {
        "colab": {
          "base_uri": "https://localhost:8080/"
        },
        "id": "CYKgpXPlBE54",
        "outputId": "1e53faff-dabc-4de7-fab8-b1082b6cdc8f"
      },
      "execution_count": null,
      "outputs": [
        {
          "output_type": "stream",
          "name": "stdout",
          "text": [
            "What dish you like mostMughlai\n",
            "I like to eat Mughlai\n"
          ]
        }
      ]
    },
    {
      "cell_type": "code",
      "source": [
        "A = int(input('Enter first_number'))\n",
        "B = int(input('Enter second number'))\n",
        "print (A+B)"
      ],
      "metadata": {
        "colab": {
          "base_uri": "https://localhost:8080/"
        },
        "id": "U2DcoRwWGqNq",
        "outputId": "68f451dd-b7c4-4163-c273-e098d04db697"
      },
      "execution_count": null,
      "outputs": [
        {
          "output_type": "stream",
          "name": "stdout",
          "text": [
            "Enter first_number10\n",
            "Enter second number20\n",
            "30\n"
          ]
        }
      ]
    }
  ]
}