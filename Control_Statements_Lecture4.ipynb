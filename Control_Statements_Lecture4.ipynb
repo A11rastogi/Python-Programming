{
  "nbformat": 4,
  "nbformat_minor": 0,
  "metadata": {
    "colab": {
      "provenance": [],
      "authorship_tag": "ABX9TyP2kj+0M6kJ1IWGSWbzNFgF",
      "include_colab_link": true
    },
    "kernelspec": {
      "name": "python3",
      "display_name": "Python 3"
    },
    "language_info": {
      "name": "python"
    }
  },
  "cells": [
    {
      "cell_type": "markdown",
      "metadata": {
        "id": "view-in-github",
        "colab_type": "text"
      },
      "source": [
        "<a href=\"https://colab.research.google.com/github/A11rastogi/Python-Programming/blob/main/Control_Statements_Lecture4.ipynb\" target=\"_parent\"><img src=\"https://colab.research.google.com/assets/colab-badge.svg\" alt=\"Open In Colab\"/></a>"
      ]
    },
    {
      "cell_type": "code",
      "execution_count": null,
      "metadata": {
        "id": "RIlGKw_EVVRt"
      },
      "outputs": [],
      "source": [
        "# Topic covered in this lecture is 'If Else' function"
      ]
    },
    {
      "cell_type": "code",
      "source": [
        "if 30 > 20:\n",
        "  print ('Calculation is right')\n",
        "else:\n",
        "  print ('Calculation is wrong')"
      ],
      "metadata": {
        "colab": {
          "base_uri": "https://localhost:8080/"
        },
        "id": "HJ8qYf59WpZH",
        "outputId": "6470c1d8-ef4b-4d62-b8a0-76c16d2eb783"
      },
      "execution_count": 3,
      "outputs": [
        {
          "output_type": "stream",
          "name": "stdout",
          "text": [
            "Calculation is right\n"
          ]
        }
      ]
    },
    {
      "cell_type": "code",
      "source": [
        "if 30 < 20:\n",
        "  print ('Calculation is right')\n",
        "else:\n",
        "  print ('Calculation is wrong')"
      ],
      "metadata": {
        "colab": {
          "base_uri": "https://localhost:8080/"
        },
        "id": "3JqntfAeXNn1",
        "outputId": "90645d38-4c9c-4454-fff6-3500a8834019"
      },
      "execution_count": 4,
      "outputs": [
        {
          "output_type": "stream",
          "name": "stdout",
          "text": [
            "Calculation is wrong\n"
          ]
        }
      ]
    },
    {
      "cell_type": "code",
      "source": [
        "Question 1:\n",
        "1. ask the user to give some integer input\n",
        "2. calculate cube of the input integer\n",
        "3. if cube >50:\n",
        "    if yes: say \"Number is huge\"\n",
        "    if no: say \"Number is tiny\"\n"
      ],
      "metadata": {
        "id": "v786PqhyZG-m"
      },
      "execution_count": null,
      "outputs": []
    },
    {
      "cell_type": "code",
      "source": [
        "# Here in this example we have entered number 2, cube for which is lesser than 50. So, gives result Number is tiny\n",
        "Num = int(input('Enter number' ))\n",
        "Num**3\n",
        "if Num**3 >50:\n",
        "  print (\"Number is huge\")\n",
        "else:\n",
        "  print (\"Number is tiny\")"
      ],
      "metadata": {
        "colab": {
          "base_uri": "https://localhost:8080/"
        },
        "id": "J4kecQHiZXtQ",
        "outputId": "613d2f60-7e66-4d3f-a3ea-7a18113a97a8"
      },
      "execution_count": 17,
      "outputs": [
        {
          "output_type": "stream",
          "name": "stdout",
          "text": [
            "Enter number2\n",
            "Number is tiny\n"
          ]
        }
      ]
    },
    {
      "cell_type": "code",
      "source": [
        "# Here in this example we have entered number 5, cube for which is higher than 50. So, gives result Number is huge\n",
        "Num = int(input('Enter number' ))\n",
        "Num**3\n",
        "if Num**3 >50:\n",
        "  print (\"Number is huge\")\n",
        "else:\n",
        "  print (\"Number is tiny\")"
      ],
      "metadata": {
        "colab": {
          "base_uri": "https://localhost:8080/"
        },
        "id": "uGGfLh4QaM2X",
        "outputId": "67acc0ea-42fe-479a-9e70-26f20cb9fac2"
      },
      "execution_count": 16,
      "outputs": [
        {
          "output_type": "stream",
          "name": "stdout",
          "text": [
            "Enter number5\n",
            "Number is huge\n"
          ]
        }
      ]
    },
    {
      "cell_type": "code",
      "source": [
        "Question 2:\n",
        "1: ask the user for a password\n",
        "2: ask the user to re-enter the password\n",
        "3: check if the 2 passwords are same:\n",
        "    yes: say \"passwords are good\"\n",
        "    no: say \"issues with password\""
      ],
      "metadata": {
        "id": "P_7P2opNfGeI"
      },
      "execution_count": null,
      "outputs": []
    },
    {
      "cell_type": "code",
      "source": [
        "Password = input('Enter Password: ')\n",
        "Confirm_Password = input ('Re Enter Password: ')\n",
        "if Password == Confirm_Password:\n",
        "  print ('passwords are good')\n",
        "else:\n",
        "  print ('issues with password')"
      ],
      "metadata": {
        "colab": {
          "base_uri": "https://localhost:8080/"
        },
        "id": "F2v-CB9ifL8_",
        "outputId": "dafaf2b7-6ff2-4203-88b6-17bcf84bc902"
      },
      "execution_count": 24,
      "outputs": [
        {
          "output_type": "stream",
          "name": "stdout",
          "text": [
            "Enter Password: @Abhinav.11\n",
            "Re Enter Password: @Ambala.1990\n",
            "issues with password\n"
          ]
        }
      ]
    },
    {
      "cell_type": "code",
      "source": [
        "Password = input('Enter Password: ')\n",
        "Confirm_Password = input ('Re Enter Password: ')\n",
        "if Password == Confirm_Password:\n",
        "  print ('passwords are good')\n",
        "else:\n",
        "  print ('issues with password')"
      ],
      "metadata": {
        "colab": {
          "base_uri": "https://localhost:8080/"
        },
        "id": "lu55vz8nhhF2",
        "outputId": "10304fe5-b4d3-40ef-86d9-49553e2a6057"
      },
      "execution_count": 25,
      "outputs": [
        {
          "output_type": "stream",
          "name": "stdout",
          "text": [
            "Enter Password: @Abhinav.11\n",
            "Re Enter Password: @Abhinav.11\n",
            "passwords are good\n"
          ]
        }
      ]
    },
    {
      "cell_type": "code",
      "source": [
        "# Use of elif: which is a combination of else and if\n",
        "time = int(input('enter_time: '))\n",
        "if time>=9 and time<12:\n",
        "    print(\"Good morning 🛏\")\n",
        "elif time>=12 and time<17:\n",
        "    print(\"Good afternoon 🌞\")\n",
        "elif time>=17 and time<20:\n",
        "    print(\"Good evening ⛅\")\n",
        "else:\n",
        "    print(\"Good night 🌚\")\n",
        "     "
      ],
      "metadata": {
        "colab": {
          "base_uri": "https://localhost:8080/"
        },
        "id": "a0uDhXthibui",
        "outputId": "e0a05ad5-c7ba-475d-9bda-84e6a54e203c"
      },
      "execution_count": 28,
      "outputs": [
        {
          "output_type": "stream",
          "name": "stdout",
          "text": [
            "enter_time: 23\n",
            "Good night 🌚\n"
          ]
        }
      ]
    },
    {
      "cell_type": "code",
      "source": [
        "Question 3:\n",
        "1. ask the user to eneter an integer\n",
        "2. check if it is positive(>0) OR it is not positive\n",
        "\n",
        "eg:\n",
        "5>> positive\n",
        "0>> not positive\n",
        "-10>> not positive"
      ],
      "metadata": {
        "id": "qTMoW57tjx1t"
      },
      "execution_count": null,
      "outputs": []
    },
    {
      "cell_type": "code",
      "source": [
        "num = int(input())\n",
        "if num>0:\n",
        "  print ('positive')\n",
        "else:\n",
        "  print ('not positive')"
      ],
      "metadata": {
        "colab": {
          "base_uri": "https://localhost:8080/"
        },
        "id": "AksAJ1b2lPGO",
        "outputId": "e022c42b-c4eb-46dc-e245-6954b66116ee"
      },
      "execution_count": 35,
      "outputs": [
        {
          "output_type": "stream",
          "name": "stdout",
          "text": [
            "0\n",
            "not positive\n"
          ]
        }
      ]
    },
    {
      "cell_type": "code",
      "source": [
        "num = int(input())\n",
        "if num>0:\n",
        "  print ('positive')\n",
        "else:\n",
        "  print ('not positive')"
      ],
      "metadata": {
        "colab": {
          "base_uri": "https://localhost:8080/"
        },
        "id": "jS3d_Mg1mk7X",
        "outputId": "cfb94ea6-efd6-40f4-989f-68d86f7d7e5e"
      },
      "execution_count": 36,
      "outputs": [
        {
          "output_type": "stream",
          "name": "stdout",
          "text": [
            "10\n",
            "positive\n"
          ]
        }
      ]
    },
    {
      "cell_type": "code",
      "source": [
        "Question 3: Part II\n",
        "1. ask the user to eneter an integer\n",
        "2. check if it is positive OR negative OR zero\n",
        "\n",
        "eg:\n",
        "5>> positive\n",
        "0>> zero\n",
        "-10>> negative"
      ],
      "metadata": {
        "id": "LdOMmdrem5dI"
      },
      "execution_count": null,
      "outputs": []
    },
    {
      "cell_type": "code",
      "source": [
        "num = int(input('Enter number:'))\n",
        "if num>0:\n",
        "  print ('positive')\n",
        "elif num==0:\n",
        "  print ('Zero')\n",
        "else:\n",
        "  print ('negative')"
      ],
      "metadata": {
        "colab": {
          "base_uri": "https://localhost:8080/"
        },
        "id": "jGliV9BQm7TI",
        "outputId": "a80ea34e-f1a1-41c3-e50d-a8797aed3878"
      },
      "execution_count": 42,
      "outputs": [
        {
          "output_type": "stream",
          "name": "stdout",
          "text": [
            "Enter number:15\n",
            "positive\n"
          ]
        }
      ]
    },
    {
      "cell_type": "code",
      "source": [
        "Question 4 - \n",
        "Take a non-negative single digit positive number as input.\n",
        "If num**5%50+20-6 is > 15\n",
        "then print(\"BLACK\") else print(\"BLUE\").\n",
        "\n",
        "Note - Reject by saying \"INVALID INPUT\" any inputs which \n",
        "are not single digit or positive"
      ],
      "metadata": {
        "id": "NwqXnzQCpOzq"
      },
      "execution_count": null,
      "outputs": []
    },
    {
      "cell_type": "code",
      "source": [
        "num = int(input())\n",
        "if num>0 and num<=9:\n",
        "    res_exp = num**5%50+20-6\n",
        "    if res_exp>15:\n",
        "        print(\"BLACK\")\n",
        "    else:\n",
        "        print(\"BLUE\")\n",
        "else:\n",
        "    print(\"INVALID INPUT\")"
      ],
      "metadata": {
        "colab": {
          "base_uri": "https://localhost:8080/"
        },
        "id": "_mye_Qits6Ih",
        "outputId": "346a940a-dd12-4b3d-dd9e-bd694e6a4483"
      },
      "execution_count": 46,
      "outputs": [
        {
          "output_type": "stream",
          "name": "stdout",
          "text": [
            "-1\n",
            "INVALID INPUT\n"
          ]
        }
      ]
    },
    {
      "cell_type": "code",
      "source": [
        "# Here in this query, first If function works and throws result Valid Input, then second If function works and throws result Black\n",
        "num = int(input())\n",
        "if num>0 and num<=9:\n",
        "  print ('Valid Input')\n",
        "else:\n",
        "  print ('Invalid Input')\n",
        "if num**5%50+20-6 > 15:\n",
        "  print ('Black')\n",
        "else:\n",
        "  print ('Blue')"
      ],
      "metadata": {
        "colab": {
          "base_uri": "https://localhost:8080/"
        },
        "id": "w5Q9EtQzsgl0",
        "outputId": "ddcc509f-9e79-4ce0-b7f8-3961572a2b40"
      },
      "execution_count": 53,
      "outputs": [
        {
          "output_type": "stream",
          "name": "stdout",
          "text": [
            "8\n",
            "Valid Input\n",
            "Black\n"
          ]
        }
      ]
    },
    {
      "cell_type": "code",
      "source": [
        "num = int(input())\n",
        "if not (num>0 and num<=9):\n",
        "    print ('Valid Input')\n",
        "else:\n",
        "    print ('Invalid Input')\n",
        "if num**5%50+20-6>15:\n",
        "    print(\"BLACK\")\n",
        "else:\n",
        "    print(\"BLUE\")"
      ],
      "metadata": {
        "colab": {
          "base_uri": "https://localhost:8080/"
        },
        "id": "8iUZTK8o4khP",
        "outputId": "498142cd-9a4f-41a7-b20e-3fa023ff9e63"
      },
      "execution_count": 76,
      "outputs": [
        {
          "output_type": "stream",
          "name": "stdout",
          "text": [
            "8\n",
            "Invalid Input\n",
            "BLACK\n"
          ]
        }
      ]
    },
    {
      "cell_type": "code",
      "source": [
        "num = int(input())\n",
        "if not (num>0 and num<=9):\n",
        "    print(\"INVALID INPUT\")\n",
        "else:\n",
        "    if num**5%50+20-6>15:\n",
        "        print(\"BLACK\")\n",
        "    else:\n",
        "        print(\"BLUE\")"
      ],
      "metadata": {
        "colab": {
          "base_uri": "https://localhost:8080/"
        },
        "id": "LjGyeOkrufeF",
        "outputId": "8a19ea0a-9361-419e-c1de-041f7630b9d8"
      },
      "execution_count": 47,
      "outputs": [
        {
          "output_type": "stream",
          "name": "stdout",
          "text": [
            "-1\n",
            "INVALID INPUT\n"
          ]
        }
      ]
    },
    {
      "cell_type": "code",
      "source": [
        "Question 5:\n",
        "Ask the user, what language they like\n",
        "If they are saying \"python\", say good choice else say you need to think again"
      ],
      "metadata": {
        "id": "oYk9v6lKx45Z"
      },
      "execution_count": null,
      "outputs": []
    },
    {
      "cell_type": "code",
      "source": [
        "# lower function convert the text into lowercase\n",
        "lang = input(('What language you like: ')).lower()\n",
        "if lang == \"python\":\n",
        "  print ('good choice')\n",
        "else:\n",
        "  print ('Need to think again')"
      ],
      "metadata": {
        "colab": {
          "base_uri": "https://localhost:8080/"
        },
        "id": "88u5re-Kx_NA",
        "outputId": "33696246-4f58-4533-a4ef-36d8158b180b"
      },
      "execution_count": 59,
      "outputs": [
        {
          "output_type": "stream",
          "name": "stdout",
          "text": [
            "What language you like: Python\n",
            "good choice\n"
          ]
        }
      ]
    },
    {
      "cell_type": "code",
      "source": [
        "# lower function convert the text into lowercase\n",
        "lang = input()\n",
        "if lang.lower() == \"python\":\n",
        "    print(\"good choice\")\n",
        "else:\n",
        "    print(\"you need to think again\")"
      ],
      "metadata": {
        "colab": {
          "base_uri": "https://localhost:8080/"
        },
        "id": "WJ1fUOBGzv1l",
        "outputId": "e92e061b-37dc-4883-e205-326e253d1a6a"
      },
      "execution_count": 62,
      "outputs": [
        {
          "output_type": "stream",
          "name": "stdout",
          "text": [
            "Python\n",
            "good choice\n"
          ]
        }
      ]
    },
    {
      "cell_type": "code",
      "source": [
        "Question 6:\n",
        "FIZZBUZZ\n",
        "1. ask the user for an integer \n",
        "2. if it is divisible by 3--> say FIZZ\n",
        "3. if it is divisible by 5--> say BUZZ\n",
        "3. if it is divisible by 3 as well as 5--> say FIZZBUZZ\n",
        "If not divisible by any of the above, do nothing"
      ],
      "metadata": {
        "id": "Gx1kiBLW0VGc"
      },
      "execution_count": null,
      "outputs": []
    },
    {
      "cell_type": "code",
      "source": [
        "num = int(input('Enter Number: '))\n",
        "if num%3==0:\n",
        "  print('FIZZ')\n",
        "elif num%5==0:\n",
        "  print('BUZZ')\n",
        "elif num%3==0 and num%5==0:\n",
        "  print ('FIZZBUZZ')"
      ],
      "metadata": {
        "colab": {
          "base_uri": "https://localhost:8080/"
        },
        "id": "I7jx9B3l0dkT",
        "outputId": "c513d765-7247-4ff6-c114-974f7dc9e1cc"
      },
      "execution_count": 70,
      "outputs": [
        {
          "output_type": "stream",
          "name": "stdout",
          "text": [
            "Enter Number: 15\n",
            "FIZZ\n"
          ]
        }
      ]
    },
    {
      "cell_type": "code",
      "source": [
        "num = int(input('Enter Number: '))\n",
        "if num%3==0 and num%5==0:\n",
        "  print ('FIZZBUZZ')\n",
        "elif num%3==0:\n",
        "  print('FIZZ')\n",
        "elif num%5==0:\n",
        "  print('BUZZ')"
      ],
      "metadata": {
        "colab": {
          "base_uri": "https://localhost:8080/"
        },
        "id": "vIsk0GCT2nW4",
        "outputId": "5b959745-7a42-4209-c9db-3f4884230f61"
      },
      "execution_count": 71,
      "outputs": [
        {
          "output_type": "stream",
          "name": "stdout",
          "text": [
            "Enter Number: 15\n",
            "FIZZBUZZ\n"
          ]
        }
      ]
    },
    {
      "cell_type": "code",
      "source": [
        "# Here in this example as we put if condition multiple time. So, value in \"a\" do comparison with first if condition and display result, then with second if condition and so on\n",
        "a = 50\n",
        "if a > 40:\n",
        "    print(\"A\")\n",
        "if a > 30:\n",
        "    print(\"B\")\n",
        "if a > 20:\n",
        "    print(\"C\")"
      ],
      "metadata": {
        "colab": {
          "base_uri": "https://localhost:8080/"
        },
        "id": "phJNaxnN3e7W",
        "outputId": "966470f4-d5f8-40c2-c411-4a10816aaa1f"
      },
      "execution_count": 73,
      "outputs": [
        {
          "output_type": "stream",
          "name": "stdout",
          "text": [
            "A\n",
            "B\n",
            "C\n"
          ]
        }
      ]
    },
    {
      "cell_type": "code",
      "source": [
        "# Write a program that takes the age of the user as input and tells them if they're old enough to ride a roller coaster. The minimum age to ride the roller coaster in this question is 13.\n",
        "age = int(input())\n",
        "if age>= 13:\n",
        "    print ('You can ride the roller coaster!')\n",
        "else:\n",
        "    print ('You cannot ride the roller coaster')"
      ],
      "metadata": {
        "colab": {
          "base_uri": "https://localhost:8080/"
        },
        "id": "Z78qc1kV9kBF",
        "outputId": "00c61747-8804-4634-a749-efe864ab94f2"
      },
      "execution_count": 78,
      "outputs": [
        {
          "output_type": "stream",
          "name": "stdout",
          "text": [
            "13\n",
            "You can ride the roller coaster!\n"
          ]
        }
      ]
    },
    {
      "cell_type": "code",
      "source": [
        "# You are given 3 integer angles(in degrees) A, B and C of a triangle. You have to tell whether the triangle is valid or not?\n",
        "# A triangle is valid if sum of its angles equals to 180?\n",
        "A= int(input())\n",
        "B= int(input())\n",
        "C= int(input())\n",
        "if A+B+C == 180:\n",
        "    print ('1')\n",
        "else:\n",
        "    print ('0')"
      ],
      "metadata": {
        "colab": {
          "base_uri": "https://localhost:8080/"
        },
        "id": "Q28aHNit_7yV",
        "outputId": "9c70ae95-2627-482e-c6a1-101ff1863e5a"
      },
      "execution_count": 80,
      "outputs": [
        {
          "output_type": "stream",
          "name": "stdout",
          "text": [
            "60\n",
            "60\n",
            "60\n",
            "1\n"
          ]
        }
      ]
    },
    {
      "cell_type": "code",
      "source": [
        "A = int(input())\n",
        "B = int(input())\n",
        "if A>B:\n",
        "    print ('A')\n",
        "else:\n",
        "    print ('B')"
      ],
      "metadata": {
        "colab": {
          "base_uri": "https://localhost:8080/"
        },
        "id": "1mAu9tvcLmcG",
        "outputId": "9776be42-e6da-480a-9257-33ad27a1b808"
      },
      "execution_count": 83,
      "outputs": [
        {
          "output_type": "stream",
          "name": "stdout",
          "text": [
            "10\n",
            "15\n",
            "B\n"
          ]
        }
      ]
    },
    {
      "cell_type": "code",
      "source": [
        "A = int(input())\n",
        "B = int(input())\n",
        "if A>B:\n",
        "    print (A)\n",
        "else:\n",
        "    print (B)"
      ],
      "metadata": {
        "colab": {
          "base_uri": "https://localhost:8080/"
        },
        "id": "CcXfLxfNL1Gt",
        "outputId": "2d1baf3e-33ff-4382-b8c0-0b482f41fe80"
      },
      "execution_count": 95,
      "outputs": [
        {
          "output_type": "stream",
          "name": "stdout",
          "text": [
            "10\n",
            "5\n",
            "10\n"
          ]
        }
      ]
    }
  ]
}