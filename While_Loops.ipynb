{
  "nbformat": 4,
  "nbformat_minor": 0,
  "metadata": {
    "colab": {
      "provenance": [],
      "authorship_tag": "ABX9TyORTs1EiIP/tjLBRgtZH2Bm",
      "include_colab_link": true
    },
    "kernelspec": {
      "name": "python3",
      "display_name": "Python 3"
    },
    "language_info": {
      "name": "python"
    }
  },
  "cells": [
    {
      "cell_type": "markdown",
      "metadata": {
        "id": "view-in-github",
        "colab_type": "text"
      },
      "source": [
        "<a href=\"https://colab.research.google.com/github/A11rastogi/Python-Programming/blob/main/While_Loops.ipynb\" target=\"_parent\"><img src=\"https://colab.research.google.com/assets/colab-badge.svg\" alt=\"Open In Colab\"/></a>"
      ]
    },
    {
      "cell_type": "code",
      "execution_count": null,
      "metadata": {
        "id": "WmyeFSi_vAWn"
      },
      "outputs": [],
      "source": [
        "'''\n",
        "Question 1 - \n",
        "Take an integer input from the user and print alternate numbers from from 1 to input.\n",
        "Input will be a positive number > 1.\n",
        "\n",
        "INPUT - 7\n",
        "OUTPUT - 1 3 5 7\n",
        "'''"
      ]
    },
    {
      "cell_type": "code",
      "source": [
        "# Here, if user enter \"7\", then output will be \"1,3,5,7\"\n",
        "num = int(input())\n",
        "start = 1\n",
        "while start<= num:\n",
        "  print (start)\n",
        "  start = start + 2"
      ],
      "metadata": {
        "colab": {
          "base_uri": "https://localhost:8080/"
        },
        "id": "qFjLJil82sXQ",
        "outputId": "a926004a-6d1c-47e2-cad4-94a3780f17e8"
      },
      "execution_count": 10,
      "outputs": [
        {
          "output_type": "stream",
          "name": "stdout",
          "text": [
            "7\n",
            "1\n",
            "3\n",
            "5\n",
            "7\n"
          ]
        }
      ]
    },
    {
      "cell_type": "code",
      "source": [
        "'''\n",
        "Question 1.1 - \n",
        "Take an input from the user and print alternate numbers from from 1 to input.\n",
        "If number is > 1 -> Print as required.\n",
        "Else print \"Number is smaller than 1!\"\n",
        "\n",
        "INPUT - 7\n",
        "OUTPUT - 1 3 5 7\n",
        "\n",
        "INPUT - -5\n",
        "OUTPUT - Number is smaller than 1!\n",
        "'''"
      ],
      "metadata": {
        "id": "xYymms6B3-3V"
      },
      "execution_count": null,
      "outputs": []
    },
    {
      "cell_type": "code",
      "source": [
        "num = int(input())\n",
        "if num >= 1:\n",
        "  start = 1\n",
        "  while start <= num:\n",
        "    print (start)\n",
        "    start = start + 2\n",
        "else:\n",
        "    print (\"Number is smaller than 1!\")"
      ],
      "metadata": {
        "colab": {
          "base_uri": "https://localhost:8080/"
        },
        "id": "P_MRy-8Q3_wJ",
        "outputId": "f891f1c8-b9d3-4906-e96d-8b4d83731156"
      },
      "execution_count": 18,
      "outputs": [
        {
          "output_type": "stream",
          "name": "stdout",
          "text": [
            "-1\n",
            "Number is smaller than 1!\n"
          ]
        }
      ]
    },
    {
      "cell_type": "code",
      "source": [
        "'''\n",
        "Question 2 - \n",
        "Take two integer inputs from user for start and end integer values.\n",
        "Print every third number starting at start till end. (BOTH START AND END TO BE INCLUDED.)\n",
        "\n",
        "Input : \n",
        "2\n",
        "30\n",
        "\n",
        "2 5 8 11 14 17 20 23 26 29 \n",
        "'''"
      ],
      "metadata": {
        "id": "LX2VAadhB6VO"
      },
      "execution_count": null,
      "outputs": []
    },
    {
      "cell_type": "code",
      "source": [
        "start = int(input())\n",
        "end = int(input())\n",
        "while start <= end:\n",
        "  print (start, end = \" \")  # end function transform the output into one line\n",
        "  start = start + 3"
      ],
      "metadata": {
        "colab": {
          "base_uri": "https://localhost:8080/"
        },
        "id": "HdUSiTwLB8Oo",
        "outputId": "1ec31834-cf5e-40dc-b325-bb5f623fb561"
      },
      "execution_count": 20,
      "outputs": [
        {
          "output_type": "stream",
          "name": "stdout",
          "text": [
            "2\n",
            "30\n",
            "2 5 8 11 14 17 20 23 26 29 "
          ]
        }
      ]
    },
    {
      "cell_type": "code",
      "source": [
        "'''\n",
        "Question 3 - \n",
        "Take an input from user for start and end values.\n",
        "Print all even numbers between them. (start and end included)\n",
        "\n",
        "INPUT - \n",
        "3\n",
        "7\n",
        "\n",
        "OUTPUT - 4 6\n",
        "'''"
      ],
      "metadata": {
        "id": "P4ZzdAbtD3Ld"
      },
      "execution_count": null,
      "outputs": []
    },
    {
      "cell_type": "code",
      "source": [
        "start = int(input())\n",
        "end = int(input())\n",
        "while start<=end:\n",
        "    if start %2==0: # here we have mentioned if condition post while as we need to print only even number \n",
        "        print(start)\n",
        "    start = start+1"
      ],
      "metadata": {
        "colab": {
          "base_uri": "https://localhost:8080/"
        },
        "id": "5eAYS_rlG3Ks",
        "outputId": "023bd3fb-0593-45be-c119-99f9583bc4f3"
      },
      "execution_count": 26,
      "outputs": [
        {
          "output_type": "stream",
          "name": "stdout",
          "text": [
            "3\n",
            "7\n",
            "4\n",
            "6\n"
          ]
        }
      ]
    },
    {
      "cell_type": "code",
      "source": [
        "'''\n",
        "Question 4 - \n",
        "You are a bowler and you have to bowl 1 over. (6 balls)\n",
        "\"Bowling ball number - ball_number\"\n",
        "'''\n",
        "'''\n",
        "Bowling ball number - 1\n",
        "Bowling ball number - 2\n",
        "Bowling ball number - 3\n",
        "Bowling ball number - 4\n",
        "Bowling ball number - 5\n",
        "Bowling ball number - 6\n",
        "'''"
      ],
      "metadata": {
        "id": "2gYsRv8JLCw4"
      },
      "execution_count": null,
      "outputs": []
    },
    {
      "cell_type": "code",
      "source": [
        "ball_number = 1\n",
        "while ball_number <= 6:\n",
        "  print (\"Bowling ball number\", ball_number)\n",
        "  ball_number = ball_number + 1"
      ],
      "metadata": {
        "colab": {
          "base_uri": "https://localhost:8080/"
        },
        "id": "1VsxsFt7LlAF",
        "outputId": "df285ec2-4056-4577-97af-c8c83cd55ffa"
      },
      "execution_count": 27,
      "outputs": [
        {
          "output_type": "stream",
          "name": "stdout",
          "text": [
            "Bowling ball number 1\n",
            "Bowling ball number 2\n",
            "Bowling ball number 3\n",
            "Bowling ball number 4\n",
            "Bowling ball number 5\n",
            "Bowling ball number 6\n"
          ]
        }
      ]
    },
    {
      "cell_type": "code",
      "source": [
        "\n",
        "'''\n",
        "Question 5 -\n",
        "Take a number input from user.\n",
        "Print its multiplication table till 10th multiple.\n",
        "\n",
        "INPUT - 7\n",
        "OUTPUT - 7 14 21 28 35 42 49 56 63 70\n",
        "'''"
      ],
      "metadata": {
        "id": "i8Gs7AZvMbW0"
      },
      "execution_count": null,
      "outputs": []
    },
    {
      "cell_type": "code",
      "source": [
        "num = int(input())\n",
        "start = 1\n",
        "while start<=10:\n",
        "  print (num*start, end = ' ')\n",
        "  start = start+1"
      ],
      "metadata": {
        "colab": {
          "base_uri": "https://localhost:8080/"
        },
        "id": "Cpb2z48gMdlC",
        "outputId": "37a31b74-d41c-4d7b-8417-7ef1cb13900b"
      },
      "execution_count": 37,
      "outputs": [
        {
          "output_type": "stream",
          "name": "stdout",
          "text": [
            "7\n",
            "7 14 21 28 35 42 49 56 63 70 "
          ]
        }
      ]
    },
    {
      "cell_type": "code",
      "source": [
        "'''\n",
        "Question 6 - \n",
        "Password is 567\n",
        "\n",
        "Write a loop in python which runs from 0 to 999 and prints the password after finding it.\n",
        "Print - \"Trying \" for every number\n",
        "Print - \"Password found - number\" when password is found\n",
        "'''\n",
        "     "
      ],
      "metadata": {
        "id": "nSYBLdISQ47Z"
      },
      "execution_count": null,
      "outputs": []
    },
    {
      "cell_type": "code",
      "source": [
        "Password = 12\n",
        "Number = 0\n",
        "while Number <= 999:\n",
        "  if Password!= Number:\n",
        "    print(\"Trying Password \", Number)\n",
        "    Number = Number + 1\n",
        "  else:\n",
        "    print(\" Password found\", Number )\n",
        "    break"
      ],
      "metadata": {
        "colab": {
          "base_uri": "https://localhost:8080/"
        },
        "id": "rfNfG3AjV_h8",
        "outputId": "b8c57e52-c8a6-4cdf-8b4a-c5938a9192ab"
      },
      "execution_count": 51,
      "outputs": [
        {
          "output_type": "stream",
          "name": "stdout",
          "text": [
            "Trying Password  0\n",
            "Trying Password  1\n",
            "Trying Password  2\n",
            "Trying Password  3\n",
            "Trying Password  4\n",
            "Trying Password  5\n",
            "Trying Password  6\n",
            "Trying Password  7\n",
            "Trying Password  8\n",
            "Trying Password  9\n",
            "Trying Password  10\n",
            "Trying Password  11\n",
            " Password found 12\n"
          ]
        }
      ]
    },
    {
      "cell_type": "code",
      "source": [
        "'''\n",
        "Question 7 - \n",
        "1. Take an integer input from user. This is the number of test cases. (count)\n",
        "2. Take int for each count from the user.\n",
        "3. Print multiplication table of that integer.\n",
        "\n",
        "\n",
        "INPUT - 3\n",
        "\n",
        "OUTPUT - \n",
        "Please input number 1 - 2\n",
        "Multiplication table - 2 4 6 8 10 12 14 16 18 20\n",
        "\n",
        "Plese input number 2 - 1\n",
        "Multiplication table - 1 2 3 4 5 6 7 8 9 10\n",
        "\n",
        "Please input number 3 - 5\n",
        "Multiplication table - 5 10 15 20 25 30 35 40 45 50\n",
        "'''\n",
        "'''"
      ],
      "metadata": {
        "id": "AyYREqwzXtAQ"
      },
      "execution_count": null,
      "outputs": []
    },
    {
      "cell_type": "code",
      "source": [
        "test_case_total = int(input(\"How many test cases you want to run: \"))\n",
        "test_case_count = 1\n",
        "while test_case_count<=test_case_total:\n",
        "    num = int(input(\"Please input number\"))\n",
        "    start = 1\n",
        "    while start<=10:\n",
        "        print(num*start, end = \" \")\n",
        "        start = start+1\n",
        "    print()\n",
        "    print()\n",
        "    test_case_count+=1"
      ],
      "metadata": {
        "colab": {
          "base_uri": "https://localhost:8080/"
        },
        "id": "COmO7Qk7XvW0",
        "outputId": "df015825-7750-49c3-ef51-65b725915621"
      },
      "execution_count": 54,
      "outputs": [
        {
          "output_type": "stream",
          "name": "stdout",
          "text": [
            "How many test cases you want to run: 3\n",
            "Please input number2\n",
            "2 4 6 8 10 12 14 16 18 20 \n",
            "\n",
            "Please input number3\n",
            "3 6 9 12 15 18 21 24 27 30 \n",
            "\n",
            "Please input number4\n",
            "4 8 12 16 20 24 28 32 36 40 \n",
            "\n"
          ]
        }
      ]
    }
  ]
}