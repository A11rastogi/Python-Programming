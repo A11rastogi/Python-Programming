{
  "nbformat": 4,
  "nbformat_minor": 0,
  "metadata": {
    "colab": {
      "provenance": [],
      "authorship_tag": "ABX9TyNRv8UoC3IMhkg6SkJd2/Nd",
      "include_colab_link": true
    },
    "kernelspec": {
      "name": "python3",
      "display_name": "Python 3"
    },
    "language_info": {
      "name": "python"
    }
  },
  "cells": [
    {
      "cell_type": "markdown",
      "metadata": {
        "id": "view-in-github",
        "colab_type": "text"
      },
      "source": [
        "<a href=\"https://colab.research.google.com/github/A11rastogi/Python-Programming/blob/main/For_Loop.ipynb\" target=\"_parent\"><img src=\"https://colab.research.google.com/assets/colab-badge.svg\" alt=\"Open In Colab\"/></a>"
      ]
    },
    {
      "cell_type": "code",
      "source": [
        "'''\n",
        "Question 1 - \n",
        "Print all integers from 1 to N using for loop. (N to be included)\n",
        "Take N as input from the user.\n",
        "'''\n",
        "'''\n",
        "Input is 4\n",
        "Output will be 1 2 3 4 \n",
        "'''"
      ],
      "metadata": {
        "id": "v5LR93v_gFVd"
      },
      "execution_count": null,
      "outputs": []
    },
    {
      "cell_type": "code",
      "source": [
        "N = int(input())\n",
        "for i in range (1,N+1):\n",
        "  print (i, end =\" \")"
      ],
      "metadata": {
        "colab": {
          "base_uri": "https://localhost:8080/"
        },
        "id": "sD-p0rq_gHxL",
        "outputId": "0f2f2812-b468-4ef5-d595-5a3d24d2f682"
      },
      "execution_count": null,
      "outputs": [
        {
          "output_type": "stream",
          "name": "stdout",
          "text": [
            "4\n",
            "1 2 3 4 "
          ]
        }
      ]
    },
    {
      "cell_type": "code",
      "source": [
        "'''\n",
        "Question 2 - \n",
        "Take N as input from the user.\n",
        "Calculate the sum of all numbers from 1 to N (N is included).\n",
        "ONLY USE for LOOP AND range\n",
        "'''"
      ],
      "metadata": {
        "id": "CCp0MaxsnG0q"
      },
      "execution_count": null,
      "outputs": []
    },
    {
      "cell_type": "code",
      "source": [
        "N = int(input())\n",
        "total = 0\n",
        "for i in range (1,N+1):\n",
        "  total = i + total\n",
        "print (total)"
      ],
      "metadata": {
        "colab": {
          "base_uri": "https://localhost:8080/"
        },
        "id": "JARbe9klnH0A",
        "outputId": "6b3303f5-bf34-429e-8dea-8c9be99fd392"
      },
      "execution_count": null,
      "outputs": [
        {
          "output_type": "stream",
          "name": "stdout",
          "text": [
            "5\n",
            "15\n"
          ]
        }
      ]
    },
    {
      "cell_type": "code",
      "source": [
        "'''\n",
        "Question 3 - \n",
        "FACTORIAL ->\n",
        "Take N an input from the user.\n",
        "Calculate the product of all numbers from 1 to N (N is included).\n",
        "'''\n",
        "'''\n",
        "1 > 1\n",
        "2 > 2\n",
        "3 > 6\n",
        "4 > 24\n",
        "'''"
      ],
      "metadata": {
        "id": "mhOf7uK0pa00"
      },
      "execution_count": null,
      "outputs": []
    },
    {
      "cell_type": "code",
      "source": [
        "N = int(input())\n",
        "factorial =1\n",
        "for i in range (1,N+1):\n",
        "  factorial = i * factorial\n",
        "print (i, factorial)"
      ],
      "metadata": {
        "colab": {
          "base_uri": "https://localhost:8080/"
        },
        "id": "Z-z7QHmfpd_m",
        "outputId": "4b4e680e-e6fd-48fd-a64d-2872ff97506d"
      },
      "execution_count": null,
      "outputs": [
        {
          "output_type": "stream",
          "name": "stdout",
          "text": [
            "5\n",
            "5 120\n"
          ]
        }
      ]
    },
    {
      "cell_type": "code",
      "source": [
        "'''\n",
        "Question 4 - \n",
        "Take N as input from the user.\n",
        "Calculate the square of all even numbers between 1 and N. Both included.\n",
        "'''"
      ],
      "metadata": {
        "id": "u2puMrQVuOoV"
      },
      "execution_count": null,
      "outputs": []
    },
    {
      "cell_type": "code",
      "source": [
        "N = int(input())\n",
        "square = 0\n",
        "for i in range (1,N+1):\n",
        "  square = i*i + 0\n",
        "  if i%2 ==0:\n",
        "    print (i,square)"
      ],
      "metadata": {
        "colab": {
          "base_uri": "https://localhost:8080/"
        },
        "id": "7nQLDAMpuZu7",
        "outputId": "25445b12-2573-4ccd-d8c4-a805cb5737d7"
      },
      "execution_count": null,
      "outputs": [
        {
          "output_type": "stream",
          "name": "stdout",
          "text": [
            "5\n",
            "2 4\n",
            "4 16\n"
          ]
        }
      ]
    },
    {
      "cell_type": "code",
      "source": [
        "'''\n",
        "Question 4 - \n",
        "Take N as input from the user.\n",
        "Calculate the product of all even numbers between 1 and N. Both included.\n",
        "'''"
      ],
      "metadata": {
        "id": "eTSyQ4GOxTOp"
      },
      "execution_count": null,
      "outputs": []
    },
    {
      "cell_type": "code",
      "source": [
        "N = int(input())\n",
        "Product = 1\n",
        "for i in range (1,N+1):\n",
        "    if i%2 ==0:\n",
        "      Product = i * Product\n",
        "print (Product)"
      ],
      "metadata": {
        "colab": {
          "base_uri": "https://localhost:8080/"
        },
        "id": "qvJnRXsDxXf5",
        "outputId": "47fbe12b-d0ae-462b-ef98-dd59124154f0"
      },
      "execution_count": null,
      "outputs": [
        {
          "output_type": "stream",
          "name": "stdout",
          "text": [
            "6\n",
            "48\n"
          ]
        }
      ]
    },
    {
      "cell_type": "code",
      "source": [
        "# Second method where in we have directly mentioned (2,N+2) in the range\n",
        "N = int(input())\n",
        "Product = 1\n",
        "for i in range (2,N+2):\n",
        "    if i%2 ==0:\n",
        "      Product = i * Product\n",
        "print (Product)"
      ],
      "metadata": {
        "colab": {
          "base_uri": "https://localhost:8080/"
        },
        "id": "YqOdWuN3znms",
        "outputId": "105411b1-89dd-4beb-aa54-7a63044f078a"
      },
      "execution_count": null,
      "outputs": [
        {
          "output_type": "stream",
          "name": "stdout",
          "text": [
            "6\n",
            "48\n"
          ]
        }
      ]
    },
    {
      "cell_type": "code",
      "source": [
        "'''\n",
        "Question 5 - \n",
        "Take start and end as input from the user.\n",
        "Calculate the product of all even numbers between start and end.\n",
        "Both included.\n",
        "\n",
        "GIVEN - Both start and end will be greater than 0.\n",
        "'''"
      ],
      "metadata": {
        "id": "_QGVkadO0rwQ"
      },
      "execution_count": null,
      "outputs": []
    },
    {
      "cell_type": "code",
      "source": [
        "# Here for start we have mentioned number: 5 and end =10\n",
        "# As we need to calculate product of even number btw 5 to 10 and numbers are 6,8,10. So, output is 480\n",
        "Start = int(input())\n",
        "End = int(input())\n",
        "Product = 1\n",
        "for i in range (Start,End+1):\n",
        "  if (i%2 == 0):\n",
        "    Product = i * Product\n",
        "print (Product)\n"
      ],
      "metadata": {
        "colab": {
          "base_uri": "https://localhost:8080/"
        },
        "id": "_KdmtBlz0srw",
        "outputId": "465519c3-3f6c-4af5-f4a7-58c391217c1b"
      },
      "execution_count": null,
      "outputs": [
        {
          "output_type": "stream",
          "name": "stdout",
          "text": [
            "5\n",
            "10\n",
            "480\n"
          ]
        }
      ]
    },
    {
      "cell_type": "code",
      "source": [
        "# Efficient Solution for above question\n",
        "Start = int(input())\n",
        "End = int(input())\n",
        "if Start%2 == 0:\n",
        "    new_start = Start\n",
        "else:\n",
        "    new_start = Start+1\n",
        "Product = 1\n",
        "for i in range(new_start,End+1,2):\n",
        "    Product = Product*i\n",
        "print(Product)"
      ],
      "metadata": {
        "colab": {
          "base_uri": "https://localhost:8080/"
        },
        "id": "A6qB7ZUHA_5P",
        "outputId": "627e8637-f724-4b18-86c7-e753b8752208"
      },
      "execution_count": null,
      "outputs": [
        {
          "output_type": "stream",
          "name": "stdout",
          "text": [
            "5\n",
            "10\n",
            "480\n"
          ]
        }
      ]
    },
    {
      "cell_type": "code",
      "source": [
        "'''\n",
        "Question 6 -\n",
        "Print all the numbers from an input N to 1 in reverse order.\n",
        "N > 1 -> Given\n",
        "'''"
      ],
      "metadata": {
        "id": "TsvRSYJIDsq6"
      },
      "execution_count": null,
      "outputs": []
    },
    {
      "cell_type": "code",
      "source": [
        "N = int(input())\n",
        "for i in range (N,0,-1):\n",
        "  print (i, end =\" \")"
      ],
      "metadata": {
        "colab": {
          "base_uri": "https://localhost:8080/"
        },
        "id": "ILC7txXaDtw_",
        "outputId": "badcd093-f4c5-4d7b-e5a0-fe354ac4c05b"
      },
      "execution_count": null,
      "outputs": [
        {
          "output_type": "stream",
          "name": "stdout",
          "text": [
            "5\n",
            "5 4 3 2 1 "
          ]
        }
      ]
    },
    {
      "cell_type": "code",
      "source": [
        "'''\n",
        "Question 7 -\n",
        "Print all the numbers from an input N to 1 in reverse order.\n",
        ">>   Without using a negative step/jump!\n",
        "N > 1 -> Given\n",
        "'''"
      ],
      "metadata": {
        "id": "AcCXygVsGQWs"
      },
      "execution_count": null,
      "outputs": []
    },
    {
      "cell_type": "code",
      "source": [
        "N = int(input())\n",
        "for i in range (-N,0):\n",
        "  print (-i, end =\" \")"
      ],
      "metadata": {
        "colab": {
          "base_uri": "https://localhost:8080/"
        },
        "id": "NJmzCwJ9GSrm",
        "outputId": "34f5a01d-4ef2-4858-83d2-39a0e5f96cbc"
      },
      "execution_count": null,
      "outputs": [
        {
          "output_type": "stream",
          "name": "stdout",
          "text": [
            "5\n",
            "5 4 3 2 1 "
          ]
        }
      ]
    },
    {
      "cell_type": "code",
      "source": [
        "# we can iterate string values\n",
        "name = 'Abhinav Rastogi'\n",
        "for i in name:\n",
        "    print(i)\n",
        "     "
      ],
      "metadata": {
        "colab": {
          "base_uri": "https://localhost:8080/"
        },
        "id": "mgUU5SdVIK5z",
        "outputId": "3bf2b72e-a6d1-425b-96fa-073d8f0c02f6"
      },
      "execution_count": null,
      "outputs": [
        {
          "output_type": "stream",
          "name": "stdout",
          "text": [
            "A\n",
            "b\n",
            "h\n",
            "i\n",
            "n\n",
            "a\n",
            "v\n",
            " \n",
            "R\n",
            "a\n",
            "s\n",
            "t\n",
            "o\n",
            "g\n",
            "i\n"
          ]
        }
      ]
    },
    {
      "cell_type": "code",
      "source": [
        "# provides length of the name including space\n",
        "print(len('Abhinav Rastogi'))"
      ],
      "metadata": {
        "colab": {
          "base_uri": "https://localhost:8080/"
        },
        "id": "r_6mHIlEIUhy",
        "outputId": "bb109b7f-0dc9-4f90-9b71-9c432971c017"
      },
      "execution_count": null,
      "outputs": [
        {
          "output_type": "stream",
          "name": "stdout",
          "text": [
            "15\n"
          ]
        }
      ]
    },
    {
      "cell_type": "code",
      "source": [
        "N = int(input())\n",
        "for i in range(1, N+1):\n",
        "    print (i)"
      ],
      "metadata": {
        "colab": {
          "base_uri": "https://localhost:8080/"
        },
        "id": "mF6KJg-oOOFD",
        "outputId": "018699d2-421e-41f1-f39f-c61456d88b2a"
      },
      "execution_count": null,
      "outputs": [
        {
          "output_type": "stream",
          "name": "stdout",
          "text": [
            "5\n",
            "1\n",
            "2\n",
            "3\n",
            "4\n",
            "5\n"
          ]
        }
      ]
    },
    {
      "cell_type": "code",
      "source": [
        "for i in range(-6, -10, -1):\n",
        "     print(i, end =\" \")"
      ],
      "metadata": {
        "colab": {
          "base_uri": "https://localhost:8080/"
        },
        "id": "OrwUtPswO742",
        "outputId": "2dfed97e-6336-4ded-884f-48881bd4fe7f"
      },
      "execution_count": null,
      "outputs": [
        {
          "output_type": "stream",
          "name": "stdout",
          "text": [
            "-6 -7 -8 -9 "
          ]
        }
      ]
    },
    {
      "cell_type": "code",
      "source": [
        "A = int(input())\n",
        "total=0\n",
        "for i in range(1, A+1):\n",
        "    if i%2!=0:\n",
        "        total = total + i\n",
        "print (total)"
      ],
      "metadata": {
        "colab": {
          "base_uri": "https://localhost:8080/"
        },
        "id": "SR3i6PLxQFsm",
        "outputId": "38d852c5-3122-4a95-be6e-54be9ca8315a"
      },
      "execution_count": null,
      "outputs": [
        {
          "output_type": "stream",
          "name": "stdout",
          "text": [
            "2\n",
            "1\n"
          ]
        }
      ]
    },
    {
      "cell_type": "code",
      "source": [
        "N = int (input())\n",
        "for i in range (1,N):\n",
        "    print (i*\"*\", end =\" \")"
      ],
      "metadata": {
        "colab": {
          "base_uri": "https://localhost:8080/"
        },
        "id": "Esy6BchqU57S",
        "outputId": "6edc43e6-d724-4371-b4f8-ccea7aa65209"
      },
      "execution_count": null,
      "outputs": [
        {
          "output_type": "stream",
          "name": "stdout",
          "text": [
            "5\n",
            "* ** *** **** "
          ]
        }
      ]
    },
    {
      "cell_type": "code",
      "source": [
        "N = int (input())\n",
        "print (N*\"*\", end =\" \")"
      ],
      "metadata": {
        "colab": {
          "base_uri": "https://localhost:8080/"
        },
        "id": "cnnz73m4VRQ9",
        "outputId": "a3f2798d-bbc2-4af4-f03b-3d5085ac0504"
      },
      "execution_count": null,
      "outputs": [
        {
          "output_type": "stream",
          "name": "stdout",
          "text": [
            "5\n",
            "***** "
          ]
        }
      ]
    },
    {
      "cell_type": "code",
      "source": [
        "N= int(input())\n",
        "total = 0\n",
        "for i in range (1,N+1):\n",
        "    total = total + i\n",
        "print (total)"
      ],
      "metadata": {
        "colab": {
          "base_uri": "https://localhost:8080/"
        },
        "id": "iaH_axOAc5Kv",
        "outputId": "fbebee12-da1e-46d7-af2f-1ed60d543616"
      },
      "execution_count": null,
      "outputs": [
        {
          "output_type": "stream",
          "name": "stdout",
          "text": [
            "10\n",
            "55\n"
          ]
        }
      ]
    },
    {
      "cell_type": "code",
      "source": [
        "x = 2\n",
        "for i in range(0, 4):\n",
        "    if x%2:\n",
        "       x = x*2\n",
        "    else:\n",
        "       x = x+1"
      ],
      "metadata": {
        "id": "0dT4MdJdhOC0"
      },
      "execution_count": null,
      "outputs": []
    },
    {
      "cell_type": "code",
      "source": [
        "x = 1\n",
        "for i in range(x):\n",
        "    x=x+1\n",
        "    print(i, end= \" \")"
      ],
      "metadata": {
        "colab": {
          "base_uri": "https://localhost:8080/"
        },
        "id": "OtZnTMZtjJ09",
        "outputId": "b3bbdf7b-1dac-4c02-d1d0-437a31cc810c"
      },
      "execution_count": null,
      "outputs": [
        {
          "output_type": "stream",
          "name": "stdout",
          "text": [
            "0 "
          ]
        }
      ]
    },
    {
      "cell_type": "code",
      "source": [
        "print(range(2))"
      ],
      "metadata": {
        "colab": {
          "base_uri": "https://localhost:8080/"
        },
        "id": "epGqtXr8jj3l",
        "outputId": "a154ced1-ed00-4f69-c722-407ff484f303"
      },
      "execution_count": null,
      "outputs": [
        {
          "output_type": "stream",
          "name": "stdout",
          "text": [
            "range(0, 2)\n"
          ]
        }
      ]
    }
  ]
}