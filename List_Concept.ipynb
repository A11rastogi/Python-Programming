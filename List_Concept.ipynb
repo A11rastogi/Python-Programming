{
  "nbformat": 4,
  "nbformat_minor": 0,
  "metadata": {
    "colab": {
      "provenance": [],
      "authorship_tag": "ABX9TyOwDLIqbvD96NRBY6kiVBfM",
      "include_colab_link": true
    },
    "kernelspec": {
      "name": "python3",
      "display_name": "Python 3"
    },
    "language_info": {
      "name": "python"
    }
  },
  "cells": [
    {
      "cell_type": "markdown",
      "metadata": {
        "id": "view-in-github",
        "colab_type": "text"
      },
      "source": [
        "<a href=\"https://colab.research.google.com/github/A11rastogi/Python-Programming/blob/main/List_Concept.ipynb\" target=\"_parent\"><img src=\"https://colab.research.google.com/assets/colab-badge.svg\" alt=\"Open In Colab\"/></a>"
      ]
    },
    {
      "cell_type": "code",
      "execution_count": null,
      "metadata": {
        "colab": {
          "base_uri": "https://localhost:8080/"
        },
        "id": "vYv2805BcvPP",
        "outputId": "e9fa2d3f-2d8d-4a07-ec7c-5ea50e51abce"
      },
      "outputs": [
        {
          "output_type": "stream",
          "name": "stdout",
          "text": [
            "Aman\n",
            "Abhinav\n",
            "1\n",
            "57\n",
            "67\n",
            "95.5\n"
          ]
        }
      ],
      "source": [
        "# https://www.youtube.com/watch?v=eec1vfKe35U\n",
        "# First Method\n",
        "a = ['Aman','Abhinav',1,57,67,95.5]\n",
        "for i in a: # here i denoting value of elements present in the list \"a\"\n",
        "  print (i)"
      ]
    },
    {
      "cell_type": "code",
      "source": [
        "# Second Method\n",
        "a = ['Aman','Abhinav',1,57,67,95.5]\n",
        "for i in range (len(a)): # here len(a) is 6\n",
        "  print (a[i]) # this is fetching the value of i in list a"
      ],
      "metadata": {
        "colab": {
          "base_uri": "https://localhost:8080/"
        },
        "id": "e74o1fkri2ys",
        "outputId": "2815905d-af22-445b-f4e1-d6be58f8fe1b"
      },
      "execution_count": null,
      "outputs": [
        {
          "output_type": "stream",
          "name": "stdout",
          "text": [
            "Aman\n",
            "Abhinav\n",
            "1\n",
            "57\n",
            "67\n",
            "95.5\n"
          ]
        }
      ]
    },
    {
      "cell_type": "code",
      "source": [
        "# Len Function\n",
        "a = ['Aman','Abhinav',1,57,67,95.5]\n",
        "print (len(a)) # showing number of elements in range a"
      ],
      "metadata": {
        "colab": {
          "base_uri": "https://localhost:8080/"
        },
        "id": "2eyDbj6Sn5qu",
        "outputId": "263afb25-a018-4856-cc76-fa4d68130620"
      },
      "execution_count": null,
      "outputs": [
        {
          "output_type": "stream",
          "name": "stdout",
          "text": [
            "6\n"
          ]
        }
      ]
    },
    {
      "cell_type": "code",
      "source": [
        "# Max Function\n",
        "a = [15,25,30,40,45,60]\n",
        "print (max(a))\n"
      ],
      "metadata": {
        "colab": {
          "base_uri": "https://localhost:8080/"
        },
        "id": "tNL9Sk1orKB5",
        "outputId": "81f667e6-2fc9-49d7-c8db-61c111e6f95a"
      },
      "execution_count": null,
      "outputs": [
        {
          "output_type": "stream",
          "name": "stdout",
          "text": [
            "60\n"
          ]
        }
      ]
    },
    {
      "cell_type": "code",
      "source": [
        "# Max Function\n",
        "a = [15,25,30,40,45,60]\n",
        "b = max(a)\n",
        "print (b)"
      ],
      "metadata": {
        "colab": {
          "base_uri": "https://localhost:8080/"
        },
        "id": "FBp2LC1Try8e",
        "outputId": "ef993537-5cc0-4c52-ad7a-d27ec8397451"
      },
      "execution_count": null,
      "outputs": [
        {
          "output_type": "stream",
          "name": "stdout",
          "text": [
            "60\n"
          ]
        }
      ]
    },
    {
      "cell_type": "code",
      "source": [
        "# Min Function\n",
        "a = [15,25,30,40,45,60]\n",
        "print (min(a))"
      ],
      "metadata": {
        "colab": {
          "base_uri": "https://localhost:8080/"
        },
        "id": "B4eMR00Er6dF",
        "outputId": "659b0a4d-3b25-455a-b3ee-310afbdf9bdf"
      },
      "execution_count": null,
      "outputs": [
        {
          "output_type": "stream",
          "name": "stdout",
          "text": [
            "15\n"
          ]
        }
      ]
    },
    {
      "cell_type": "code",
      "source": [
        "a = [15,25,30,40,45,60]\n",
        "b = min(a)\n",
        "print (b)"
      ],
      "metadata": {
        "colab": {
          "base_uri": "https://localhost:8080/"
        },
        "id": "g2OzB3pksD6n",
        "outputId": "e1b378d6-12f1-4a61-9e09-e83cb6f77562"
      },
      "execution_count": null,
      "outputs": [
        {
          "output_type": "stream",
          "name": "stdout",
          "text": [
            "15\n"
          ]
        }
      ]
    },
    {
      "cell_type": "code",
      "source": [
        "# Append: First Method\n",
        "a=[] # this is the empty string\n",
        "for i in range (5):\n",
        "  x = int(input()) # here x is taking input\n",
        "  a.append(x) # value of x getting added in empty string \"a\"\n",
        "print (a)"
      ],
      "metadata": {
        "colab": {
          "base_uri": "https://localhost:8080/"
        },
        "id": "4L29i17axc9t",
        "outputId": "fc207959-7c13-4310-cb33-18d1a7392d34"
      },
      "execution_count": null,
      "outputs": [
        {
          "output_type": "stream",
          "name": "stdout",
          "text": [
            "1\n",
            "2\n",
            "3\n",
            "4\n",
            "5\n",
            "[1, 2, 3, 4, 5]\n"
          ]
        }
      ]
    },
    {
      "cell_type": "code",
      "source": [
        "# Append: Second Method\n",
        "a=[] # this is the empty string\n",
        "for i in range (5):\n",
        "  x = int(input()) # here x is taking input\n",
        "  a.append(x)\n",
        "for i in range (5):\n",
        "  print (a[i])"
      ],
      "metadata": {
        "colab": {
          "base_uri": "https://localhost:8080/"
        },
        "id": "Ztv_Y3fx5dvZ",
        "outputId": "1d537638-1dcb-4dc7-d13a-8e895d99d568"
      },
      "execution_count": null,
      "outputs": [
        {
          "output_type": "stream",
          "name": "stdout",
          "text": [
            "1\n",
            "2\n",
            "3\n",
            "4\n",
            "5\n",
            "1\n",
            "2\n",
            "3\n",
            "4\n",
            "5\n"
          ]
        }
      ]
    },
    {
      "cell_type": "code",
      "source": [
        "# Append: Third Method\n",
        "a=[] # this is the empty string\n",
        "for i in range (5):\n",
        "  x = int(input()) # here x is taking input\n",
        "  a.append(x)\n",
        "for i in a:\n",
        "  print (i)"
      ],
      "metadata": {
        "colab": {
          "base_uri": "https://localhost:8080/"
        },
        "id": "TQvRi8mN6x5I",
        "outputId": "eaac0518-70bc-496a-8ea2-1eb27fa58043"
      },
      "execution_count": null,
      "outputs": [
        {
          "output_type": "stream",
          "name": "stdout",
          "text": [
            "1\n",
            "2\n",
            "3\n",
            "4\n",
            "5\n",
            "1\n",
            "2\n",
            "3\n",
            "4\n",
            "5\n"
          ]
        }
      ]
    },
    {
      "cell_type": "code",
      "source": [
        "''' Count Function : Works on string values '''\n",
        "a = ['Abhinav','Aman','Manish','Manoj','Raju']\n",
        "x=a.count('Aman')\n",
        "print (x)"
      ],
      "metadata": {
        "colab": {
          "base_uri": "https://localhost:8080/"
        },
        "id": "aq5RxtRi9_tV",
        "outputId": "8d0b9de0-d294-423f-d8b9-b7503fbdd287"
      },
      "execution_count": null,
      "outputs": [
        {
          "output_type": "stream",
          "name": "stdout",
          "text": [
            "1\n"
          ]
        }
      ]
    },
    {
      "cell_type": "code",
      "source": [
        "''' Index Function: Provides index number of values present in the list '''\n",
        "# It gives the first index number of same value. Here in the below example: \" 15\" present two times but it gives first index value which is \"2\" \n",
        "a = ['10','12','15','20','15']\n",
        "x=a.index('15')\n",
        "print (x)"
      ],
      "metadata": {
        "colab": {
          "base_uri": "https://localhost:8080/"
        },
        "id": "61qFJZrdC7Kv",
        "outputId": "eab3184a-14e3-407b-f57c-fcbac392a68a"
      },
      "execution_count": null,
      "outputs": [
        {
          "output_type": "stream",
          "name": "stdout",
          "text": [
            "2\n"
          ]
        }
      ]
    },
    {
      "cell_type": "code",
      "source": [
        "''' Insert index and Object: Syntax: list.insert(index,object) '''\n",
        "a = [5,10,15,20]\n",
        "a.insert(2,50) # here 2 reflect the index value and 50 reflects the value which we are adding for \"2\" index \n",
        "# and value which is present at the \"2\" index it will automatically move it on \"3\" index\n",
        "print (a)"
      ],
      "metadata": {
        "colab": {
          "base_uri": "https://localhost:8080/"
        },
        "id": "6aD3V1OwYcz8",
        "outputId": "94542841-ff35-4b29-d1a5-62bf99edf791"
      },
      "execution_count": null,
      "outputs": [
        {
          "output_type": "stream",
          "name": "stdout",
          "text": [
            "[5, 10, 50, 15, 20]\n"
          ]
        }
      ]
    },
    {
      "cell_type": "code",
      "source": [
        "''' Remove Function: Delete object/ value from the list. Delete the first occurrence of the list\n",
        "Syntax: list.remove(object) '''\n",
        "a = [5,10,15,20]\n",
        "a.remove(10) # removed value: 10 from the list\n",
        "print(a)"
      ],
      "metadata": {
        "colab": {
          "base_uri": "https://localhost:8080/"
        },
        "id": "DfL1telObZXW",
        "outputId": "d8dabea5-e89d-4414-f798-ffb19a46cae3"
      },
      "execution_count": null,
      "outputs": [
        {
          "output_type": "stream",
          "name": "stdout",
          "text": [
            "[5, 15, 20]\n"
          ]
        }
      ]
    },
    {
      "cell_type": "code",
      "source": [
        "''' Reverse Function: It will reverse the elements present in the list. Syntax: list.reversal() '''\n",
        "a = [5,10,15,20]\n",
        "a.reverse()\n",
        "print(a)"
      ],
      "metadata": {
        "colab": {
          "base_uri": "https://localhost:8080/"
        },
        "id": "Acjgyemtb1zK",
        "outputId": "9fb09261-e8cb-42fe-ced0-4c78c8908a3d"
      },
      "execution_count": null,
      "outputs": [
        {
          "output_type": "stream",
          "name": "stdout",
          "text": [
            "[20, 15, 10, 5]\n"
          ]
        }
      ]
    },
    {
      "cell_type": "code",
      "source": [
        "''' Reverse Function: It will reverse the elements present in the list. Syntax: list.reversal() '''\n",
        "a=[]\n",
        "for i in range(5):\n",
        "  x= int(input())\n",
        "  a.append(x)\n",
        "a.reverse()\n",
        "print(a)"
      ],
      "metadata": {
        "colab": {
          "base_uri": "https://localhost:8080/"
        },
        "id": "yjqyyLJNjGog",
        "outputId": "97d334b2-47fe-43e3-e4b6-2b5e3867b36a"
      },
      "execution_count": null,
      "outputs": [
        {
          "output_type": "stream",
          "name": "stdout",
          "text": [
            "1\n",
            "2\n",
            "3\n",
            "4\n",
            "5\n",
            "[5, 4, 3, 2, 1]\n"
          ]
        }
      ]
    },
    {
      "cell_type": "code",
      "source": [
        "''' Sort Function: Sort the elements in ascending or descending order. By default sorting is done in ascending order '''\n",
        "a = [25,30,50,20,70,80]\n",
        "a.sort(reverse=False) # if we mention (reverse=False) then it will transform text into ascending order\n",
        "print(a)"
      ],
      "metadata": {
        "colab": {
          "base_uri": "https://localhost:8080/"
        },
        "id": "4OfRLHeRn1yT",
        "outputId": "5e7bdfe0-bf04-466a-85ef-2818e7c18ab2"
      },
      "execution_count": null,
      "outputs": [
        {
          "output_type": "stream",
          "name": "stdout",
          "text": [
            "[20, 25, 30, 50, 70, 80]\n"
          ]
        }
      ]
    },
    {
      "cell_type": "code",
      "source": [
        "''' Sort Function: Sort the elements in ascending or descending order. By default sorting is done in ascending order '''\n",
        "a = [25,30,50,20,70,80]\n",
        "a.sort(reverse=True) # if we mention (reverse=True) then it will transform text into descending order\n",
        "print(a)"
      ],
      "metadata": {
        "colab": {
          "base_uri": "https://localhost:8080/"
        },
        "id": "p794YPpwrBRF",
        "outputId": "a523b009-c0ca-4208-dfe7-cdd0ef9f3673"
      },
      "execution_count": null,
      "outputs": [
        {
          "output_type": "stream",
          "name": "stdout",
          "text": [
            "[80, 70, 50, 30, 25, 20]\n"
          ]
        }
      ]
    },
    {
      "cell_type": "code",
      "source": [
        "''' Pop Function: This function is used to delete last element from the list , Syntax: list.pop() '''\n",
        "a = [25,30,50,20,70,80]\n",
        "a.pop()\n",
        "print (a)"
      ],
      "metadata": {
        "colab": {
          "base_uri": "https://localhost:8080/"
        },
        "id": "Ey0IwmbcreRB",
        "outputId": "8c86bb21-d9bb-42dc-85dd-294e6bd512ac"
      },
      "execution_count": null,
      "outputs": [
        {
          "output_type": "stream",
          "name": "stdout",
          "text": [
            "[25, 30, 50, 20, 70]\n"
          ]
        }
      ]
    },
    {
      "cell_type": "code",
      "source": [
        "'''List Slicing'''\n",
        "a = ['Abhinav', 32, 'Deepti', 36, 'Mum', 60, 'Papa', 60]\n",
        "print (a[0:]) # print all values present in the string\n",
        "print (a[:]) # print all values present in the string\n",
        "print (a[0:3]) # print all values except value which is present on index \"3\"\n",
        "print (a[:3]) # print all values except value which is present on index \"3\"\n",
        "print (a[:7]) # print all values except value which is present on index \"7\""
      ],
      "metadata": {
        "id": "RQh_I7j4VwFQ",
        "outputId": "be118447-4054-440c-ad08-22156967e614",
        "colab": {
          "base_uri": "https://localhost:8080/"
        }
      },
      "execution_count": null,
      "outputs": [
        {
          "output_type": "stream",
          "name": "stdout",
          "text": [
            "['Abhinav', 32, 'Deepti', 36, 'Mum', 60, 'Papa', 60]\n",
            "['Abhinav', 32, 'Deepti', 36, 'Mum', 60, 'Papa', 60]\n",
            "['Abhinav', 32, 'Deepti']\n",
            "['Abhinav', 32, 'Deepti']\n",
            "['Abhinav', 32, 'Deepti', 36, 'Mum', 60, 'Papa']\n"
          ]
        }
      ]
    },
    {
      "cell_type": "code",
      "source": [
        "''' Assignment Question '''\n",
        "players = ['Jadeja','Rahul','Rohit']\n",
        "players[-1:] = ['Dhoni', 'Virat']\n",
        "players[len(players):] = ['Dhoni', 'Virat']\n",
        "print (players)"
      ],
      "metadata": {
        "id": "naEaNFdCaVSE",
        "outputId": "884a08c7-472c-494a-80c5-66288e68c2f0",
        "colab": {
          "base_uri": "https://localhost:8080/"
        }
      },
      "execution_count": null,
      "outputs": [
        {
          "output_type": "stream",
          "name": "stdout",
          "text": [
            "['Jadeja', 'Rahul', 'Dhoni', 'Virat']\n"
          ]
        }
      ]
    },
    {
      "cell_type": "code",
      "source": [
        "players = ['Jadeja','Rahul','Rohit']\n",
        "players[len(players):] = ['Dhoni', 'Virat']\n",
        "print (players)"
      ],
      "metadata": {
        "id": "ep7_RyMFau-i",
        "outputId": "88c6cd85-7235-46a4-e6ef-fde6636cab08",
        "colab": {
          "base_uri": "https://localhost:8080/"
        }
      },
      "execution_count": null,
      "outputs": [
        {
          "output_type": "stream",
          "name": "stdout",
          "text": [
            "['Jadeja', 'Rahul', 'Rohit', 'Dhoni', 'Virat']\n"
          ]
        }
      ]
    },
    {
      "cell_type": "code",
      "source": [
        "players = ['Jadeja','Rahul','Rohit']\n",
        "players+=['Dhoni', 'Virat']\n",
        "print (players)"
      ],
      "metadata": {
        "id": "2DPNQydqa4dV",
        "outputId": "74c8aad4-6815-418a-d8d7-8bf22bc30075",
        "colab": {
          "base_uri": "https://localhost:8080/"
        }
      },
      "execution_count": null,
      "outputs": [
        {
          "output_type": "stream",
          "name": "stdout",
          "text": [
            "['Jadeja', 'Rahul', 'Rohit', 'Dhoni', 'Virat']\n"
          ]
        }
      ]
    },
    {
      "cell_type": "code",
      "source": [
        "word = \"Scaler Data Science Course\"\n",
        "word_list = list(word)\n",
        "print(word_list[7:19])"
      ],
      "metadata": {
        "id": "Pukq2s4cbVFA",
        "outputId": "618506b0-c44e-419c-86f2-56723d9b3588",
        "colab": {
          "base_uri": "https://localhost:8080/"
        }
      },
      "execution_count": null,
      "outputs": [
        {
          "output_type": "stream",
          "name": "stdout",
          "text": [
            "['D', 'a', 't', 'a', ' ', 'S', 'c', 'i', 'e', 'n', 'c', 'e']\n"
          ]
        }
      ]
    },
    {
      "cell_type": "code",
      "source": [
        "list_1 = ['Python' , 24,'Black', False, -8, 'Data']\n",
        "list_2 = [42, 7,'Summer']\n",
        "# check the length of list_2 >>>> a-4\n",
        "print (len(list_2))\n",
        "# concatenate list_1 and list_2 >>>> b-1\n",
        "list_1 + list_2\n",
        "# check the membership of '24' in list_1\n",
        "# repeat the list four times\n",
        "print (list_2 * 4)"
      ],
      "metadata": {
        "id": "RZEWsQfecW1a",
        "outputId": "693b96f6-4b0a-464e-ee4d-fb0bc0979837",
        "colab": {
          "base_uri": "https://localhost:8080/"
        }
      },
      "execution_count": null,
      "outputs": [
        {
          "output_type": "stream",
          "name": "stdout",
          "text": [
            "3\n",
            "[42, 7, 'Summer', 42, 7, 'Summer', 42, 7, 'Summer', 42, 7, 'Summer']\n"
          ]
        }
      ]
    },
    {
      "cell_type": "code",
      "source": [
        "# Sum the Array\n",
        "input_list = [ 1, 2, 3, 4, 5]\n",
        "total = 0\n",
        "for i in input_list:\n",
        "  total = total + i\n",
        "print (total)"
      ],
      "metadata": {
        "id": "zji70NjDdHjR",
        "outputId": "e7422c21-6e2f-46db-a7af-039406569927",
        "colab": {
          "base_uri": "https://localhost:8080/"
        }
      },
      "execution_count": 7,
      "outputs": [
        {
          "output_type": "stream",
          "name": "stdout",
          "text": [
            "15\n"
          ]
        }
      ]
    },
    {
      "cell_type": "code",
      "source": [
        "# Sum the Array - Second method to find sum\n",
        "input_list = [ 1, 2, 3, 4, 5]\n",
        "total = 0\n",
        "for i in range (len(input_list)):\n",
        "  total = total + input_list[i]\n",
        "print (total)"
      ],
      "metadata": {
        "id": "TBAssAutgQZd",
        "outputId": "5eb71e44-56e7-4b41-d1ee-04822b0e8132",
        "colab": {
          "base_uri": "https://localhost:8080/"
        }
      },
      "execution_count": 11,
      "outputs": [
        {
          "output_type": "stream",
          "name": "stdout",
          "text": [
            "15\n"
          ]
        }
      ]
    },
    {
      "cell_type": "code",
      "source": [
        "# Difference of even and odd\n",
        "A = [56, 63, 87, 24, 32, 13, 15, 19, 44, 52]\n",
        "diff = 0\n",
        "odd = 0\n",
        "for i in A:\n",
        "  if i%2==0:\n",
        "    diff = diff + i\n",
        "    \n",
        "    print (\"even_sum\",diff)\n",
        "  else:\n",
        "    odd = odd + i\n",
        "    print (\"odd_sum\",odd)\n",
        "print (diff-odd)\n"
      ],
      "metadata": {
        "id": "sXVY9ql7ieUG",
        "outputId": "e8536d88-84a4-42a2-abc2-dbc6228aa280",
        "colab": {
          "base_uri": "https://localhost:8080/"
        }
      },
      "execution_count": 5,
      "outputs": [
        {
          "output_type": "stream",
          "name": "stdout",
          "text": [
            "even_sum 56\n",
            "odd_sum 63\n",
            "odd_sum 150\n",
            "even_sum 80\n",
            "even_sum 112\n",
            "odd_sum 163\n",
            "odd_sum 178\n",
            "odd_sum 197\n",
            "even_sum 156\n",
            "even_sum 208\n",
            "11\n"
          ]
        }
      ]
    },
    {
      "cell_type": "code",
      "source": [],
      "metadata": {
        "id": "5xIAdGuWfH5W"
      },
      "execution_count": null,
      "outputs": []
    },
    {
      "cell_type": "code",
      "source": [
        "#  Min - Max Difference\n",
        "A = [4, 1, 9, 10, 3]\n",
        "a=max(A)\n",
        "b=min(A)\n",
        "\n",
        "\n",
        "print (a-b)"
      ],
      "metadata": {
        "id": "jKqCOwBXm064",
        "outputId": "ac71787b-1d67-495a-b636-5ea103241a70",
        "colab": {
          "base_uri": "https://localhost:8080/"
        }
      },
      "execution_count": 6,
      "outputs": [
        {
          "output_type": "stream",
          "name": "stdout",
          "text": [
            "9\n"
          ]
        }
      ]
    },
    {
      "cell_type": "code",
      "source": [
        "# inverse the array\n",
        "A = [2, 0, 1]\n",
        "B=[]\n",
        "for i in range (len(A)):\n",
        "  B.append()\n",
        "  print (B)\n"
      ],
      "metadata": {
        "id": "TJBBU5DXZbbA"
      },
      "execution_count": null,
      "outputs": []
    }
  ]
}