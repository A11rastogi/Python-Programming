{
  "nbformat": 4,
  "nbformat_minor": 0,
  "metadata": {
    "colab": {
      "provenance": [],
      "authorship_tag": "ABX9TyOJFkkKJEXVs0E3lsO/jfMB",
      "include_colab_link": true
    },
    "kernelspec": {
      "name": "python3",
      "display_name": "Python 3"
    },
    "language_info": {
      "name": "python"
    }
  },
  "cells": [
    {
      "cell_type": "markdown",
      "metadata": {
        "id": "view-in-github",
        "colab_type": "text"
      },
      "source": [
        "<a href=\"https://colab.research.google.com/github/A11rastogi/Python-Programming/blob/main/Python_Revision.ipynb\" target=\"_parent\"><img src=\"https://colab.research.google.com/assets/colab-badge.svg\" alt=\"Open In Colab\"/></a>"
      ]
    },
    {
      "cell_type": "code",
      "execution_count": null,
      "metadata": {
        "id": "52gmuRXsvkxW"
      },
      "outputs": [],
      "source": [
        "# Data Types\n",
        "String\n",
        "Integer\n",
        "Float\n",
        "Boolean\n",
        "None"
      ]
    },
    {
      "cell_type": "code",
      "source": [
        "# String\n",
        "x = 'a'+ 'b'\n",
        "print (x, type(x))"
      ],
      "metadata": {
        "colab": {
          "base_uri": "https://localhost:8080/"
        },
        "id": "hSn2WO2fyL-R",
        "outputId": "aca1dc44-a329-485d-90d9-3365e65e6b95"
      },
      "execution_count": 3,
      "outputs": [
        {
          "output_type": "stream",
          "name": "stdout",
          "text": [
            "ab <class 'str'>\n"
          ]
        }
      ]
    },
    {
      "cell_type": "code",
      "source": [
        "# Integer\n",
        "x = 5 + 7\n",
        "print (x, type(x))"
      ],
      "metadata": {
        "colab": {
          "base_uri": "https://localhost:8080/"
        },
        "id": "joXAMscpy9TS",
        "outputId": "a651c226-318b-4a08-e708-5857ab99c995"
      },
      "execution_count": 4,
      "outputs": [
        {
          "output_type": "stream",
          "name": "stdout",
          "text": [
            "12 <class 'int'>\n"
          ]
        }
      ]
    },
    {
      "cell_type": "code",
      "source": [
        "# Float\n",
        "x = 5.2 + 10.2\n",
        "print (round(x,1), type(x))"
      ],
      "metadata": {
        "colab": {
          "base_uri": "https://localhost:8080/"
        },
        "id": "gmzCkS5RzNVU",
        "outputId": "ccc9b0f3-4b2f-4fff-c9b8-0cb6daccc592"
      },
      "execution_count": 7,
      "outputs": [
        {
          "output_type": "stream",
          "name": "stdout",
          "text": [
            "15.4 <class 'float'>\n"
          ]
        }
      ]
    },
    {
      "cell_type": "code",
      "source": [
        "# Boolean\n",
        "x = True\n",
        "# Note: python identifies true as \"True\" not \"true\"\n",
        "print (x,type(x))"
      ],
      "metadata": {
        "colab": {
          "base_uri": "https://localhost:8080/"
        },
        "id": "golHxp0Ezq7P",
        "outputId": "1cf0963a-9784-49bf-b099-14ea945704b0"
      },
      "execution_count": 11,
      "outputs": [
        {
          "output_type": "stream",
          "name": "stdout",
          "text": [
            "True <class 'bool'>\n"
          ]
        }
      ]
    },
    {
      "cell_type": "code",
      "source": [
        "# None\n",
        "x = None\n",
        "print (x,type(x))"
      ],
      "metadata": {
        "colab": {
          "base_uri": "https://localhost:8080/"
        },
        "id": "zVJvtaKv0CRN",
        "outputId": "37ba525e-6ed3-4392-d744-f3b22579b53b"
      },
      "execution_count": 12,
      "outputs": [
        {
          "output_type": "stream",
          "name": "stdout",
          "text": [
            "None <class 'NoneType'>\n"
          ]
        }
      ]
    },
    {
      "cell_type": "code",
      "source": [
        "# Seperators\n",
        "Seperator = \",\"\n",
        "print(38, \"Cristiano Ronaldo\", 1.89, True)\n",
        "\n",
        "Seperator = \"_\"\n",
        "print(38, \"Cristiano Ronaldo\", 1.89, True, sep = \"_\")\n",
        "\n",
        "Seperator = \"\"\n",
        "print(38, \"Cristiano Ronaldo\", 1.89, True, sep = \"\")\n",
        "\n",
        "Seperator = \"\\n\" # seperate the content into new line\n",
        "print(38, \"Cristiano Ronaldo\", 1.89, True, sep = \"\\n\")"
      ],
      "metadata": {
        "colab": {
          "base_uri": "https://localhost:8080/"
        },
        "id": "fSNiYmqc1kEh",
        "outputId": "ba7b6843-ab94-459d-d3cd-82a3953c0a3e"
      },
      "execution_count": 17,
      "outputs": [
        {
          "output_type": "stream",
          "name": "stdout",
          "text": [
            "38 Cristiano Ronaldo 1.89 True\n",
            "38_Cristiano Ronaldo_1.89_True\n",
            "38Cristiano Ronaldo1.89True\n",
            "38\n",
            "Cristiano Ronaldo\n",
            "1.89\n",
            "True\n"
          ]
        }
      ]
    },
    {
      "cell_type": "code",
      "source": [
        "# input function stores everything as a string - input()\n",
        "a = input(\"What's your name: \")\n",
        "print (a)"
      ],
      "metadata": {
        "colab": {
          "base_uri": "https://localhost:8080/"
        },
        "id": "1qL46kh110LE",
        "outputId": "9e37af12-561e-4769-fbd7-78db3ae2fff1"
      },
      "execution_count": 24,
      "outputs": [
        {
          "output_type": "stream",
          "name": "stdout",
          "text": [
            "What's your name: Abhinav\n",
            "Abhinav\n"
          ]
        }
      ]
    },
    {
      "cell_type": "code",
      "source": [
        "# Converting input function into int\n",
        "a = int(input(\"Tell me your age: \"))\n",
        "print (a)"
      ],
      "metadata": {
        "colab": {
          "base_uri": "https://localhost:8080/"
        },
        "id": "sqOYWEEg6R3n",
        "outputId": "7921518f-296c-4e70-effa-f9349011261c"
      },
      "execution_count": 26,
      "outputs": [
        {
          "output_type": "stream",
          "name": "stdout",
          "text": [
            "What's your name: 32\n",
            "32\n"
          ]
        }
      ]
    },
    {
      "cell_type": "code",
      "source": [
        "# Operators\n",
        "# Arithmetic operators >> (+  -  /  *)\n",
        "# Comparison operators >> ('>' - greater, '<' - lesser)"
      ],
      "metadata": {
        "id": "hDKPxlPO87OG"
      },
      "execution_count": null,
      "outputs": []
    },
    {
      "cell_type": "code",
      "source": [
        "# division in python always gives float\n",
        "print (5/2)\n",
        "print (5/2, type(5/2))"
      ],
      "metadata": {
        "colab": {
          "base_uri": "https://localhost:8080/"
        },
        "id": "uFRVVr5v-RBo",
        "outputId": "b1ed2fc2-3d02-432f-fdb6-6859842bb230"
      },
      "execution_count": 28,
      "outputs": [
        {
          "output_type": "stream",
          "name": "stdout",
          "text": [
            "2.5\n",
            "2.5 <class 'float'>\n"
          ]
        }
      ]
    },
    {
      "cell_type": "code",
      "source": [
        "print (1+1, 2-2, 4*4)  # In scenario of addition, subtraction, multiplication of int values output will be int values\n",
        "print (2*1.2, 5-2.0, 9-5.0)  # int & float >>>> float"
      ],
      "metadata": {
        "colab": {
          "base_uri": "https://localhost:8080/"
        },
        "id": "uhJCI5Uj_H-d",
        "outputId": "ab637bdc-b77b-4625-ad48-c265c8d249f8"
      },
      "execution_count": 30,
      "outputs": [
        {
          "output_type": "stream",
          "name": "stdout",
          "text": [
            "2 0 16\n",
            "2.4 3.0 4.0\n"
          ]
        }
      ]
    },
    {
      "cell_type": "code",
      "source": [
        "# x**y==x^y (x with power y)\n",
        "print(5**3)\n",
        "x = 2\n",
        "y = 3\n",
        "print (x**y)\n"
      ],
      "metadata": {
        "colab": {
          "base_uri": "https://localhost:8080/"
        },
        "id": "X0BkiKvnA4iM",
        "outputId": "41467dc0-ef91-4b0c-f880-052cab5553c5"
      },
      "execution_count": 33,
      "outputs": [
        {
          "output_type": "stream",
          "name": "stdout",
          "text": [
            "125\n",
            "8\n"
          ]
        }
      ]
    },
    {
      "cell_type": "code",
      "source": [
        "# Square root\n",
        "print (25**(1/2))"
      ],
      "metadata": {
        "colab": {
          "base_uri": "https://localhost:8080/"
        },
        "id": "hAurh50jB6QF",
        "outputId": "8267b85b-d60d-4578-eadd-2839a89ebacf"
      },
      "execution_count": 35,
      "outputs": [
        {
          "output_type": "stream",
          "name": "stdout",
          "text": [
            "5.0\n"
          ]
        }
      ]
    },
    {
      "cell_type": "code",
      "source": [
        "print(3.5**3, 3.5*3.5*3.5) #>>> float * int = float"
      ],
      "metadata": {
        "colab": {
          "base_uri": "https://localhost:8080/"
        },
        "id": "-n_T0812CkXs",
        "outputId": "6d9ef8d2-bca7-494f-e69e-9598001dc689"
      },
      "execution_count": 36,
      "outputs": [
        {
          "output_type": "stream",
          "name": "stdout",
          "text": [
            "42.875 42.875\n"
          ]
        }
      ]
    },
    {
      "cell_type": "code",
      "source": [
        "# Floored Division - removes the decimal and gives integer value\n",
        "# it will give the largest integer equal or smaller than the value\n",
        "print (5/2, 5//2)\n",
        "# '2' in output signifies quotient"
      ],
      "metadata": {
        "colab": {
          "base_uri": "https://localhost:8080/"
        },
        "id": "iHyeM3NnJ54a",
        "outputId": "b26d0793-6811-42b0-d2f3-736130c00264"
      },
      "execution_count": 37,
      "outputs": [
        {
          "output_type": "stream",
          "name": "stdout",
          "text": [
            "2.5 2\n"
          ]
        }
      ]
    },
    {
      "cell_type": "code",
      "source": [
        "# Modulus - Gives the remainder\n",
        "print (5%2)\n",
        "print (75%4)\n",
        "# Use case : Given a positive integer number, find the digit at the unit place\n",
        "num = int(input())\n",
        "print(num%10)"
      ],
      "metadata": {
        "colab": {
          "base_uri": "https://localhost:8080/"
        },
        "id": "IHTfIeQeMjXH",
        "outputId": "196db49f-6081-41f9-c752-01bccb6e3e29"
      },
      "execution_count": 9,
      "outputs": [
        {
          "output_type": "stream",
          "name": "stdout",
          "text": [
            "1\n",
            "3\n",
            "123456\n",
            "6\n"
          ]
        }
      ]
    },
    {
      "cell_type": "code",
      "source": [
        "# Use case of mod & florred division\n",
        "# Question: Given a positive integer number, find the digit at the 100th place\n",
        "num = 1234567\n",
        "num = num%100\n",
        "print(num)\n",
        "num = num//10\n",
        "print(num)"
      ],
      "metadata": {
        "colab": {
          "base_uri": "https://localhost:8080/"
        },
        "id": "y9pySnSacfG3",
        "outputId": "7206acaa-4183-42b1-b129-a43d7815d2b5"
      },
      "execution_count": 10,
      "outputs": [
        {
          "output_type": "stream",
          "name": "stdout",
          "text": [
            "67\n",
            "6\n"
          ]
        }
      ]
    },
    {
      "cell_type": "code",
      "source": [
        "# Typecasting - changing datatype\n",
        "print (int(10.0))\n",
        "print (float(10))\n",
        "print (str(10))\n",
        "print (int('10'))\n",
        "print (bool(1))\n",
        "print (bool(0)) # Bool of \"0\" is always false\n",
        "print (bool(\"Abhinav\"))\n",
        "print (bool(\"\")) # Bool of empty string is always false\n",
        "print (bool(None)) # None is no value - So, bool of None is false"
      ],
      "metadata": {
        "colab": {
          "base_uri": "https://localhost:8080/"
        },
        "id": "Yp4gZMpxa6iP",
        "outputId": "a921c6f3-ece8-45c5-de8d-41a59748e278"
      },
      "execution_count": 51,
      "outputs": [
        {
          "output_type": "stream",
          "name": "stdout",
          "text": [
            "10\n",
            "10.0\n",
            "10\n",
            "10\n",
            "True\n",
            "False\n",
            "True\n",
            "False\n",
            "False\n"
          ]
        }
      ]
    },
    {
      "cell_type": "code",
      "source": [
        "# Comparison of integers\n",
        "print (5>2)\n",
        "print (2>5)\n",
        "print (5==5)\n",
        "print (6>=5)  # x is greater than or equal to y - So, greater than condition met. Hence, result 'True'"
      ],
      "metadata": {
        "colab": {
          "base_uri": "https://localhost:8080/"
        },
        "id": "E4G3bdC4cUfE",
        "outputId": "ca7988bf-8753-4745-9e6e-196208c2ea28"
      },
      "execution_count": 67,
      "outputs": [
        {
          "output_type": "stream",
          "name": "stdout",
          "text": [
            "True\n",
            "False\n",
            "True\n",
            "True\n"
          ]
        }
      ]
    },
    {
      "cell_type": "code",
      "source": [
        "# Comparison of strings\n",
        "print(\"Geek\" < \"geek\")\n",
        "print (ord('G'))\n",
        "print (ord('g'))\n",
        "# Follows this ordinal concept and throws result\n",
        "print(\"Geek\" != \"Geek\")"
      ],
      "metadata": {
        "colab": {
          "base_uri": "https://localhost:8080/"
        },
        "id": "TbMBBGLCfM5u",
        "outputId": "752777b6-8870-4b77-acde-7df790bb4ff1"
      },
      "execution_count": 66,
      "outputs": [
        {
          "output_type": "stream",
          "name": "stdout",
          "text": [
            "True\n",
            "71\n",
            "103\n",
            "False\n"
          ]
        }
      ]
    },
    {
      "cell_type": "code",
      "source": [
        "marks = 50\n",
        "print(marks)\n",
        "marks += 5   # marks = marks +5\n",
        "print(marks) # 55\n",
        "marks *= 2 # marks = marks *2\n",
        "print(marks) # 55*2=110"
      ],
      "metadata": {
        "colab": {
          "base_uri": "https://localhost:8080/"
        },
        "id": "NYaVM1baisVf",
        "outputId": "168506cf-2dbf-46a9-9c7f-4bf32a42f351"
      },
      "execution_count": 68,
      "outputs": [
        {
          "output_type": "stream",
          "name": "stdout",
          "text": [
            "50\n",
            "55\n",
            "110\n"
          ]
        }
      ]
    },
    {
      "cell_type": "code",
      "source": [
        "# x OR y\n",
        "# T OR F = T\n",
        "# T OR T = T\n",
        "# F OR T = T\n",
        "# F OR F = F\n",
        "\n",
        "# x and y\n",
        "# T and F = F\n",
        "# F and F = F\n",
        "# F and T = F\n",
        "# T and T = T\n",
        ""
      ],
      "metadata": {
        "id": "jJ6hyKEFkLK4"
      },
      "execution_count": 69,
      "outputs": []
    },
    {
      "cell_type": "code",
      "source": [
        "# not\n",
        "# not True = False\n",
        "# not False = True\n",
        "print(not True)\n",
        "print(not False)"
      ],
      "metadata": {
        "colab": {
          "base_uri": "https://localhost:8080/"
        },
        "id": "pdLzos0VwC2V",
        "outputId": "ed3f7eda-77ba-4866-d2bf-b03d6dc5be0b"
      },
      "execution_count": 70,
      "outputs": [
        {
          "output_type": "stream",
          "name": "stdout",
          "text": [
            "False\n",
            "True\n"
          ]
        }
      ]
    },
    {
      "cell_type": "code",
      "source": [
        "# If else statements\n",
        "if 50>20:\n",
        "  print ('This is the right calculation')\n",
        "else:\n",
        "  print ('Calculation is wrong')"
      ],
      "metadata": {
        "colab": {
          "base_uri": "https://localhost:8080/"
        },
        "id": "SghVa1ONwg8g",
        "outputId": "97eda5b4-4cb3-4652-b75a-b9c25532a65c"
      },
      "execution_count": 72,
      "outputs": [
        {
          "output_type": "stream",
          "name": "stdout",
          "text": [
            "This is the right calculation\n"
          ]
        }
      ]
    },
    {
      "cell_type": "code",
      "source": [
        "print(\"\"\"\n",
        "Question 1:\n",
        "1. ask the user to give some integer input\n",
        "2. calculate cube of the input integer\n",
        "3. if cube >50:\n",
        "    if yes: say \"that is huge\"\n",
        "    if no: say \"that is tiny\"\n",
        "4. say \"execution COMPLETE\"\n",
        "\"\"\")"
      ],
      "metadata": {
        "id": "VhL8PnC0xvbm"
      },
      "execution_count": null,
      "outputs": []
    },
    {
      "cell_type": "code",
      "source": [
        "n = int(input())\n",
        "cube = n**3\n",
        "if cube >50:\n",
        "    print (\"that is huge\")\n",
        "else:\n",
        "    print ('that is tiny')\n",
        "print (\"execution COMPLETE\")"
      ],
      "metadata": {
        "colab": {
          "base_uri": "https://localhost:8080/"
        },
        "id": "O93_wJcrySPe",
        "outputId": "3642c627-4e94-425d-88b0-15526cfe9dd8"
      },
      "execution_count": 74,
      "outputs": [
        {
          "output_type": "stream",
          "name": "stdout",
          "text": [
            "5\n",
            "that is huge\n",
            "execution COMPLETE\n"
          ]
        }
      ]
    },
    {
      "cell_type": "code",
      "source": [
        "print(\"\"\"\n",
        "Question 2:\n",
        "1: ask the user for a password\n",
        "2: ask the user to re-enter the password\n",
        "3: check if the 2 passwords are same:\n",
        "    yes: say \"passwords are good\"\n",
        "    no: say \"issues with password\"\n",
        "\"\"\")"
      ],
      "metadata": {
        "id": "2uvs1v9Xz9su"
      },
      "execution_count": null,
      "outputs": []
    },
    {
      "cell_type": "code",
      "source": [
        "password = int(input(\"Enter the password: \"))\n",
        "re_password = int(input(\"Re-enter the password: \"))\n",
        "if password == re_password:\n",
        "  print (\"passwords are good\")\n",
        "else:\n",
        "  print (\"issues with password\")"
      ],
      "metadata": {
        "colab": {
          "base_uri": "https://localhost:8080/"
        },
        "id": "ywyz-L6mz_G4",
        "outputId": "a100b17b-138c-435c-a586-1a28681f8ed9"
      },
      "execution_count": 76,
      "outputs": [
        {
          "output_type": "stream",
          "name": "stdout",
          "text": [
            "Enter the password: 11111990\n",
            "Re-enter the password: 11111990\n",
            "passwords are good\n"
          ]
        }
      ]
    },
    {
      "cell_type": "code",
      "source": [
        "password = (input(\"Enter the password: \"))\n",
        "re_password = (input(\"Re-enter the password: \"))\n",
        "if password == re_password:\n",
        "  print (\"passwords are good\")\n",
        "else:\n",
        "  print (\"issues with password\")"
      ],
      "metadata": {
        "colab": {
          "base_uri": "https://localhost:8080/"
        },
        "id": "WEevCs0G1Mmu",
        "outputId": "77715ab0-ffcf-4e0c-9309-de82e50d34d0"
      },
      "execution_count": 77,
      "outputs": [
        {
          "output_type": "stream",
          "name": "stdout",
          "text": [
            "Enter the password: Abhinav\n",
            "Re-enter the password: Abhinav\n",
            "passwords are good\n"
          ]
        }
      ]
    },
    {
      "cell_type": "code",
      "source": [
        "time = 22\n",
        "if time>=9 and time<12:\n",
        "    print(\"Good morning 🛏\")\n",
        "elif time>=12 and time<17:\n",
        "    print(\"Good afternoon 🌞\")\n",
        "elif time>=17 and time<20:\n",
        "    print(\"Good evening ⛅\")\n",
        "else:\n",
        "    print(\"Good night 🌚\")"
      ],
      "metadata": {
        "colab": {
          "base_uri": "https://localhost:8080/"
        },
        "id": "LHXq1Epi32DN",
        "outputId": "bac330df-c407-4b29-e80c-7bccd1cdcd00"
      },
      "execution_count": 78,
      "outputs": [
        {
          "output_type": "stream",
          "name": "stdout",
          "text": [
            "Good night 🌚\n"
          ]
        }
      ]
    },
    {
      "cell_type": "code",
      "source": [
        "# lower function\n",
        "\"this IS my StR\".lower()"
      ],
      "metadata": {
        "colab": {
          "base_uri": "https://localhost:8080/",
          "height": 35
        },
        "id": "OQQgfITB6E_4",
        "outputId": "b9e9f928-8c72-4028-b18b-3f1e0181d8ba"
      },
      "execution_count": 79,
      "outputs": [
        {
          "output_type": "execute_result",
          "data": {
            "text/plain": [
              "'this is my str'"
            ],
            "application/vnd.google.colaboratory.intrinsic+json": {
              "type": "string"
            }
          },
          "metadata": {},
          "execution_count": 79
        }
      ]
    },
    {
      "cell_type": "code",
      "source": [
        "Question 6:\n",
        "FIZZBUZZ\n",
        "1. ask the user for an integer\n",
        "2. if it is divisible by 3--> say FIZZ\n",
        "3. if it is divisible by 5--> say BUZZ\n",
        "3. if it is divisible by 3 as well as 5--> say FIZZBUZZ\n",
        "If not divisible by any of the above, do nothing"
      ],
      "metadata": {
        "id": "K8_ee_NN69VU"
      },
      "execution_count": null,
      "outputs": []
    },
    {
      "cell_type": "code",
      "source": [
        "n = int(input())\n",
        "if n%3 == 0:\n",
        "  print (\"FIZZ\")\n",
        "elif n%5 == 0:\n",
        "  print (\"BUZZ\")\n",
        "elif n%3 == 0 and n%5 == 0:\n",
        "  print (\"FIZZBUZZ\")\n",
        "else:\n",
        "  print (\"nothing\")"
      ],
      "metadata": {
        "colab": {
          "base_uri": "https://localhost:8080/"
        },
        "id": "HarSIYJ56-b_",
        "outputId": "07e2d744-1d77-49c5-ea89-50d07bdd2818"
      },
      "execution_count": 81,
      "outputs": [
        {
          "output_type": "stream",
          "name": "stdout",
          "text": [
            "20\n",
            "BUZZ\n"
          ]
        }
      ]
    },
    {
      "cell_type": "code",
      "source": [
        "a = 50\n",
        "if a > 40:\n",
        "    print(\"A\")\n",
        "if a > 30:\n",
        "    print(\"B\")\n",
        "if a > 20:\n",
        "    print(\"C\")"
      ],
      "metadata": {
        "colab": {
          "base_uri": "https://localhost:8080/"
        },
        "id": "rRq0M7qB8fyl",
        "outputId": "8ccdd270-a007-46c3-cad8-9e846cfa2f6f"
      },
      "execution_count": 82,
      "outputs": [
        {
          "output_type": "stream",
          "name": "stdout",
          "text": [
            "A\n",
            "B\n",
            "C\n"
          ]
        }
      ]
    },
    {
      "cell_type": "code",
      "source": [
        "1. Build a meter system for an auto. Take into two inputs.\n",
        "Kilometers Travelled and Stall Time (in minutes). Rate List -\n",
        "- First 10 kms - Rs 10 per Km\n",
        "- Next 40 kms - Rs 9 per Km\n",
        "- Next 100 kms - Rs 8 per Km\n",
        "- Any leftover km count - Rs. 6 per Km\n",
        "\n",
        "- Rs 5 extra for every minute of Stall Time."
      ],
      "metadata": {
        "id": "fZJ-VCtf-9Cz"
      },
      "execution_count": null,
      "outputs": []
    },
    {
      "cell_type": "code",
      "source": [
        "km = int(input())\n",
        "if km == 10:\n",
        "  km_travelled = km*10\n",
        "elif km <= 50:\n",
        "  km_travelled = 10*10 + (km-10)*9\n",
        "elif km <= 150:\n",
        "  km_travelled = 10*10 + (40)*9 + (km-50)*8\n",
        "else:\n",
        "  km_travelled = 10*10 + (40)*9 + (100)*8 + (Km-150)*6\n",
        "print (km_travelled)"
      ],
      "metadata": {
        "colab": {
          "base_uri": "https://localhost:8080/"
        },
        "id": "QyAdGazN-_VH",
        "outputId": "be19f265-d0d4-491e-bc3e-ab62dd364465"
      },
      "execution_count": 89,
      "outputs": [
        {
          "output_type": "stream",
          "name": "stdout",
          "text": [
            "150\n",
            "1260\n"
          ]
        }
      ]
    },
    {
      "cell_type": "code",
      "source": [
        "# Number System\n",
        "# Decimal - Has base 10\n",
        "# Binary - Has base 2\n",
        "# For instance if we want to convert decimal into binary then divide the number by 2\n",
        "# convert the 50 into binary ---- So, divide the number by 2 --- calculate remainder - (110010)\n",
        "# convert the binary into decimal ----- multiply with the power of 2 and add"
      ],
      "metadata": {
        "id": "-HCWFcVEVcyv"
      },
      "execution_count": 1,
      "outputs": []
    },
    {
      "cell_type": "code",
      "source": [
        "# Range\n",
        "# Brackets: () - not include last digit\n",
        "for i in range (1,9):\n",
        "  print (i, end = \" \")\n",
        "# Brackets: [1,9] - includes all digit starting from 1 till 9\n",
        "# Brackets: [1,9) - includes all digit starting from 1 and excluding 9"
      ],
      "metadata": {
        "colab": {
          "base_uri": "https://localhost:8080/"
        },
        "id": "aolcoPS-WTBo",
        "outputId": "0e31ef0c-946a-4865-9833-7508ee81a0b9"
      },
      "execution_count": 8,
      "outputs": [
        {
          "output_type": "stream",
          "name": "stdout",
          "text": [
            "1 2 3 4 5 6 7 8 "
          ]
        }
      ]
    },
    {
      "cell_type": "code",
      "source": [
        "# While Loop\n",
        "# print the numbers from 1 till 5\n",
        "num =1  # initiate value\n",
        "while num<=100: # condition\n",
        "  print (num, end =\" \")\n",
        "  num = num +5  # incrementing number"
      ],
      "metadata": {
        "colab": {
          "base_uri": "https://localhost:8080/"
        },
        "id": "0ff2NOjhdyTC",
        "outputId": "5f24eb89-cd99-4063-c967-7f55647c3a8a"
      },
      "execution_count": 18,
      "outputs": [
        {
          "output_type": "stream",
          "name": "stdout",
          "text": [
            "1 6 11 16 21 26 31 36 41 46 51 56 61 66 71 76 81 86 91 96 "
          ]
        }
      ]
    },
    {
      "cell_type": "code",
      "source": [
        "'''\n",
        "Question 1 -\n",
        "Take an integer input from the user and print alternate numbers from from 1 to input.\n",
        "Input will be a positive number > 1.\n",
        "\n",
        "INPUT - 7\n",
        "OUTPUT - 1 3 5 7"
      ],
      "metadata": {
        "id": "Us3WGtJQevFK"
      },
      "execution_count": null,
      "outputs": []
    }
  ]
}